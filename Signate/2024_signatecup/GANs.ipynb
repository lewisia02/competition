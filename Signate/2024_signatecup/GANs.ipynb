{
 "cells": [
  {
   "cell_type": "code",
   "execution_count": 1,
   "metadata": {},
   "outputs": [],
   "source": [
    "%load_ext autoreload\n",
    "%autoreload 2"
   ]
  },
  {
   "cell_type": "code",
   "execution_count": 2,
   "metadata": {},
   "outputs": [],
   "source": [
    "def make_submitfile(submit_date = \"0815\",filename = \"submission\", version = \"00\", data = []):\n",
    "    submit = pd.read_csv(\"data/sample_submit.csv\", header=None)\n",
    "    # 提出ファイルの2列目を予測値で置き換えます。\n",
    "    submit[1] = data\n",
    "    submit.to_csv(f\"output/{submit_date}{filename}_{version}.csv\", index=False, header=None)"
   ]
  },
  {
   "cell_type": "code",
   "execution_count": 3,
   "metadata": {
    "id": "zWyUNOHpYqmb"
   },
   "outputs": [],
   "source": [
    "from IPython.display import clear_output\n",
    "\n",
    "# ライブラリのimportを行います\n",
    "import pandas as pd\n",
    "import numpy as np\n",
    "import matplotlib.pyplot as plt\n",
    "import japanize_matplotlib\n",
    "import seaborn as sns\n",
    "import json\n",
    "\n",
    "import re\n",
    "import unicodedata\n",
    "from kanjize import kanji2number\n",
    "import category_encoders as ce\n",
    "from sklearn.preprocessing import LabelEncoder\n",
    "\n",
    "\n",
    "from sklearn.model_selection import KFold\n",
    "from sklearn.model_selection import train_test_split\n",
    "from sklearn.model_selection import StratifiedKFold\n",
    "from sklearn.metrics import roc_auc_score\n",
    "from sklearn.metrics import f1_score\n",
    "\n",
    "from sklearn.preprocessing import StandardScaler\n",
    "from sklearn.decomposition import PCA\n",
    "\n",
    "import lightgbm as lgb\n",
    "import logging\n",
    "logging.getLogger(\"lightgbm\").setLevel(logging.WARNING)\n",
    "from sklearn.metrics import accuracy_score\n",
    "\n",
    "from imblearn.under_sampling import RandomUnderSampler\n",
    "from tqdm.auto import tqdm"
   ]
  },
  {
   "cell_type": "code",
   "execution_count": 4,
   "metadata": {},
   "outputs": [],
   "source": [
    "import src.preprocess as pre\n",
    "import src.feature_selection as fs\n",
    "import src.stacking as stacking\n",
    "import src.classification_models as models"
   ]
  },
  {
   "cell_type": "code",
   "execution_count": 5,
   "metadata": {},
   "outputs": [],
   "source": [
    "class RESULT_class:\n",
    "    def __init__(self):\n",
    "        self.RESULT = pd.DataFrame()\n",
    "\n",
    "    def addResult(self, model_name,\n",
    "                  feature_selection,\n",
    "                  under_sampling,\n",
    "                  PCAd,\n",
    "                  columns,\n",
    "                  skf_num,\n",
    "                  skf_rand,\n",
    "                  score,\n",
    "                  oof_valid,\n",
    "                  oof_test,\n",
    "                  date = \"0821\"):\n",
    "\n",
    "        tmp = pd.DataFrame([[model_name,feature_selection,under_sampling,PCAd,columns,skf_num,skf_rand,score,oof_valid,oof_test,date]])\n",
    "        tmp.columns = [\"model_name\",\"feature_selection\",\"under_sampling\",\"PCA(d)\",\"columns\",\"skf_num\",\"skf_rand\",\"score\",\"oof_valid\",\"oof_test\",\"date\"]\n",
    "        print(len(self.RESULT))\n",
    "        if len(self.RESULT)>0:\n",
    "            self.RESULT = pd.concat([self.RESULT, tmp])\n",
    "        else:\n",
    "            self.RESULT = tmp\n",
    "\n",
    "Rc = RESULT_class()"
   ]
  },
  {
   "cell_type": "markdown",
   "metadata": {},
   "source": [
    "# Dataload"
   ]
  },
  {
   "cell_type": "code",
   "execution_count": 6,
   "metadata": {
    "id": "dk2Tvn4MYqmf"
   },
   "outputs": [],
   "source": [
    "train = pd.read_csv(\"data/train.csv\")\n",
    "test = pd.read_csv(\"data/test.csv\")"
   ]
  },
  {
   "cell_type": "code",
   "execution_count": 7,
   "metadata": {},
   "outputs": [],
   "source": [
    "df_dict = {\"train\":train.copy(),\n",
    "           \"synthetic\":train.copy(),\n",
    "          \"test\":test.copy()}"
   ]
  },
  {
   "cell_type": "markdown",
   "metadata": {
    "id": "QV8RKhE8E-ir"
   },
   "source": [
    "- id: 営業リストの顧客ID\n",
    "- Age: 顧客の年齢\n",
    "- TypeofContact: 顧客への連絡方法\n",
    "- CityTier: 都市層(1>2>3)\n",
    "- DurationOfPitch: 営業担当者による顧客への売り込み時間\n",
    "- Occupation: 顧客のご職業\n",
    "- Gender: 顧客の性別\n",
    "- NumberOfPersonVisiting: 一緒に旅行を予定している人数の合計\n",
    "- NumberOfFollowups: セールストーク後に営業担当者が行ったフォローアップの合計数\n",
    "- ProductPitched: 営業担当者による商品の売り込み\n",
    "- PreferredPropertyStar: 顧客によるホテル施設の優先評価\n",
    "- NumberOfTrips: 顧客の年間旅行数\n",
    "- Passport: パスポートの所持\n",
    "- PitchSatisfactionScore: 売り込みの満足度スコア\n",
    "- Designation: 現在の組織における顧客の指定\n",
    "- MonthlyIncome: 顧客の月収\n",
    "- customer_info: 顧客の情報のメモ(婚姻状況や車の有無、旅行の子どもの同伴の有無について記載されている)\n",
    "- ProdTaken: 目的変数"
   ]
  },
  {
   "cell_type": "code",
   "execution_count": 8,
   "metadata": {
    "colab": {
     "base_uri": "https://localhost:8080/"
    },
    "id": "7yqgSUbKE-is",
    "outputId": "21418101-b08c-465d-a735-e636cbd3aeec"
   },
   "outputs": [
    {
     "name": "stdout",
     "output_type": "stream",
     "text": [
      "(3489, 18)\n",
      "(3489, 17)\n"
     ]
    }
   ],
   "source": [
    "print(train.shape)\n",
    "print(test.shape)"
   ]
  },
  {
   "cell_type": "markdown",
   "metadata": {},
   "source": [
    "# 基本変換"
   ]
  },
  {
   "cell_type": "code",
   "execution_count": 9,
   "metadata": {},
   "outputs": [],
   "source": [
    "# 似た文字のマッピング辞書\n",
    "char_map = {\n",
    "    'ς': 'c',\n",
    "    'а': 'a', 'А': 'A','α':'a',\n",
    "    'е': 'e', 'Е': 'E',\n",
    "    'о': 'o', 'О': 'O',\n",
    "    'с': 'c', 'С': 'C',\n",
    "    'р': 'p', 'Р': 'P',\n",
    "    'υ': 'y', 'Υ': 'Y',\n",
    "    'ꓢ': 'S', 'ꓤ': 'R',\n",
    "    'Ѕ': 'S','ѕ':'s',\n",
    "    'Ꭰ': 'D', 'ᗞ': 'D', 'ꭰ': 'D', '𝙳': 'D',\n",
    "    'Տ': 'S',\n",
    "    '𝖺': 'a', '𝘤': 'c', '𝔡': 'd',\n",
    "    '𐊡': 'B', 'в':'B','β':'B',\n",
    "    'μ':'m',\n",
    "    'ε':'E',\n",
    "    'K':'K',\n",
    "    'ı':'i',\n",
    "    'n':'n','ո':'n',\n",
    "    'ｓ': 's', 'տ':'s','ι':'i',\n",
    "    '×': 'x'\n",
    "}\n",
    "\n",
    "# 特定の文字列を正規化するための辞書\n",
    "pattern_map = {\n",
    "    r'(?i)basic': 'Basic',\n",
    "    r'(?i)standard': 'Standard',\n",
    "    r'(?i)super deluxe': 'Super Deluxe',\n",
    "    r'(?i)deluxe': 'Deluxe',\n",
    "    r'(?i)king': 'King',\n",
    "    r'(?i)de\\|uxe': 'Deluxe',\n",
    "}"
   ]
  },
  {
   "cell_type": "code",
   "execution_count": 10,
   "metadata": {},
   "outputs": [],
   "source": [
    "for kind in [\"train\",\"test\"]:\n",
    "    df_dict[kind][\"Age\"] = df_dict[kind][\"Age\"].map(lambda x:pre.Age(x))\n",
    "    df_dict[kind][\"Age\"] = df_dict[kind][\"Age\"].map(lambda x: pre.age_distribution(df_dict[kind], x) if x < 0 else x)\n",
    "    df_dict[kind][\"DurationOfPitch\"] = df_dict[kind][\"DurationOfPitch\"].map(lambda x:pre.DurationOfPitch(x))\n",
    "    df_dict[kind][\"Gender\"] = df_dict[kind][\"Gender\"].map(lambda x:pre.Gender(x))\n",
    "    df_dict[kind][\"ProductPitched\"] = df_dict[kind][\"ProductPitched\"].map(lambda x:pre.ProductPitched(x, char_map, pattern_map))\n",
    "    df_dict[kind][\"NumberOfTrips\"] = df_dict[kind][\"NumberOfTrips\"].map(lambda x:pre.NumberOfTrips(x))\n",
    "    df_dict[kind][\"Designation\"] = df_dict[kind][\"Designation\"].map(lambda x:pre.ProductPitched(x, char_map, pattern_map))\n",
    "    df_dict[kind][\"MonthlyIncome\"] = df_dict[kind][\"MonthlyIncome\"].map(lambda x:pre.MonthlyIncome(x)).astype(float)\n",
    "    df_dict[kind][\"MonthlyIncome\"] = df_dict[kind][\"MonthlyIncome\"].map(lambda x: pre.Income_distribution(df_dict[kind], x) if x % 1000 == 0 else x)\n",
    "    df_dict[kind][\"NumberOfFollowups\"] = df_dict[kind][\"NumberOfFollowups\"].map(lambda x:pre.NumberOfFollowups(x)).astype(float)\n",
    "    df_dict[kind] = pre.customer_info(df_dict[kind]).drop([\"customer_info\"],axis=1)"
   ]
  },
  {
   "cell_type": "markdown",
   "metadata": {},
   "source": [
    "# Gans"
   ]
  },
  {
   "cell_type": "code",
   "execution_count": 11,
   "metadata": {},
   "outputs": [],
   "source": [
    "# SDV\n",
    "from sdv.single_table import CTGANSynthesizer\n",
    "from sdv.metadata import SingleTableMetadata\n",
    "# 診断用\n",
    "from sdv.evaluation.single_table import run_diagnostic\n",
    "from sdv.evaluation.single_table import evaluate_quality\n",
    "from sdv.evaluation.single_table import get_column_plot"
   ]
  },
  {
   "cell_type": "code",
   "execution_count": 12,
   "metadata": {},
   "outputs": [],
   "source": [
    "# データフレームからメタデータを自動抽出\n",
    "metadata = SingleTableMetadata()\n",
    "metadata.detect_from_dataframe(df_dict[\"train\"])\n",
    "metadata.update_column(column_name=\"CityTier\",sdtype=\"categorical\")"
   ]
  },
  {
   "cell_type": "code",
   "execution_count": 13,
   "metadata": {},
   "outputs": [
    {
     "name": "stderr",
     "output_type": "stream",
     "text": [
      "C:\\Users\\ctiha\\AppData\\Local\\Programs\\Python\\Python311\\Lib\\site-packages\\sdv\\single_table\\base.py:97: UserWarning: We strongly recommend saving the metadata using 'save_to_json' for replicability in future SDV versions.\n",
      "  warnings.warn(\n",
      "Gen. (-1.27) | Discrim. (-0.25): 100%|█████████████████████████████████████████████| 1000/1000 [06:56<00:00,  2.40it/s]\n"
     ]
    }
   ],
   "source": [
    "# インスタンス生成\n",
    "ctgan = CTGANSynthesizer(metadata,epochs=1000,verbose=True) \n",
    "# 学習\n",
    "ctgan.fit(df_dict[\"train\"])"
   ]
  },
  {
   "cell_type": "code",
   "execution_count": 14,
   "metadata": {},
   "outputs": [
    {
     "data": {
      "text/html": [
       "<div>\n",
       "<style scoped>\n",
       "    .dataframe tbody tr th:only-of-type {\n",
       "        vertical-align: middle;\n",
       "    }\n",
       "\n",
       "    .dataframe tbody tr th {\n",
       "        vertical-align: top;\n",
       "    }\n",
       "\n",
       "    .dataframe thead th {\n",
       "        text-align: right;\n",
       "    }\n",
       "</style>\n",
       "<table border=\"1\" class=\"dataframe\">\n",
       "  <thead>\n",
       "    <tr style=\"text-align: right;\">\n",
       "      <th></th>\n",
       "      <th>id</th>\n",
       "      <th>Age</th>\n",
       "      <th>TypeofContact</th>\n",
       "      <th>CityTier</th>\n",
       "      <th>DurationOfPitch</th>\n",
       "      <th>Occupation</th>\n",
       "      <th>Gender</th>\n",
       "      <th>NumberOfPersonVisiting</th>\n",
       "      <th>NumberOfFollowups</th>\n",
       "      <th>ProductPitched</th>\n",
       "      <th>PreferredPropertyStar</th>\n",
       "      <th>NumberOfTrips</th>\n",
       "      <th>Passport</th>\n",
       "      <th>PitchSatisfactionScore</th>\n",
       "      <th>Designation</th>\n",
       "      <th>MonthlyIncome</th>\n",
       "      <th>ProdTaken</th>\n",
       "      <th>marriage</th>\n",
       "      <th>car</th>\n",
       "      <th>child</th>\n",
       "    </tr>\n",
       "  </thead>\n",
       "  <tbody>\n",
       "    <tr>\n",
       "      <th>0</th>\n",
       "      <td>807994768</td>\n",
       "      <td>60.0</td>\n",
       "      <td>Company Invited</td>\n",
       "      <td>2</td>\n",
       "      <td>9.0</td>\n",
       "      <td>Small Business</td>\n",
       "      <td>male</td>\n",
       "      <td>3.0</td>\n",
       "      <td>5.0</td>\n",
       "      <td>standard</td>\n",
       "      <td>3.0</td>\n",
       "      <td>2.0</td>\n",
       "      <td>0</td>\n",
       "      <td>1</td>\n",
       "      <td>senior manager</td>\n",
       "      <td>441593.0</td>\n",
       "      <td>0</td>\n",
       "      <td>未婚</td>\n",
       "      <td>車未所有</td>\n",
       "      <td>2.0</td>\n",
       "    </tr>\n",
       "    <tr>\n",
       "      <th>1</th>\n",
       "      <td>746439230</td>\n",
       "      <td>33.0</td>\n",
       "      <td>Company Invited</td>\n",
       "      <td>3</td>\n",
       "      <td>14.0</td>\n",
       "      <td>Large Business</td>\n",
       "      <td>female</td>\n",
       "      <td>1.0</td>\n",
       "      <td>3.0</td>\n",
       "      <td>basic</td>\n",
       "      <td>4.0</td>\n",
       "      <td>1.0</td>\n",
       "      <td>0</td>\n",
       "      <td>4</td>\n",
       "      <td>executive</td>\n",
       "      <td>257463.0</td>\n",
       "      <td>0</td>\n",
       "      <td>未婚</td>\n",
       "      <td>車未所有</td>\n",
       "      <td>0.0</td>\n",
       "    </tr>\n",
       "    <tr>\n",
       "      <th>2</th>\n",
       "      <td>201363792</td>\n",
       "      <td>42.0</td>\n",
       "      <td>Self Enquiry</td>\n",
       "      <td>2</td>\n",
       "      <td>13.0</td>\n",
       "      <td>Small Business</td>\n",
       "      <td>female</td>\n",
       "      <td>2.0</td>\n",
       "      <td>4.0</td>\n",
       "      <td>standard</td>\n",
       "      <td>4.0</td>\n",
       "      <td>2.0</td>\n",
       "      <td>0</td>\n",
       "      <td>1</td>\n",
       "      <td>senior manager</td>\n",
       "      <td>398940.0</td>\n",
       "      <td>1</td>\n",
       "      <td>未婚</td>\n",
       "      <td>車未所有</td>\n",
       "      <td>0.0</td>\n",
       "    </tr>\n",
       "    <tr>\n",
       "      <th>3</th>\n",
       "      <td>364823003</td>\n",
       "      <td>32.0</td>\n",
       "      <td>Company Invited</td>\n",
       "      <td>1</td>\n",
       "      <td>14.0</td>\n",
       "      <td>Large Business</td>\n",
       "      <td>female</td>\n",
       "      <td>2.0</td>\n",
       "      <td>3.0</td>\n",
       "      <td>standard</td>\n",
       "      <td>4.0</td>\n",
       "      <td>2.0</td>\n",
       "      <td>1</td>\n",
       "      <td>2</td>\n",
       "      <td>senior manager</td>\n",
       "      <td>337741.0</td>\n",
       "      <td>1</td>\n",
       "      <td>未婚</td>\n",
       "      <td>車未所有</td>\n",
       "      <td>0.0</td>\n",
       "    </tr>\n",
       "    <tr>\n",
       "      <th>4</th>\n",
       "      <td>726973888</td>\n",
       "      <td>41.0</td>\n",
       "      <td>Self Enquiry</td>\n",
       "      <td>2</td>\n",
       "      <td>15.0</td>\n",
       "      <td>Small Business</td>\n",
       "      <td>male</td>\n",
       "      <td>2.0</td>\n",
       "      <td>NaN</td>\n",
       "      <td>deluxe</td>\n",
       "      <td>3.0</td>\n",
       "      <td>3.0</td>\n",
       "      <td>0</td>\n",
       "      <td>3</td>\n",
       "      <td>manager</td>\n",
       "      <td>303355.0</td>\n",
       "      <td>0</td>\n",
       "      <td>結婚済み</td>\n",
       "      <td>車未所有</td>\n",
       "      <td>1.0</td>\n",
       "    </tr>\n",
       "  </tbody>\n",
       "</table>\n",
       "</div>"
      ],
      "text/plain": [
       "          id   Age    TypeofContact  CityTier  DurationOfPitch  \\\n",
       "0  807994768  60.0  Company Invited         2              9.0   \n",
       "1  746439230  33.0  Company Invited         3             14.0   \n",
       "2  201363792  42.0     Self Enquiry         2             13.0   \n",
       "3  364823003  32.0  Company Invited         1             14.0   \n",
       "4  726973888  41.0     Self Enquiry         2             15.0   \n",
       "\n",
       "       Occupation  Gender  NumberOfPersonVisiting  NumberOfFollowups  \\\n",
       "0  Small Business    male                     3.0                5.0   \n",
       "1  Large Business  female                     1.0                3.0   \n",
       "2  Small Business  female                     2.0                4.0   \n",
       "3  Large Business  female                     2.0                3.0   \n",
       "4  Small Business    male                     2.0                NaN   \n",
       "\n",
       "  ProductPitched  PreferredPropertyStar  NumberOfTrips  Passport  \\\n",
       "0       standard                    3.0            2.0         0   \n",
       "1          basic                    4.0            1.0         0   \n",
       "2       standard                    4.0            2.0         0   \n",
       "3       standard                    4.0            2.0         1   \n",
       "4         deluxe                    3.0            3.0         0   \n",
       "\n",
       "   PitchSatisfactionScore     Designation  MonthlyIncome  ProdTaken marriage  \\\n",
       "0                       1  senior manager       441593.0          0       未婚   \n",
       "1                       4       executive       257463.0          0       未婚   \n",
       "2                       1  senior manager       398940.0          1       未婚   \n",
       "3                       2  senior manager       337741.0          1       未婚   \n",
       "4                       3         manager       303355.0          0     結婚済み   \n",
       "\n",
       "    car  child  \n",
       "0  車未所有    2.0  \n",
       "1  車未所有    0.0  \n",
       "2  車未所有    0.0  \n",
       "3  車未所有    0.0  \n",
       "4  車未所有    1.0  "
      ]
     },
     "execution_count": 14,
     "metadata": {},
     "output_type": "execute_result"
    }
   ],
   "source": [
    "synthetic_data = ctgan.sample(100000)\n",
    "# 生成したデータを確認\n",
    "synthetic_data.head()"
   ]
  },
  {
   "cell_type": "code",
   "execution_count": 15,
   "metadata": {},
   "outputs": [
    {
     "name": "stdout",
     "output_type": "stream",
     "text": [
      "Generating report ...\n",
      "\n",
      "(1/2) Evaluating Data Validity: |████████████████████████████████████████████████████| 20/20 [00:00<00:00, 512.38it/s]|\n",
      "Data Validity Score: 85.8%\n",
      "\n",
      "(2/2) Evaluating Data Structure: |█████████████████████████████████████████████████████| 1/1 [00:00<00:00, 998.88it/s]|\n",
      "Data Structure Score: 80.95%\n",
      "\n",
      "Overall Score (Average): 83.37%\n",
      "\n"
     ]
    }
   ],
   "source": [
    "diagnostic_report = run_diagnostic(\n",
    "    real_data=train,\n",
    "    synthetic_data=synthetic_data,\n",
    "    metadata=metadata)"
   ]
  },
  {
   "cell_type": "code",
   "execution_count": 16,
   "metadata": {},
   "outputs": [],
   "source": [
    "#diagnostic_report.get_details(property_name='Coverage')"
   ]
  },
  {
   "cell_type": "code",
   "execution_count": 17,
   "metadata": {},
   "outputs": [
    {
     "name": "stdout",
     "output_type": "stream",
     "text": [
      "Generating report ...\n",
      "\n",
      "(1/2) Evaluating Column Shapes: |████████████████████████████████████████████████████| 20/20 [00:00<00:00, 123.35it/s]|\n",
      "Column Shapes Score: 90.55%\n",
      "\n",
      "(2/2) Evaluating Column Pair Trends: |██████████████████████████████████████████████| 190/190 [00:05<00:00, 33.44it/s]|\n",
      "Column Pair Trends Score: 85.33%\n",
      "\n",
      "Overall Score (Average): 87.94%\n",
      "\n"
     ]
    }
   ],
   "source": [
    "quality_report = evaluate_quality(\n",
    "    real_data=df_dict[\"train\"],\n",
    "    synthetic_data=synthetic_data,\n",
    "    metadata=metadata)"
   ]
  },
  {
   "cell_type": "code",
   "execution_count": 18,
   "metadata": {},
   "outputs": [
    {
     "data": {
      "text/html": [
       "<div>\n",
       "<style scoped>\n",
       "    .dataframe tbody tr th:only-of-type {\n",
       "        vertical-align: middle;\n",
       "    }\n",
       "\n",
       "    .dataframe tbody tr th {\n",
       "        vertical-align: top;\n",
       "    }\n",
       "\n",
       "    .dataframe thead th {\n",
       "        text-align: right;\n",
       "    }\n",
       "</style>\n",
       "<table border=\"1\" class=\"dataframe\">\n",
       "  <thead>\n",
       "    <tr style=\"text-align: right;\">\n",
       "      <th></th>\n",
       "      <th>Column</th>\n",
       "      <th>Metric</th>\n",
       "      <th>Score</th>\n",
       "    </tr>\n",
       "  </thead>\n",
       "  <tbody>\n",
       "    <tr>\n",
       "      <th>0</th>\n",
       "      <td>Age</td>\n",
       "      <td>KSComplement</td>\n",
       "      <td>0.902094</td>\n",
       "    </tr>\n",
       "    <tr>\n",
       "      <th>1</th>\n",
       "      <td>TypeofContact</td>\n",
       "      <td>TVComplement</td>\n",
       "      <td>0.846306</td>\n",
       "    </tr>\n",
       "    <tr>\n",
       "      <th>2</th>\n",
       "      <td>CityTier</td>\n",
       "      <td>TVComplement</td>\n",
       "      <td>0.937822</td>\n",
       "    </tr>\n",
       "    <tr>\n",
       "      <th>3</th>\n",
       "      <td>DurationOfPitch</td>\n",
       "      <td>KSComplement</td>\n",
       "      <td>0.874748</td>\n",
       "    </tr>\n",
       "    <tr>\n",
       "      <th>4</th>\n",
       "      <td>Occupation</td>\n",
       "      <td>TVComplement</td>\n",
       "      <td>0.845442</td>\n",
       "    </tr>\n",
       "    <tr>\n",
       "      <th>5</th>\n",
       "      <td>Gender</td>\n",
       "      <td>TVComplement</td>\n",
       "      <td>0.909276</td>\n",
       "    </tr>\n",
       "    <tr>\n",
       "      <th>6</th>\n",
       "      <td>NumberOfPersonVisiting</td>\n",
       "      <td>TVComplement</td>\n",
       "      <td>0.963970</td>\n",
       "    </tr>\n",
       "    <tr>\n",
       "      <th>7</th>\n",
       "      <td>NumberOfFollowups</td>\n",
       "      <td>TVComplement</td>\n",
       "      <td>0.875719</td>\n",
       "    </tr>\n",
       "    <tr>\n",
       "      <th>8</th>\n",
       "      <td>ProductPitched</td>\n",
       "      <td>TVComplement</td>\n",
       "      <td>0.974126</td>\n",
       "    </tr>\n",
       "    <tr>\n",
       "      <th>9</th>\n",
       "      <td>PreferredPropertyStar</td>\n",
       "      <td>TVComplement</td>\n",
       "      <td>0.935466</td>\n",
       "    </tr>\n",
       "    <tr>\n",
       "      <th>10</th>\n",
       "      <td>NumberOfTrips</td>\n",
       "      <td>TVComplement</td>\n",
       "      <td>0.897629</td>\n",
       "    </tr>\n",
       "    <tr>\n",
       "      <th>11</th>\n",
       "      <td>Passport</td>\n",
       "      <td>TVComplement</td>\n",
       "      <td>0.959812</td>\n",
       "    </tr>\n",
       "    <tr>\n",
       "      <th>12</th>\n",
       "      <td>PitchSatisfactionScore</td>\n",
       "      <td>TVComplement</td>\n",
       "      <td>0.821167</td>\n",
       "    </tr>\n",
       "    <tr>\n",
       "      <th>13</th>\n",
       "      <td>Designation</td>\n",
       "      <td>TVComplement</td>\n",
       "      <td>0.971254</td>\n",
       "    </tr>\n",
       "    <tr>\n",
       "      <th>14</th>\n",
       "      <td>MonthlyIncome</td>\n",
       "      <td>KSComplement</td>\n",
       "      <td>0.922187</td>\n",
       "    </tr>\n",
       "    <tr>\n",
       "      <th>15</th>\n",
       "      <td>ProdTaken</td>\n",
       "      <td>TVComplement</td>\n",
       "      <td>0.954738</td>\n",
       "    </tr>\n",
       "    <tr>\n",
       "      <th>16</th>\n",
       "      <td>marriage</td>\n",
       "      <td>TVComplement</td>\n",
       "      <td>0.882239</td>\n",
       "    </tr>\n",
       "    <tr>\n",
       "      <th>17</th>\n",
       "      <td>car</td>\n",
       "      <td>TVComplement</td>\n",
       "      <td>0.883338</td>\n",
       "    </tr>\n",
       "    <tr>\n",
       "      <th>18</th>\n",
       "      <td>child</td>\n",
       "      <td>TVComplement</td>\n",
       "      <td>0.846644</td>\n",
       "    </tr>\n",
       "  </tbody>\n",
       "</table>\n",
       "</div>"
      ],
      "text/plain": [
       "                    Column        Metric     Score\n",
       "0                      Age  KSComplement  0.902094\n",
       "1            TypeofContact  TVComplement  0.846306\n",
       "2                 CityTier  TVComplement  0.937822\n",
       "3          DurationOfPitch  KSComplement  0.874748\n",
       "4               Occupation  TVComplement  0.845442\n",
       "5                   Gender  TVComplement  0.909276\n",
       "6   NumberOfPersonVisiting  TVComplement  0.963970\n",
       "7        NumberOfFollowups  TVComplement  0.875719\n",
       "8           ProductPitched  TVComplement  0.974126\n",
       "9    PreferredPropertyStar  TVComplement  0.935466\n",
       "10           NumberOfTrips  TVComplement  0.897629\n",
       "11                Passport  TVComplement  0.959812\n",
       "12  PitchSatisfactionScore  TVComplement  0.821167\n",
       "13             Designation  TVComplement  0.971254\n",
       "14           MonthlyIncome  KSComplement  0.922187\n",
       "15               ProdTaken  TVComplement  0.954738\n",
       "16                marriage  TVComplement  0.882239\n",
       "17                     car  TVComplement  0.883338\n",
       "18                   child  TVComplement  0.846644"
      ]
     },
     "execution_count": 18,
     "metadata": {},
     "output_type": "execute_result"
    }
   ],
   "source": [
    "quality_report.get_details(property_name='Column Shapes')"
   ]
  },
  {
   "cell_type": "code",
   "execution_count": 19,
   "metadata": {},
   "outputs": [
    {
     "data": {
      "text/html": [
       "<iframe\n",
       "    scrolling=\"no\"\n",
       "    width=\"100%\"\n",
       "    height=\"545px\"\n",
       "    src=\"iframe_figures/figure_19.html\"\n",
       "    frameborder=\"0\"\n",
       "    allowfullscreen\n",
       "></iframe>\n"
      ]
     },
     "metadata": {},
     "output_type": "display_data"
    }
   ],
   "source": [
    "fig = get_column_plot(\n",
    "    real_data=df_dict[\"train\"],\n",
    "    synthetic_data=synthetic_data,\n",
    "    column_name='Age',\n",
    "    metadata=metadata\n",
    ")\n",
    "    \n",
    "fig.show()"
   ]
  },
  {
   "cell_type": "code",
   "execution_count": 20,
   "metadata": {},
   "outputs": [
    {
     "data": {
      "text/html": [
       "<iframe\n",
       "    scrolling=\"no\"\n",
       "    width=\"100%\"\n",
       "    height=\"545px\"\n",
       "    src=\"iframe_figures/figure_20.html\"\n",
       "    frameborder=\"0\"\n",
       "    allowfullscreen\n",
       "></iframe>\n"
      ]
     },
     "metadata": {},
     "output_type": "display_data"
    }
   ],
   "source": [
    "fig = get_column_plot(\n",
    "    real_data=df_dict[\"train\"],\n",
    "    synthetic_data=synthetic_data,\n",
    "    column_name='ProdTaken',\n",
    "    metadata=metadata\n",
    ")\n",
    "    \n",
    "fig.show()"
   ]
  },
  {
   "cell_type": "code",
   "execution_count": 21,
   "metadata": {},
   "outputs": [],
   "source": [
    "df_dict[\"synthetic\"] = synthetic_data"
   ]
  }
 ],
 "metadata": {
  "colab": {
   "provenance": []
  },
  "kernelspec": {
   "display_name": "Python 3 (ipykernel)",
   "language": "python",
   "name": "python3"
  },
  "language_info": {
   "codemirror_mode": {
    "name": "ipython",
    "version": 3
   },
   "file_extension": ".py",
   "mimetype": "text/x-python",
   "name": "python",
   "nbconvert_exporter": "python",
   "pygments_lexer": "ipython3",
   "version": "3.11.6"
  }
 },
 "nbformat": 4,
 "nbformat_minor": 4
}
