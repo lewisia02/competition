{
 "cells": [
  {
   "cell_type": "code",
   "execution_count": 1,
   "metadata": {},
   "outputs": [],
   "source": [
    "%load_ext autoreload\n",
    "%autoreload 2"
   ]
  },
  {
   "cell_type": "code",
   "execution_count": 2,
   "metadata": {
    "id": "zWyUNOHpYqmb"
   },
   "outputs": [
    {
     "name": "stderr",
     "output_type": "stream",
     "text": [
      "C:\\Users\\ctiha\\Desktop\\compatition\\AutoML_LAMA\\Lib\\site-packages\\tqdm\\auto.py:21: TqdmWarning: IProgress not found. Please update jupyter and ipywidgets. See https://ipywidgets.readthedocs.io/en/stable/user_install.html\n",
      "  from .autonotebook import tqdm as notebook_tqdm\n"
     ]
    },
    {
     "name": "stdout",
     "output_type": "stream",
     "text": [
      "'nlp' extra dependecy package 'gensim' isn't installed. Look at README.md in repo 'LightAutoML' for installation instructions.\n",
      "'nlp' extra dependecy package 'nltk' isn't installed. Look at README.md in repo 'LightAutoML' for installation instructions.\n",
      "'nlp' extra dependecy package 'transformers' isn't installed. Look at README.md in repo 'LightAutoML' for installation instructions.\n",
      "'nlp' extra dependecy package 'gensim' isn't installed. Look at README.md in repo 'LightAutoML' for installation instructions.\n",
      "'nlp' extra dependecy package 'nltk' isn't installed. Look at README.md in repo 'LightAutoML' for installation instructions.\n",
      "'nlp' extra dependecy package 'transformers' isn't installed. Look at README.md in repo 'LightAutoML' for installation instructions.\n"
     ]
    },
    {
     "name": "stderr",
     "output_type": "stream",
     "text": [
      "C:\\Users\\ctiha\\Desktop\\compatition\\AutoML_LAMA\\Lib\\site-packages\\lightautoml\\ml_algo\\dl_model.py:42: UserWarning: 'transformers' - package isn't installed\n",
      "  warnings.warn(\"'transformers' - package isn't installed\")\n",
      "C:\\Users\\ctiha\\Desktop\\compatition\\AutoML_LAMA\\Lib\\site-packages\\lightautoml\\text\\embed.py:22: UserWarning: 'transformers' - package isn't installed\n",
      "  warnings.warn(\"'transformers' - package isn't installed\")\n",
      "C:\\Users\\ctiha\\Desktop\\compatition\\AutoML_LAMA\\Lib\\site-packages\\lightautoml\\text\\dl_transformers.py:25: UserWarning: 'transformers' - package isn't installed\n",
      "  warnings.warn(\"'transformers' - package isn't installed\")\n"
     ]
    }
   ],
   "source": [
    "from IPython.display import clear_output\n",
    "\n",
    "# ライブラリのimportを行います\n",
    "import pandas as pd\n",
    "import numpy as np\n",
    "import matplotlib.pyplot as plt\n",
    "import japanize_matplotlib\n",
    "import seaborn as sns\n",
    "import json\n",
    "\n",
    "import re\n",
    "import unicodedata\n",
    "from kanjize import kanji2number\n",
    "import category_encoders as ce\n",
    "from sklearn.preprocessing import LabelEncoder\n",
    "\n",
    "\n",
    "from sklearn.model_selection import KFold\n",
    "from sklearn.model_selection import train_test_split\n",
    "from sklearn.model_selection import StratifiedKFold\n",
    "from sklearn.metrics import roc_auc_score\n",
    "from sklearn.metrics import f1_score\n",
    "\n",
    "from sklearn.preprocessing import StandardScaler\n",
    "from sklearn.decomposition import PCA\n",
    "\n",
    "import lightgbm as lgb\n",
    "import logging\n",
    "logging.getLogger(\"lightgbm\").setLevel(logging.WARNING)\n",
    "from sklearn.metrics import accuracy_score\n",
    "\n",
    "from imblearn.under_sampling import RandomUnderSampler\n",
    "from tqdm.auto import tqdm\n",
    "\n",
    "from sklearn.metrics import log_loss\n",
    "import torch\n",
    "import torch.nn as nn\n",
    "import torch.nn.functional as F\n",
    "from sklearn.metrics import roc_auc_score\n",
    "\n",
    "# LightAutoMLのライブラリ\n",
    "# LightAutoML presets, task and report generation\n",
    "from lightautoml.automl.presets.tabular_presets import TabularAutoML, TabularUtilizedAutoML\n",
    "from lightautoml.tasks import Task\n",
    "from lightautoml.report.report_deco import ReportDeco\n",
    "from lightautoml.ml_algo.torch_based.nn_models import MLP, DenseLightModel"
   ]
  },
  {
   "cell_type": "code",
   "execution_count": 3,
   "metadata": {},
   "outputs": [
    {
     "name": "stdout",
     "output_type": "stream",
     "text": [
      "Generated ID: USER-20240823-3POP9L\n"
     ]
    }
   ],
   "source": [
    "import random\n",
    "import string\n",
    "from datetime import datetime\n",
    "\n",
    "def generate_custom_id(prefix=\"USER\", length=6):\n",
    "    # 日付を取得\n",
    "    date_str = datetime.now().strftime(\"%Y%m%d\")\n",
    "    \n",
    "    # ランダムな数字や文字を生成\n",
    "    random_part = ''.join(random.choices(string.ascii_uppercase + string.digits, k=length))\n",
    "    \n",
    "    # IDを結合\n",
    "    custom_id = f\"{prefix}-{date_str}-{random_part}\"\n",
    "    \n",
    "    return custom_id\n",
    "\n",
    "# IDを発行\n",
    "generated_id = generate_custom_id()\n",
    "print(\"Generated ID:\", generated_id)\n"
   ]
  },
  {
   "cell_type": "markdown",
   "metadata": {},
   "source": [
    "# Config"
   ]
  },
  {
   "cell_type": "markdown",
   "metadata": {},
   "source": [
    "# 提出ファイル作成用"
   ]
  },
  {
   "cell_type": "code",
   "execution_count": 4,
   "metadata": {},
   "outputs": [],
   "source": [
    "def make_submitfile(submit_date = \"0815\",filename = \"submission\", version = \"00\", data = []):\n",
    "    submit = pd.read_csv(\"data/sample_submit.csv\", header=None)\n",
    "    # 提出ファイルの2列目を予測値で置き換えます。\n",
    "    submit[1] = data\n",
    "    submit.to_csv(f\"output/{submit_date}{filename}_{version}.csv\", index=False, header=None)"
   ]
  },
  {
   "cell_type": "code",
   "execution_count": 5,
   "metadata": {},
   "outputs": [],
   "source": [
    "class RESULT_class:\n",
    "    def __init__(self):\n",
    "        self.RESULT_CONFIG = pd.DataFrame()\n",
    "        self.oof_valid_df = pd.DataFrame()\n",
    "        self.oof_test_df = pd.DataFrame()\n",
    "\n",
    "    def addResult(self, model_name,\n",
    "                  layer1,\n",
    "                  layer2,\n",
    "                  feature_selection,\n",
    "                  under_sampling,\n",
    "                  PCAd,\n",
    "                  columns,\n",
    "                  skf_num,\n",
    "                  skf_rand,\n",
    "                  score,\n",
    "                  oof_valid,\n",
    "                  oof_test,\n",
    "                  date = \"0821\"):\n",
    "\n",
    "        ID = len(self.RESULT_CONFIG)+1\n",
    "        tmp = pd.DataFrame([[ID, model_name, layer1, layer2, feature_selection,under_sampling,PCAd,columns,skf_num,skf_rand,score,date]])\n",
    "        tmp.columns = [\"ID\",\"model_name\",\"layer1\",\"layer2\",\"feature_selection\",\"under_sampling\",\"PCA(d)\",\"columns\",\"skf_num\",\"skf_rand\",\"score\",\"date\"]\n",
    "        \n",
    "        if len(self.RESULT_CONFIG)>0:\n",
    "            self.RESULT_CONFIG = pd.concat([self.RESULT_CONFIG, tmp])\n",
    "        else:\n",
    "            self.RESULT_CONFIG = tmp\n",
    "\n",
    "        self.oof_valid_df[ID] = pd.DataFrame(oof_valid)\n",
    "        self.oof_test_df[ID] = pd.DataFrame(oof_test)\n",
    "\n",
    "Rc = RESULT_class()"
   ]
  },
  {
   "cell_type": "code",
   "execution_count": 6,
   "metadata": {},
   "outputs": [],
   "source": [
    "def addResult(automl, df_dict, y, Rc):\n",
    "    oof_valid = automl.predict(df_dict[\"train\"])\n",
    "    oof_test = automl.predict(df_dict[\"test\"])\n",
    "    score = roc_auc_score(y, oof_valid.data)\n",
    "    \n",
    "    if len(automl.general_params[\"use_algos\"]) > 1:\n",
    "        layer1 = automl.general_params[\"use_algos\"][0]\n",
    "        layer2 = automl.general_params[\"use_algos\"][1]\n",
    "    else:\n",
    "        layer1 = automl.general_params[\"use_algos\"]\n",
    "        layer2 = []\n",
    "    \n",
    "    features = automl.collect_used_feats()\n",
    "    n_folds = automl.reader_params[\"cv\"]\n",
    "    random_state = automl.reader_params[\"random_state\"]\n",
    "    \n",
    "    Rc.addResult(\"LAMA\", layer1, layer2, True, False, False, features, n_folds, random_state, score, oof_valid.data, oof_test.data)"
   ]
  },
  {
   "cell_type": "markdown",
   "metadata": {},
   "source": [
    "# Dataload"
   ]
  },
  {
   "cell_type": "code",
   "execution_count": 7,
   "metadata": {
    "id": "dk2Tvn4MYqmf"
   },
   "outputs": [],
   "source": [
    "train = pd.read_csv(\"data/input_train.csv\")\n",
    "test = pd.read_csv(\"data/input_test.csv\")"
   ]
  },
  {
   "cell_type": "code",
   "execution_count": 8,
   "metadata": {},
   "outputs": [],
   "source": [
    "df_dict = {\"train\":train,\n",
    "          \"test\":test}\n",
    "y = df_dict[\"train\"][\"ProdTaken\"]\n",
    "X = df_dict[\"train\"].drop(columns=['id', 'customer_info', \"ProdTaken\"], axis=1)\n",
    "test = df_dict[\"test\"].drop(columns=['id', 'customer_info'], axis=1)"
   ]
  },
  {
   "cell_type": "code",
   "execution_count": 9,
   "metadata": {},
   "outputs": [],
   "source": [
    "scaler = StandardScaler()\n",
    "train_scalar = scaler.fit_transform(X)\n",
    "test_scalar = scaler.transform(test)"
   ]
  },
  {
   "cell_type": "code",
   "execution_count": 10,
   "metadata": {},
   "outputs": [],
   "source": [
    "columns = X.columns.tolist()\n",
    "X = pd.DataFrame(train_scalar,columns = columns)\n",
    "test = pd.DataFrame(test_scalar,columns = columns)"
   ]
  },
  {
   "cell_type": "code",
   "execution_count": 11,
   "metadata": {},
   "outputs": [],
   "source": [
    "df_dict[\"train\"] = pd.concat([X,y],axis=1)\n",
    "df_dict[\"test\"] =test"
   ]
  },
  {
   "cell_type": "markdown",
   "metadata": {
    "id": "eJ6FtShME-iv"
   },
   "source": [
    "# Training Phase"
   ]
  },
  {
   "cell_type": "markdown",
   "metadata": {},
   "source": [
    "## LightAutoMLの設定"
   ]
  },
  {
   "cell_type": "code",
   "execution_count": 12,
   "metadata": {},
   "outputs": [],
   "source": [
    "N_THREADS = 4\n",
    "N_FOLDS = [5, 3]\n",
    "RANDOM_STATE = 42\n",
    "TIMEOUT = 21600"
   ]
  },
  {
   "cell_type": "markdown",
   "metadata": {},
   "source": [
    "## params"
   ]
  },
  {
   "cell_type": "code",
   "execution_count": 13,
   "metadata": {},
   "outputs": [],
   "source": [
    "task = Task('binary', metric = 'auc')\n",
    "roles = {\n",
    "    'target': \"ProdTaken\",\n",
    "    'drop': ['id',\"customer_info\"]\n",
    "    }"
   ]
  },
  {
   "cell_type": "code",
   "execution_count": 14,
   "metadata": {},
   "outputs": [],
   "source": [
    "default_lama_params = {\n",
    "    \"task\": task,\n",
    "    \"timeout\": TIMEOUT,\n",
    "    \"cpu_limit\": N_THREADS,\n",
    "    \"reader_params\": {'n_jobs': N_THREADS, 'cv': N_FOLDS[0], 'random_state': RANDOM_STATE}\n",
    "}\n",
    "\n",
    "default_nn_params = {\n",
    "    \"bs\": 512, \"num_workers\": 0, \"path_to_save\": None, \"n_epochs\": 1000, \"freeze_defaults\": True\n",
    "}"
   ]
  },
  {
   "cell_type": "code",
   "execution_count": 15,
   "metadata": {},
   "outputs": [],
   "source": [
    "np.random.seed(RANDOM_STATE)\n",
    "torch.set_num_threads(N_THREADS)"
   ]
  },
  {
   "cell_type": "markdown",
   "metadata": {},
   "source": [
    "# base"
   ]
  },
  {
   "cell_type": "code",
   "execution_count": 16,
   "metadata": {
    "scrolled": true
   },
   "outputs": [
    {
     "name": "stdout",
     "output_type": "stream",
     "text": [
      "[14:03:10] Stdout logging level is INFO.\n",
      "[14:03:10] Copying TaskTimer may affect the parent PipelineTimer, so copy will create new unlimited TaskTimer\n",
      "[14:03:10] Task: binary\n",
      "\n",
      "[14:03:10] Start automl preset with listed constraints:\n",
      "[14:03:10] - time: 21600.00 seconds\n",
      "[14:03:10] - CPU: 4 cores\n",
      "[14:03:10] - memory: 64 GB\n",
      "\n",
      "[14:03:10] \u001b[1mTrain data shape: (3489, 104)\u001b[0m\n",
      "\n",
      "[14:03:13] Layer \u001b[1m1\u001b[0m train process start. Time left 21597.10 secs\n",
      "[14:03:14] Start fitting \u001b[1mLvl_0_Pipe_0_Mod_0_LinearL2\u001b[0m ...\n",
      "[14:03:17] Fitting \u001b[1mLvl_0_Pipe_0_Mod_0_LinearL2\u001b[0m finished. score = \u001b[1m0.8297882213064482\u001b[0m\n",
      "[14:03:17] \u001b[1mLvl_0_Pipe_0_Mod_0_LinearL2\u001b[0m fitting and predicting completed\n",
      "[14:03:17] Time left 21593.27 secs\n",
      "\n",
      "[14:03:18] \u001b[1mSelector_LightGBM\u001b[0m fitting and predicting completed\n",
      "[14:03:18] Start fitting \u001b[1mLvl_0_Pipe_1_Mod_0_LightGBM\u001b[0m ...\n",
      "[14:03:19] Fitting \u001b[1mLvl_0_Pipe_1_Mod_0_LightGBM\u001b[0m finished. score = \u001b[1m0.8262428851181958\u001b[0m\n",
      "[14:03:19] \u001b[1mLvl_0_Pipe_1_Mod_0_LightGBM\u001b[0m fitting and predicting completed\n",
      "[14:03:19] Start hyperparameters optimization for \u001b[1mLvl_0_Pipe_1_Mod_1_Tuned_LightGBM\u001b[0m ... Time budget is 300.00 secs\n",
      "[14:04:16] Hyperparameters optimization for \u001b[1mLvl_0_Pipe_1_Mod_1_Tuned_LightGBM\u001b[0m completed\n",
      "[14:04:16] Start fitting \u001b[1mLvl_0_Pipe_1_Mod_1_Tuned_LightGBM\u001b[0m ...\n",
      "[14:04:17] Fitting \u001b[1mLvl_0_Pipe_1_Mod_1_Tuned_LightGBM\u001b[0m finished. score = \u001b[1m0.8103615005541268\u001b[0m\n",
      "[14:04:17] \u001b[1mLvl_0_Pipe_1_Mod_1_Tuned_LightGBM\u001b[0m fitting and predicting completed\n",
      "[14:04:17] Start fitting \u001b[1mLvl_0_Pipe_1_Mod_2_CatBoost\u001b[0m ...\n",
      "[14:04:27] Fitting \u001b[1mLvl_0_Pipe_1_Mod_2_CatBoost\u001b[0m finished. score = \u001b[1m0.802348179989025\u001b[0m\n",
      "[14:04:27] \u001b[1mLvl_0_Pipe_1_Mod_2_CatBoost\u001b[0m fitting and predicting completed\n",
      "[14:04:27] Start hyperparameters optimization for \u001b[1mLvl_0_Pipe_1_Mod_3_Tuned_CatBoost\u001b[0m ... Time budget is 300.00 secs\n",
      "[14:06:32] Hyperparameters optimization for \u001b[1mLvl_0_Pipe_1_Mod_3_Tuned_CatBoost\u001b[0m completed\n",
      "[14:06:32] Start fitting \u001b[1mLvl_0_Pipe_1_Mod_3_Tuned_CatBoost\u001b[0m ...\n",
      "[14:06:42] Fitting \u001b[1mLvl_0_Pipe_1_Mod_3_Tuned_CatBoost\u001b[0m finished. score = \u001b[1m0.8280908714317994\u001b[0m\n",
      "[14:06:42] \u001b[1mLvl_0_Pipe_1_Mod_3_Tuned_CatBoost\u001b[0m fitting and predicting completed\n",
      "[14:06:42] Time left 21388.61 secs\n",
      "\n",
      "[14:06:42] \u001b[1mLayer 1 training completed.\u001b[0m\n",
      "\n",
      "[14:06:42] Blending: optimization starts with equal weights and score \u001b[1m0.8349898858390988\u001b[0m\n",
      "[14:06:42] Blending: iteration \u001b[1m0\u001b[0m: score = \u001b[1m0.8387275524806594\u001b[0m, weights = \u001b[1m[0.38793588 0.13019139 0.17751487 0.05716688 0.24719101]\u001b[0m\n",
      "[14:06:42] Blending: iteration \u001b[1m1\u001b[0m: score = \u001b[1m0.8391337328785549\u001b[0m, weights = \u001b[1m[0.3871394  0.08366252 0.24435574 0.         0.28484228]\u001b[0m\n",
      "[14:06:42] Blending: iteration \u001b[1m2\u001b[0m: score = \u001b[1m0.8395056165872239\u001b[0m, weights = \u001b[1m[0.3192397  0.         0.31387898 0.         0.36688128]\u001b[0m\n",
      "[14:06:42] Blending: iteration \u001b[1m3\u001b[0m: score = \u001b[1m0.8395109964600437\u001b[0m, weights = \u001b[1m[0.34148657 0.         0.30896652 0.         0.3495469 ]\u001b[0m\n",
      "[14:06:42] Blending: iteration \u001b[1m4\u001b[0m: score = \u001b[1m0.839518393785171\u001b[0m, weights = \u001b[1m[0.34156048 0.         0.30786335 0.         0.3505762 ]\u001b[0m\n",
      "[14:06:42] \u001b[1mAutoml preset training completed in 211.63 seconds\u001b[0m\n",
      "\n",
      "[14:06:42] Model description:\n",
      "Final prediction for new objects (level 0) = \n",
      "\t 0.34156 * (5 averaged models Lvl_0_Pipe_0_Mod_0_LinearL2) +\n",
      "\t 0.30786 * (5 averaged models Lvl_0_Pipe_1_Mod_1_Tuned_LightGBM) +\n",
      "\t 0.35058 * (5 averaged models Lvl_0_Pipe_1_Mod_3_Tuned_CatBoost) \n",
      "\n",
      "[14:06:43] Stdout logging level is INFO.\n",
      "[14:06:43] Task: binary\n",
      "\n",
      "[14:06:43] Start automl preset with listed constraints:\n",
      "[14:06:43] - time: 21600.00 seconds\n",
      "[14:06:43] - CPU: 4 cores\n",
      "[14:06:43] - memory: 64 GB\n",
      "\n",
      "[14:06:43] \u001b[1mTrain data shape: (3489, 104)\u001b[0m\n",
      "\n",
      "[14:06:43] Layer \u001b[1m1\u001b[0m train process start. Time left 21599.78 secs\n",
      "[14:06:43] Start fitting \u001b[1mLvl_0_Pipe_0_Mod_0_LinearL2\u001b[0m ...\n",
      "[14:06:44] Fitting \u001b[1mLvl_0_Pipe_0_Mod_0_LinearL2\u001b[0m finished. score = \u001b[1m0.8374679897567223\u001b[0m\n",
      "[14:06:44] \u001b[1mLvl_0_Pipe_0_Mod_0_LinearL2\u001b[0m fitting and predicting completed\n",
      "[14:06:44] Time left 21598.51 secs\n",
      "\n",
      "[14:06:44] \u001b[1mSelector_LightGBM\u001b[0m fitting and predicting completed\n",
      "[14:06:45] Start fitting \u001b[1mLvl_0_Pipe_1_Mod_0_LightGBM\u001b[0m ...\n",
      "[14:06:45] Fitting \u001b[1mLvl_0_Pipe_1_Mod_0_LightGBM\u001b[0m finished. score = \u001b[1m0.8247667825132614\u001b[0m\n",
      "[14:06:45] \u001b[1mLvl_0_Pipe_1_Mod_0_LightGBM\u001b[0m fitting and predicting completed\n",
      "[14:06:45] Start hyperparameters optimization for \u001b[1mLvl_0_Pipe_1_Mod_1_Tuned_LightGBM\u001b[0m ... Time budget is 300.00 secs\n",
      "[14:07:16] Hyperparameters optimization for \u001b[1mLvl_0_Pipe_1_Mod_1_Tuned_LightGBM\u001b[0m completed\n",
      "[14:07:16] Start fitting \u001b[1mLvl_0_Pipe_1_Mod_1_Tuned_LightGBM\u001b[0m ...\n",
      "[14:07:17] Fitting \u001b[1mLvl_0_Pipe_1_Mod_1_Tuned_LightGBM\u001b[0m finished. score = \u001b[1m0.8296738990090274\u001b[0m\n",
      "[14:07:17] \u001b[1mLvl_0_Pipe_1_Mod_1_Tuned_LightGBM\u001b[0m fitting and predicting completed\n",
      "[14:07:17] Start fitting \u001b[1mLvl_0_Pipe_1_Mod_2_CatBoost\u001b[0m ...\n",
      "[14:07:21] Fitting \u001b[1mLvl_0_Pipe_1_Mod_2_CatBoost\u001b[0m finished. score = \u001b[1m0.7865000833880286\u001b[0m\n",
      "[14:07:21] \u001b[1mLvl_0_Pipe_1_Mod_2_CatBoost\u001b[0m fitting and predicting completed\n",
      "[14:07:21] Start hyperparameters optimization for \u001b[1mLvl_0_Pipe_1_Mod_3_Tuned_CatBoost\u001b[0m ... Time budget is 300.00 secs\n",
      "[14:09:42] Hyperparameters optimization for \u001b[1mLvl_0_Pipe_1_Mod_3_Tuned_CatBoost\u001b[0m completed\n",
      "[14:09:42] Start fitting \u001b[1mLvl_0_Pipe_1_Mod_3_Tuned_CatBoost\u001b[0m ...\n",
      "[14:09:46] Fitting \u001b[1mLvl_0_Pipe_1_Mod_3_Tuned_CatBoost\u001b[0m finished. score = \u001b[1m0.7371182307750245\u001b[0m\n",
      "[14:09:46] \u001b[1mLvl_0_Pipe_1_Mod_3_Tuned_CatBoost\u001b[0m fitting and predicting completed\n",
      "[14:09:46] Time left 21416.73 secs\n",
      "\n",
      "[14:09:46] \u001b[1mLayer 1 training completed.\u001b[0m\n",
      "\n",
      "[14:09:46] Blending: optimization starts with equal weights and score \u001b[1m0.8215408762736849\u001b[0m\n",
      "[14:09:46] Blending: iteration \u001b[1m0\u001b[0m: score = \u001b[1m0.8389582145278085\u001b[0m, weights = \u001b[1m[0.64668113 0.19983545 0.15348345 0.         0.        ]\u001b[0m\n",
      "[14:09:46] Blending: iteration \u001b[1m1\u001b[0m: score = \u001b[1m0.8391485275288092\u001b[0m, weights = \u001b[1m[0.673968   0.10601953 0.22001241 0.         0.        ]\u001b[0m\n",
      "[14:09:46] Blending: iteration \u001b[1m2\u001b[0m: score = \u001b[1m0.83919492893188\u001b[0m, weights = \u001b[1m[0.7147227  0.08435892 0.20091839 0.         0.        ]\u001b[0m\n",
      "[14:09:46] Blending: iteration \u001b[1m3\u001b[0m: score = \u001b[1m0.83919492893188\u001b[0m, weights = \u001b[1m[0.7147227  0.08435892 0.20091839 0.         0.        ]\u001b[0m\n",
      "[14:09:46] Blending: no score update. Terminated\n",
      "\n",
      "[14:09:46] \u001b[1mAutoml preset training completed in 183.47 seconds\u001b[0m\n",
      "\n",
      "[14:09:46] Model description:\n",
      "Final prediction for new objects (level 0) = \n",
      "\t 0.71472 * (3 averaged models Lvl_0_Pipe_0_Mod_0_LinearL2) +\n",
      "\t 0.08436 * (3 averaged models Lvl_0_Pipe_1_Mod_0_LightGBM) +\n",
      "\t 0.20092 * (3 averaged models Lvl_0_Pipe_1_Mod_1_Tuned_LightGBM) \n",
      "\n"
     ]
    }
   ],
   "source": [
    "for i in range(2):\n",
    "    automl = TabularAutoML(\n",
    "        memory_limit = 64,\n",
    "        task = task,\n",
    "        timeout = TIMEOUT,\n",
    "        cpu_limit = N_THREADS,\n",
    "        reader_params = {'n_jobs': N_THREADS, 'cv': N_FOLDS[i], 'random_state': RANDOM_STATE},\n",
    "    )\n",
    "    automl.fit_predict(df_dict[\"train\"], roles = roles, verbose = 1)\n",
    "    addResult(automl, df_dict, y, Rc)"
   ]
  },
  {
   "cell_type": "markdown",
   "metadata": {},
   "source": [
    "### 複数レイヤー"
   ]
  },
  {
   "cell_type": "code",
   "execution_count": 17,
   "metadata": {
    "scrolled": true
   },
   "outputs": [
    {
     "name": "stdout",
     "output_type": "stream",
     "text": [
      "[14:09:47] Stdout logging level is INFO.\n",
      "[14:09:47] Task: binary\n",
      "\n",
      "[14:09:47] Start automl preset with listed constraints:\n",
      "[14:09:47] - time: 21600.00 seconds\n",
      "[14:09:47] - CPU: 4 cores\n",
      "[14:09:47] - memory: 16 GB\n",
      "\n",
      "[14:09:47] \u001b[1mTrain data shape: (3489, 104)\u001b[0m\n",
      "\n",
      "[14:09:47] Layer \u001b[1m1\u001b[0m train process start. Time left 21599.74 secs\n",
      "[14:09:47] Start fitting \u001b[1mLvl_0_Pipe_0_Mod_0_LinearL2\u001b[0m ...\n",
      "[14:09:49] Fitting \u001b[1mLvl_0_Pipe_0_Mod_0_LinearL2\u001b[0m finished. score = \u001b[1m0.8297882213064482\u001b[0m\n",
      "[14:09:49] \u001b[1mLvl_0_Pipe_0_Mod_0_LinearL2\u001b[0m fitting and predicting completed\n",
      "[14:09:49] Time left 21597.80 secs\n",
      "\n",
      "[14:09:49] \u001b[1mSelector_LightGBM\u001b[0m fitting and predicting completed\n",
      "[14:09:50] Start fitting \u001b[1mLvl_0_Pipe_1_Mod_0_LightGBM\u001b[0m ...\n",
      "[14:09:51] Fitting \u001b[1mLvl_0_Pipe_1_Mod_0_LightGBM\u001b[0m finished. score = \u001b[1m0.8262428851181958\u001b[0m\n",
      "[14:09:51] \u001b[1mLvl_0_Pipe_1_Mod_0_LightGBM\u001b[0m fitting and predicting completed\n",
      "[14:09:51] Start hyperparameters optimization for \u001b[1mLvl_0_Pipe_1_Mod_1_Tuned_LightGBM\u001b[0m ... Time budget is 300.00 secs\n",
      "[14:10:48] Hyperparameters optimization for \u001b[1mLvl_0_Pipe_1_Mod_1_Tuned_LightGBM\u001b[0m completed\n",
      "[14:10:48] Start fitting \u001b[1mLvl_0_Pipe_1_Mod_1_Tuned_LightGBM\u001b[0m ...\n",
      "[14:10:49] Fitting \u001b[1mLvl_0_Pipe_1_Mod_1_Tuned_LightGBM\u001b[0m finished. score = \u001b[1m0.8103615005541268\u001b[0m\n",
      "[14:10:49] \u001b[1mLvl_0_Pipe_1_Mod_1_Tuned_LightGBM\u001b[0m fitting and predicting completed\n",
      "[14:10:49] Start fitting \u001b[1mLvl_0_Pipe_1_Mod_2_CatBoost\u001b[0m ...\n",
      "[14:10:58] Fitting \u001b[1mLvl_0_Pipe_1_Mod_2_CatBoost\u001b[0m finished. score = \u001b[1m0.802348179989025\u001b[0m\n",
      "[14:10:58] \u001b[1mLvl_0_Pipe_1_Mod_2_CatBoost\u001b[0m fitting and predicting completed\n",
      "[14:10:58] Start hyperparameters optimization for \u001b[1mLvl_0_Pipe_1_Mod_3_Tuned_CatBoost\u001b[0m ... Time budget is 300.00 secs\n",
      "[14:13:04] Hyperparameters optimization for \u001b[1mLvl_0_Pipe_1_Mod_3_Tuned_CatBoost\u001b[0m completed\n",
      "[14:13:04] Start fitting \u001b[1mLvl_0_Pipe_1_Mod_3_Tuned_CatBoost\u001b[0m ...\n",
      "[14:13:13] Fitting \u001b[1mLvl_0_Pipe_1_Mod_3_Tuned_CatBoost\u001b[0m finished. score = \u001b[1m0.8280908714317994\u001b[0m\n",
      "[14:13:13] \u001b[1mLvl_0_Pipe_1_Mod_3_Tuned_CatBoost\u001b[0m fitting and predicting completed\n",
      "[14:13:13] Time left 21393.58 secs\n",
      "\n",
      "[14:13:13] \u001b[1mLayer 1 training completed.\u001b[0m\n",
      "\n",
      "[14:13:13] Layer \u001b[1m2\u001b[0m train process start. Time left 21393.57 secs\n",
      "[14:13:14] Start fitting \u001b[1mLvl_1_Pipe_0_Mod_0_RFSklearn\u001b[0m ...\n",
      "[14:13:16] Fitting \u001b[1mLvl_1_Pipe_0_Mod_0_RFSklearn\u001b[0m finished. score = \u001b[1m0.8277210051754377\u001b[0m\n",
      "[14:13:16] \u001b[1mLvl_1_Pipe_0_Mod_0_RFSklearn\u001b[0m fitting and predicting completed\n",
      "[14:13:16] Time left 21390.79 secs\n",
      "\n",
      "[14:13:16] Start fitting \u001b[1mLvl_1_Pipe_1_Mod_0_LinearL2\u001b[0m ...\n",
      "[14:13:18] Fitting \u001b[1mLvl_1_Pipe_1_Mod_0_LinearL2\u001b[0m finished. score = \u001b[1m0.8360820000215196\u001b[0m\n",
      "[14:13:18] \u001b[1mLvl_1_Pipe_1_Mod_0_LinearL2\u001b[0m fitting and predicting completed\n",
      "[14:13:18] Time left 21388.77 secs\n",
      "\n",
      "[14:13:18] \u001b[1mLayer 2 training completed.\u001b[0m\n",
      "\n",
      "[14:13:18] Blending: optimization starts with equal weights and score \u001b[1m0.8373274405793045\u001b[0m\n",
      "[14:13:18] Blending: iteration \u001b[1m0\u001b[0m: score = \u001b[1m0.837849288242826\u001b[0m, weights = \u001b[1m[0.3410103  0.65898967]\u001b[0m\n",
      "[14:13:18] Blending: iteration \u001b[1m1\u001b[0m: score = \u001b[1m0.837849288242826\u001b[0m, weights = \u001b[1m[0.3410103  0.65898967]\u001b[0m\n",
      "[14:13:18] Blending: no score update. Terminated\n",
      "\n",
      "[14:13:18] \u001b[1mAutoml preset training completed in 211.27 seconds\u001b[0m\n",
      "\n",
      "[14:13:18] Model description:\n",
      "Models on level 0:\n",
      "\t 5 averaged models Lvl_0_Pipe_0_Mod_0_LinearL2\n",
      "\t 5 averaged models Lvl_0_Pipe_1_Mod_0_LightGBM\n",
      "\t 5 averaged models Lvl_0_Pipe_1_Mod_1_Tuned_LightGBM\n",
      "\t 5 averaged models Lvl_0_Pipe_1_Mod_2_CatBoost\n",
      "\t 5 averaged models Lvl_0_Pipe_1_Mod_3_Tuned_CatBoost\n",
      "\n",
      "Final prediction for new objects (level 1) = \n",
      "\t 0.34101 * (5 averaged models Lvl_1_Pipe_0_Mod_0_RFSklearn) +\n",
      "\t 0.65899 * (5 averaged models Lvl_1_Pipe_1_Mod_0_LinearL2) \n",
      "\n",
      "[14:13:20] Stdout logging level is INFO.\n",
      "[14:13:20] Task: binary\n",
      "\n",
      "[14:13:20] Start automl preset with listed constraints:\n",
      "[14:13:20] - time: 21600.00 seconds\n",
      "[14:13:20] - CPU: 4 cores\n",
      "[14:13:20] - memory: 16 GB\n",
      "\n",
      "[14:13:20] \u001b[1mTrain data shape: (3489, 104)\u001b[0m\n",
      "\n",
      "[14:13:20] Layer \u001b[1m1\u001b[0m train process start. Time left 21599.78 secs\n",
      "[14:13:20] Start fitting \u001b[1mLvl_0_Pipe_0_Mod_0_LinearL2\u001b[0m ...\n",
      "[14:13:21] Fitting \u001b[1mLvl_0_Pipe_0_Mod_0_LinearL2\u001b[0m finished. score = \u001b[1m0.8374679897567223\u001b[0m\n",
      "[14:13:21] \u001b[1mLvl_0_Pipe_0_Mod_0_LinearL2\u001b[0m fitting and predicting completed\n",
      "[14:13:21] Time left 21598.51 secs\n",
      "\n",
      "[14:13:22] \u001b[1mSelector_LightGBM\u001b[0m fitting and predicting completed\n",
      "[14:13:22] Start fitting \u001b[1mLvl_0_Pipe_1_Mod_0_LightGBM\u001b[0m ...\n",
      "[14:13:22] Fitting \u001b[1mLvl_0_Pipe_1_Mod_0_LightGBM\u001b[0m finished. score = \u001b[1m0.8247667825132614\u001b[0m\n",
      "[14:13:22] \u001b[1mLvl_0_Pipe_1_Mod_0_LightGBM\u001b[0m fitting and predicting completed\n",
      "[14:13:22] Start hyperparameters optimization for \u001b[1mLvl_0_Pipe_1_Mod_1_Tuned_LightGBM\u001b[0m ... Time budget is 300.00 secs\n",
      "[14:13:55] Hyperparameters optimization for \u001b[1mLvl_0_Pipe_1_Mod_1_Tuned_LightGBM\u001b[0m completed\n",
      "[14:13:55] Start fitting \u001b[1mLvl_0_Pipe_1_Mod_1_Tuned_LightGBM\u001b[0m ...\n",
      "[14:13:55] Fitting \u001b[1mLvl_0_Pipe_1_Mod_1_Tuned_LightGBM\u001b[0m finished. score = \u001b[1m0.8296738990090274\u001b[0m\n",
      "[14:13:55] \u001b[1mLvl_0_Pipe_1_Mod_1_Tuned_LightGBM\u001b[0m fitting and predicting completed\n",
      "[14:13:55] Start fitting \u001b[1mLvl_0_Pipe_1_Mod_2_CatBoost\u001b[0m ...\n",
      "[14:14:00] Fitting \u001b[1mLvl_0_Pipe_1_Mod_2_CatBoost\u001b[0m finished. score = \u001b[1m0.7865000833880286\u001b[0m\n",
      "[14:14:00] \u001b[1mLvl_0_Pipe_1_Mod_2_CatBoost\u001b[0m fitting and predicting completed\n",
      "[14:14:00] Start hyperparameters optimization for \u001b[1mLvl_0_Pipe_1_Mod_3_Tuned_CatBoost\u001b[0m ... Time budget is 300.00 secs\n",
      "[14:16:21] Hyperparameters optimization for \u001b[1mLvl_0_Pipe_1_Mod_3_Tuned_CatBoost\u001b[0m completed\n",
      "[14:16:21] Start fitting \u001b[1mLvl_0_Pipe_1_Mod_3_Tuned_CatBoost\u001b[0m ...\n",
      "[14:16:24] Fitting \u001b[1mLvl_0_Pipe_1_Mod_3_Tuned_CatBoost\u001b[0m finished. score = \u001b[1m0.7371182307750245\u001b[0m\n",
      "[14:16:24] \u001b[1mLvl_0_Pipe_1_Mod_3_Tuned_CatBoost\u001b[0m fitting and predicting completed\n",
      "[14:16:24] Time left 21415.63 secs\n",
      "\n",
      "[14:16:24] \u001b[1mLayer 1 training completed.\u001b[0m\n",
      "\n",
      "[14:16:24] Layer \u001b[1m2\u001b[0m train process start. Time left 21415.62 secs\n",
      "[14:16:24] Start fitting \u001b[1mLvl_1_Pipe_0_Mod_0_RFSklearn\u001b[0m ...\n",
      "[14:16:26] Fitting \u001b[1mLvl_1_Pipe_0_Mod_0_RFSklearn\u001b[0m finished. score = \u001b[1m0.8219753010038843\u001b[0m\n",
      "[14:16:26] \u001b[1mLvl_1_Pipe_0_Mod_0_RFSklearn\u001b[0m fitting and predicting completed\n",
      "[14:16:26] Time left 21414.01 secs\n",
      "\n",
      "[14:16:26] Start fitting \u001b[1mLvl_1_Pipe_1_Mod_0_LinearL2\u001b[0m ...\n",
      "[14:16:27] Fitting \u001b[1mLvl_1_Pipe_1_Mod_0_LinearL2\u001b[0m finished. score = \u001b[1m0.8424779963201671\u001b[0m\n",
      "[14:16:27] \u001b[1mLvl_1_Pipe_1_Mod_0_LinearL2\u001b[0m fitting and predicting completed\n",
      "[14:16:27] Time left 21412.94 secs\n",
      "\n",
      "[14:16:27] \u001b[1mLayer 2 training completed.\u001b[0m\n",
      "\n",
      "[14:16:27] Blending: optimization starts with equal weights and score \u001b[1m0.839087331475484\u001b[0m\n",
      "[14:16:27] Blending: iteration \u001b[1m0\u001b[0m: score = \u001b[1m0.8428424827037089\u001b[0m, weights = \u001b[1m[0.14969619 0.8503038 ]\u001b[0m\n",
      "[14:16:27] Blending: iteration \u001b[1m1\u001b[0m: score = \u001b[1m0.8428424827037089\u001b[0m, weights = \u001b[1m[0.14969619 0.8503038 ]\u001b[0m\n",
      "[14:16:27] Blending: no score update. Terminated\n",
      "\n",
      "[14:16:27] \u001b[1mAutoml preset training completed in 187.11 seconds\u001b[0m\n",
      "\n",
      "[14:16:27] Model description:\n",
      "Models on level 0:\n",
      "\t 3 averaged models Lvl_0_Pipe_0_Mod_0_LinearL2\n",
      "\t 3 averaged models Lvl_0_Pipe_1_Mod_0_LightGBM\n",
      "\t 3 averaged models Lvl_0_Pipe_1_Mod_1_Tuned_LightGBM\n",
      "\t 3 averaged models Lvl_0_Pipe_1_Mod_2_CatBoost\n",
      "\t 3 averaged models Lvl_0_Pipe_1_Mod_3_Tuned_CatBoost\n",
      "\n",
      "Final prediction for new objects (level 1) = \n",
      "\t 0.14970 * (3 averaged models Lvl_1_Pipe_0_Mod_0_RFSklearn) +\n",
      "\t 0.85030 * (3 averaged models Lvl_1_Pipe_1_Mod_0_LinearL2) \n",
      "\n"
     ]
    }
   ],
   "source": [
    "for i in range(2):\n",
    "    automl = TabularAutoML(\n",
    "        task = task,\n",
    "        timeout = TIMEOUT,\n",
    "        cpu_limit = N_THREADS,\n",
    "        reader_params = {'n_jobs': N_THREADS, 'cv': N_FOLDS[i], 'random_state': RANDOM_STATE},\n",
    "        general_params={\n",
    "            'use_algos': [\n",
    "                ['lgb', 'lgb_tuned', 'linear_l2', 'cb', 'cb_tuned'],  # 最初のレベル（レイヤー1）で使用するアルゴリズム\n",
    "                ['linear_l2', 'rf']  # 次のレベル（レイヤー2）で使用するアルゴリズム\n",
    "            ]\n",
    "        },\n",
    "        nn_params={\n",
    "            **default_nn_params,\n",
    "            \"n_epochs\": 1000,\n",
    "            \"tuning_params\": {\n",
    "                \"max_tuning_iter\": 5,\n",
    "                \"max_tuning_time\": 3600,\n",
    "                \"fit_on_holdout\": True\n",
    "            }\n",
    "        },\n",
    "        \n",
    "    )\n",
    "    automl.fit_predict(df_dict[\"train\"], roles = roles, verbose = 1)\n",
    "    addResult(automl, df_dict, y, Rc)"
   ]
  },
  {
   "cell_type": "markdown",
   "metadata": {},
   "source": [
    "# TablerNN"
   ]
  },
  {
   "cell_type": "code",
   "execution_count": 18,
   "metadata": {
    "scrolled": true
   },
   "outputs": [
    {
     "name": "stdout",
     "output_type": "stream",
     "text": [
      "[14:16:28] Stdout logging level is INFO.\n",
      "[14:16:28] Task: binary\n",
      "\n",
      "[14:16:28] Start automl preset with listed constraints:\n",
      "[14:16:28] - time: 21600.00 seconds\n",
      "[14:16:28] - CPU: 4 cores\n",
      "[14:16:28] - memory: 16 GB\n",
      "\n",
      "[14:16:28] \u001b[1mTrain data shape: (3489, 104)\u001b[0m\n",
      "\n",
      "[14:16:29] Layer \u001b[1m1\u001b[0m train process start. Time left 21599.79 secs\n",
      "[14:16:29] Start fitting \u001b[1mLvl_0_Pipe_0_Mod_0_TorchNN_mlp_0\u001b[0m ...\n",
      "[14:16:49] Fitting \u001b[1mLvl_0_Pipe_0_Mod_0_TorchNN_mlp_0\u001b[0m finished. score = \u001b[1m0.8150655268509454\u001b[0m\n",
      "[14:16:49] \u001b[1mLvl_0_Pipe_0_Mod_0_TorchNN_mlp_0\u001b[0m fitting and predicting completed\n",
      "[14:16:49] Start fitting \u001b[1mLvl_0_Pipe_0_Mod_1_TorchNN_mlp_1\u001b[0m ...\n",
      "[14:17:08] Fitting \u001b[1mLvl_0_Pipe_0_Mod_1_TorchNN_mlp_1\u001b[0m finished. score = \u001b[1m0.8163529976651352\u001b[0m\n",
      "[14:17:08] \u001b[1mLvl_0_Pipe_0_Mod_1_TorchNN_mlp_1\u001b[0m fitting and predicting completed\n",
      "[14:17:08] Start fitting \u001b[1mLvl_0_Pipe_0_Mod_2_TorchNN_dense_2\u001b[0m ...\n",
      "[14:17:20] Fitting \u001b[1mLvl_0_Pipe_0_Mod_2_TorchNN_dense_2\u001b[0m finished. score = \u001b[1m0.5291303301089962\u001b[0m\n",
      "[14:17:20] \u001b[1mLvl_0_Pipe_0_Mod_2_TorchNN_dense_2\u001b[0m fitting and predicting completed\n",
      "[14:17:20] Start fitting \u001b[1mLvl_0_Pipe_0_Mod_3_TorchNN_denselight_3\u001b[0m ...\n",
      "[14:17:37] Fitting \u001b[1mLvl_0_Pipe_0_Mod_3_TorchNN_denselight_3\u001b[0m finished. score = \u001b[1m0.8105780404351242\u001b[0m\n",
      "[14:17:37] \u001b[1mLvl_0_Pipe_0_Mod_3_TorchNN_denselight_3\u001b[0m fitting and predicting completed\n",
      "[14:17:37] Start fitting \u001b[1mLvl_0_Pipe_0_Mod_4_TorchNN_resnet_4\u001b[0m ...\n",
      "[14:17:49] Fitting \u001b[1mLvl_0_Pipe_0_Mod_4_TorchNN_resnet_4\u001b[0m finished. score = \u001b[1m0.8240626916579692\u001b[0m\n",
      "[14:17:49] \u001b[1mLvl_0_Pipe_0_Mod_4_TorchNN_resnet_4\u001b[0m fitting and predicting completed\n",
      "[14:17:49] Start fitting \u001b[1mLvl_0_Pipe_0_Mod_5_TorchNN_snn_5\u001b[0m ...\n",
      "[14:17:58] Fitting \u001b[1mLvl_0_Pipe_0_Mod_5_TorchNN_snn_5\u001b[0m finished. score = \u001b[1m0.8303114139381745\u001b[0m\n",
      "[14:17:58] \u001b[1mLvl_0_Pipe_0_Mod_5_TorchNN_snn_5\u001b[0m fitting and predicting completed\n",
      "[14:17:58] Start fitting \u001b[1mLvl_0_Pipe_0_Mod_6_TorchNN_node_6\u001b[0m ...\n",
      "[14:19:57] Fitting \u001b[1mLvl_0_Pipe_0_Mod_6_TorchNN_node_6\u001b[0m finished. score = \u001b[1m0.823678030751353\u001b[0m\n",
      "[14:19:57] \u001b[1mLvl_0_Pipe_0_Mod_6_TorchNN_node_6\u001b[0m fitting and predicting completed\n",
      "[14:19:57] Start fitting \u001b[1mLvl_0_Pipe_0_Mod_7_TorchNN_autoint_7\u001b[0m ...\n",
      "[14:22:20] Fitting \u001b[1mLvl_0_Pipe_0_Mod_7_TorchNN_autoint_7\u001b[0m finished. score = \u001b[1m0.5838480078330948\u001b[0m\n",
      "[14:22:20] \u001b[1mLvl_0_Pipe_0_Mod_7_TorchNN_autoint_7\u001b[0m fitting and predicting completed\n",
      "[14:22:20] Start fitting \u001b[1mLvl_0_Pipe_0_Mod_8_TorchNN_fttransformer_8\u001b[0m ...\n",
      "[14:24:54] Fitting \u001b[1mLvl_0_Pipe_0_Mod_8_TorchNN_fttransformer_8\u001b[0m finished. score = \u001b[1m0.806162509818268\u001b[0m\n",
      "[14:24:54] \u001b[1mLvl_0_Pipe_0_Mod_8_TorchNN_fttransformer_8\u001b[0m fitting and predicting completed\n",
      "[14:24:54] Time left 21093.97 secs\n",
      "\n",
      "[14:24:54] \u001b[1mLayer 1 training completed.\u001b[0m\n",
      "\n",
      "[14:24:54] Blending: optimization starts with equal weights and score \u001b[1m0.8227325181032721\u001b[0m\n",
      "[14:24:55] Blending: iteration \u001b[1m0\u001b[0m: score = \u001b[1m0.8313557817493195\u001b[0m, weights = \u001b[1m[0.         0.         0.         0.         0.         0.2846424\n",
      " 0.587857   0.         0.12750056]\u001b[0m\n",
      "[14:24:55] Blending: iteration \u001b[1m1\u001b[0m: score = \u001b[1m0.832193024456902\u001b[0m, weights = \u001b[1m[0.         0.         0.         0.07708918 0.         0.17967689\n",
      " 0.624064   0.         0.11916989]\u001b[0m\n",
      "[14:24:55] Blending: iteration \u001b[1m2\u001b[0m: score = \u001b[1m0.8322259761779232\u001b[0m, weights = \u001b[1m[0.         0.         0.         0.06580004 0.         0.17532867\n",
      " 0.64258534 0.         0.11628596]\u001b[0m\n",
      "[14:24:55] Blending: iteration \u001b[1m3\u001b[0m: score = \u001b[1m0.8322259761779232\u001b[0m, weights = \u001b[1m[0.         0.         0.         0.06580004 0.         0.17532867\n",
      " 0.64258534 0.         0.11628596]\u001b[0m\n",
      "[14:24:55] Blending: no score update. Terminated\n",
      "\n",
      "[14:24:55] \u001b[1mAutoml preset training completed in 506.38 seconds\u001b[0m\n",
      "\n",
      "[14:24:55] Model description:\n",
      "Final prediction for new objects (level 0) = \n",
      "\t 0.06580 * (5 averaged models Lvl_0_Pipe_0_Mod_3_TorchNN_denselight_3) +\n",
      "\t 0.17533 * (5 averaged models Lvl_0_Pipe_0_Mod_5_TorchNN_snn_5) +\n",
      "\t 0.64259 * (5 averaged models Lvl_0_Pipe_0_Mod_6_TorchNN_node_6) +\n",
      "\t 0.11629 * (5 averaged models Lvl_0_Pipe_0_Mod_8_TorchNN_fttransformer_8) \n",
      "\n",
      "[14:25:05] Stdout logging level is INFO.\n",
      "[14:25:05] Task: binary\n",
      "\n",
      "[14:25:05] Start automl preset with listed constraints:\n",
      "[14:25:05] - time: 21600.00 seconds\n",
      "[14:25:05] - CPU: 4 cores\n",
      "[14:25:05] - memory: 16 GB\n",
      "\n",
      "[14:25:05] \u001b[1mTrain data shape: (3489, 104)\u001b[0m\n",
      "\n",
      "[14:25:08] Layer \u001b[1m1\u001b[0m train process start. Time left 21597.08 secs\n",
      "[14:25:08] Start fitting \u001b[1mLvl_0_Pipe_0_Mod_0_TorchNN_mlp_0\u001b[0m ...\n",
      "[14:25:21] Fitting \u001b[1mLvl_0_Pipe_0_Mod_0_TorchNN_mlp_0\u001b[0m finished. score = \u001b[1m0.8024853667459301\u001b[0m\n",
      "[14:25:21] \u001b[1mLvl_0_Pipe_0_Mod_0_TorchNN_mlp_0\u001b[0m fitting and predicting completed\n",
      "[14:25:21] Start fitting \u001b[1mLvl_0_Pipe_0_Mod_1_TorchNN_mlp_1\u001b[0m ...\n",
      "[14:25:35] Fitting \u001b[1mLvl_0_Pipe_0_Mod_1_TorchNN_mlp_1\u001b[0m finished. score = \u001b[1m0.8032634308524946\u001b[0m\n",
      "[14:25:35] \u001b[1mLvl_0_Pipe_0_Mod_1_TorchNN_mlp_1\u001b[0m fitting and predicting completed\n",
      "[14:25:35] Start fitting \u001b[1mLvl_0_Pipe_0_Mod_2_TorchNN_dense_2\u001b[0m ...\n",
      "[14:25:41] Fitting \u001b[1mLvl_0_Pipe_0_Mod_2_TorchNN_dense_2\u001b[0m finished. score = \u001b[1m0.5006122967753043\u001b[0m\n",
      "[14:25:41] \u001b[1mLvl_0_Pipe_0_Mod_2_TorchNN_dense_2\u001b[0m fitting and predicting completed\n",
      "[14:25:41] Start fitting \u001b[1mLvl_0_Pipe_0_Mod_3_TorchNN_denselight_3\u001b[0m ...\n",
      "[14:25:52] Fitting \u001b[1mLvl_0_Pipe_0_Mod_3_TorchNN_denselight_3\u001b[0m finished. score = \u001b[1m0.7913002749115011\u001b[0m\n",
      "[14:25:52] \u001b[1mLvl_0_Pipe_0_Mod_3_TorchNN_denselight_3\u001b[0m fitting and predicting completed\n",
      "[14:25:52] Start fitting \u001b[1mLvl_0_Pipe_0_Mod_4_TorchNN_resnet_4\u001b[0m ...\n",
      "[14:25:59] Fitting \u001b[1mLvl_0_Pipe_0_Mod_4_TorchNN_resnet_4\u001b[0m finished. score = \u001b[1m0.8217708658367316\u001b[0m\n",
      "[14:25:59] \u001b[1mLvl_0_Pipe_0_Mod_4_TorchNN_resnet_4\u001b[0m fitting and predicting completed\n",
      "[14:25:59] Start fitting \u001b[1mLvl_0_Pipe_0_Mod_5_TorchNN_snn_5\u001b[0m ...\n",
      "[14:26:05] Fitting \u001b[1mLvl_0_Pipe_0_Mod_5_TorchNN_snn_5\u001b[0m finished. score = \u001b[1m0.8245828581112342\u001b[0m\n",
      "[14:26:05] \u001b[1mLvl_0_Pipe_0_Mod_5_TorchNN_snn_5\u001b[0m fitting and predicting completed\n",
      "[14:26:05] Start fitting \u001b[1mLvl_0_Pipe_0_Mod_6_TorchNN_node_6\u001b[0m ...\n",
      "[14:27:29] Fitting \u001b[1mLvl_0_Pipe_0_Mod_6_TorchNN_node_6\u001b[0m finished. score = \u001b[1m0.8198055310472461\u001b[0m\n",
      "[14:27:29] \u001b[1mLvl_0_Pipe_0_Mod_6_TorchNN_node_6\u001b[0m fitting and predicting completed\n",
      "[14:27:29] Start fitting \u001b[1mLvl_0_Pipe_0_Mod_7_TorchNN_autoint_7\u001b[0m ...\n",
      "[14:29:06] Fitting \u001b[1mLvl_0_Pipe_0_Mod_7_TorchNN_autoint_7\u001b[0m finished. score = \u001b[1m0.487041231345291\u001b[0m\n",
      "[14:29:06] \u001b[1mLvl_0_Pipe_0_Mod_7_TorchNN_autoint_7\u001b[0m fitting and predicting completed\n",
      "[14:29:06] Start fitting \u001b[1mLvl_0_Pipe_0_Mod_8_TorchNN_fttransformer_8\u001b[0m ...\n",
      "[14:30:45] Fitting \u001b[1mLvl_0_Pipe_0_Mod_8_TorchNN_fttransformer_8\u001b[0m finished. score = \u001b[1m0.7886019324503168\u001b[0m\n",
      "[14:30:45] \u001b[1mLvl_0_Pipe_0_Mod_8_TorchNN_fttransformer_8\u001b[0m fitting and predicting completed\n",
      "[14:30:45] Time left 21260.63 secs\n",
      "\n",
      "[14:30:45] \u001b[1mLayer 1 training completed.\u001b[0m\n",
      "\n",
      "[14:30:45] Blending: optimization starts with equal weights and score \u001b[1m0.8172591699932212\u001b[0m\n",
      "[14:30:45] Blending: iteration \u001b[1m0\u001b[0m: score = \u001b[1m0.8263128234648532\u001b[0m, weights = \u001b[1m[0.         0.         0.         0.         0.07038569 0.44658014\n",
      " 0.31950244 0.         0.16353166]\u001b[0m\n",
      "[14:30:45] Blending: iteration \u001b[1m1\u001b[0m: score = \u001b[1m0.827082481520137\u001b[0m, weights = \u001b[1m[0.         0.05555427 0.         0.         0.08764558 0.39815181\n",
      " 0.2848548  0.         0.17379357]\u001b[0m\n",
      "[14:30:45] Blending: iteration \u001b[1m2\u001b[0m: score = \u001b[1m0.8270828177621882\u001b[0m, weights = \u001b[1m[0.         0.05555427 0.         0.         0.08764558 0.39815181\n",
      " 0.28485477 0.         0.17379355]\u001b[0m\n",
      "[14:30:45] Blending: iteration \u001b[1m3\u001b[0m: score = \u001b[1m0.8270828177621882\u001b[0m, weights = \u001b[1m[0.         0.05555427 0.         0.         0.08764558 0.39815184\n",
      " 0.28485477 0.         0.17379355]\u001b[0m\n",
      "[14:30:45] Blending: no score update. Terminated\n",
      "\n",
      "[14:30:45] \u001b[1mAutoml preset training completed in 339.72 seconds\u001b[0m\n",
      "\n",
      "[14:30:45] Model description:\n",
      "Final prediction for new objects (level 0) = \n",
      "\t 0.05555 * (3 averaged models Lvl_0_Pipe_0_Mod_1_TorchNN_mlp_1) +\n",
      "\t 0.08765 * (3 averaged models Lvl_0_Pipe_0_Mod_4_TorchNN_resnet_4) +\n",
      "\t 0.39815 * (3 averaged models Lvl_0_Pipe_0_Mod_5_TorchNN_snn_5) +\n",
      "\t 0.28485 * (3 averaged models Lvl_0_Pipe_0_Mod_6_TorchNN_node_6) +\n",
      "\t 0.17379 * (3 averaged models Lvl_0_Pipe_0_Mod_8_TorchNN_fttransformer_8) \n",
      "\n"
     ]
    }
   ],
   "source": [
    "for i in range(2):\n",
    "    automl = TabularAutoML(\n",
    "                task = task,\n",
    "        timeout = TIMEOUT,\n",
    "        cpu_limit = N_THREADS,\n",
    "        reader_params = {'n_jobs': N_THREADS, 'cv': N_FOLDS[i], 'random_state': RANDOM_STATE},\n",
    "        gpu_ids='0',\n",
    "        general_params = {\"use_algos\": [['nn', 'mlp', 'dense', 'denselight', 'resnet', 'snn', 'node', 'autoint', 'fttransformer']]}, # ['nn', 'mlp', 'dense', 'denselight', 'resnet', 'snn', 'node', 'autoint', 'fttransformer'] or custom torch model\n",
    "        nn_params = {\"n_epochs\": 1000, \"bs\": 512, \"num_workers\": 0, \"path_to_save\": None, \"freeze_defaults\": True},\n",
    "        nn_pipeline_params = {\"use_qnt\": True, \"use_te\": False},\n",
    "    )\n",
    "    \n",
    "    automl.fit_predict(df_dict[\"train\"], roles = roles, verbose = 1)\n",
    "    addResult(automl, df_dict, y, Rc)"
   ]
  },
  {
   "cell_type": "markdown",
   "metadata": {},
   "source": [
    "## Turned"
   ]
  },
  {
   "cell_type": "code",
   "execution_count": 19,
   "metadata": {
    "scrolled": true
   },
   "outputs": [
    {
     "name": "stdout",
     "output_type": "stream",
     "text": [
      "[14:30:53] Stdout logging level is INFO.\n",
      "[14:30:53] Task: binary\n",
      "\n",
      "[14:30:53] Start automl preset with listed constraints:\n",
      "[14:30:53] - time: 21600.00 seconds\n",
      "[14:30:53] - CPU: 4 cores\n",
      "[14:30:53] - memory: 16 GB\n",
      "\n",
      "[14:30:53] \u001b[1mTrain data shape: (3489, 104)\u001b[0m\n",
      "\n",
      "[14:30:56] Layer \u001b[1m1\u001b[0m train process start. Time left 21597.03 secs\n",
      "[14:30:56] Start hyperparameters optimization for \u001b[1mLvl_0_Pipe_0_Mod_0_Tuned_TorchNN_mlp_0\u001b[0m ... Time budget is 1478.90 secs\n"
     ]
    },
    {
     "name": "stderr",
     "output_type": "stream",
     "text": [
      "C:\\Users\\ctiha\\Desktop\\compatition\\AutoML_LAMA\\Lib\\site-packages\\lightautoml\\ml_algo\\dl_model.py:642: FutureWarning: suggest_loguniform has been deprecated in v3.0.0. This feature will be removed in v6.0.0. See https://github.com/optuna/optuna/releases/tag/v3.0.0. Use suggest_float(..., log=True) instead.\n",
      "  lr = trial.suggest_loguniform(\"lr\", low=1e-5, high=1e-1)\n",
      "C:\\Users\\ctiha\\Desktop\\compatition\\AutoML_LAMA\\Lib\\site-packages\\lightautoml\\ml_algo\\dl_model.py:642: FutureWarning: suggest_loguniform has been deprecated in v3.0.0. This feature will be removed in v6.0.0. See https://github.com/optuna/optuna/releases/tag/v3.0.0. Use suggest_float(..., log=True) instead.\n",
      "  lr = trial.suggest_loguniform(\"lr\", low=1e-5, high=1e-1)\n",
      "C:\\Users\\ctiha\\Desktop\\compatition\\AutoML_LAMA\\Lib\\site-packages\\lightautoml\\ml_algo\\dl_model.py:640: FutureWarning: suggest_loguniform has been deprecated in v3.0.0. This feature will be removed in v6.0.0. See https://github.com/optuna/optuna/releases/tag/v3.0.0. Use suggest_float(..., log=True) instead.\n",
      "  weight_decay = trial.suggest_loguniform(\"weight_decay\", low=1e-6, high=1e-2)\n",
      "C:\\Users\\ctiha\\Desktop\\compatition\\AutoML_LAMA\\Lib\\site-packages\\lightautoml\\ml_algo\\dl_model.py:642: FutureWarning: suggest_loguniform has been deprecated in v3.0.0. This feature will be removed in v6.0.0. See https://github.com/optuna/optuna/releases/tag/v3.0.0. Use suggest_float(..., log=True) instead.\n",
      "  lr = trial.suggest_loguniform(\"lr\", low=1e-5, high=1e-1)\n",
      "C:\\Users\\ctiha\\Desktop\\compatition\\AutoML_LAMA\\Lib\\site-packages\\lightautoml\\ml_algo\\dl_model.py:642: FutureWarning: suggest_loguniform has been deprecated in v3.0.0. This feature will be removed in v6.0.0. See https://github.com/optuna/optuna/releases/tag/v3.0.0. Use suggest_float(..., log=True) instead.\n",
      "  lr = trial.suggest_loguniform(\"lr\", low=1e-5, high=1e-1)\n",
      "C:\\Users\\ctiha\\Desktop\\compatition\\AutoML_LAMA\\Lib\\site-packages\\lightautoml\\ml_algo\\dl_model.py:642: FutureWarning: suggest_loguniform has been deprecated in v3.0.0. This feature will be removed in v6.0.0. See https://github.com/optuna/optuna/releases/tag/v3.0.0. Use suggest_float(..., log=True) instead.\n",
      "  lr = trial.suggest_loguniform(\"lr\", low=1e-5, high=1e-1)\n"
     ]
    },
    {
     "name": "stdout",
     "output_type": "stream",
     "text": [
      "[14:32:02] Hyperparameters optimization for \u001b[1mLvl_0_Pipe_0_Mod_0_Tuned_TorchNN_mlp_0\u001b[0m completed\n",
      "[14:32:02] Start fitting \u001b[1mLvl_0_Pipe_0_Mod_0_Tuned_TorchNN_mlp_0\u001b[0m ...\n",
      "[14:33:47] Fitting \u001b[1mLvl_0_Pipe_0_Mod_0_Tuned_TorchNN_mlp_0\u001b[0m finished. score = \u001b[1m0.8244470163225341\u001b[0m\n",
      "[14:33:47] \u001b[1mLvl_0_Pipe_0_Mod_0_Tuned_TorchNN_mlp_0\u001b[0m fitting and predicting completed\n",
      "[14:33:47] Start hyperparameters optimization for \u001b[1mLvl_0_Pipe_0_Mod_1_Tuned_TorchNN_mlp_tuned_1\u001b[0m ... Time budget is 2194.21 secs\n"
     ]
    },
    {
     "name": "stderr",
     "output_type": "stream",
     "text": [
      "C:\\Users\\ctiha\\Desktop\\compatition\\AutoML_LAMA\\Lib\\site-packages\\lightautoml\\ml_algo\\dl_model.py:642: FutureWarning: suggest_loguniform has been deprecated in v3.0.0. This feature will be removed in v6.0.0. See https://github.com/optuna/optuna/releases/tag/v3.0.0. Use suggest_float(..., log=True) instead.\n",
      "  lr = trial.suggest_loguniform(\"lr\", low=1e-5, high=1e-1)\n",
      "C:\\Users\\ctiha\\Desktop\\compatition\\AutoML_LAMA\\Lib\\site-packages\\lightautoml\\ml_algo\\dl_model.py:642: FutureWarning: suggest_loguniform has been deprecated in v3.0.0. This feature will be removed in v6.0.0. See https://github.com/optuna/optuna/releases/tag/v3.0.0. Use suggest_float(..., log=True) instead.\n",
      "  lr = trial.suggest_loguniform(\"lr\", low=1e-5, high=1e-1)\n",
      "C:\\Users\\ctiha\\Desktop\\compatition\\AutoML_LAMA\\Lib\\site-packages\\lightautoml\\ml_algo\\dl_model.py:640: FutureWarning: suggest_loguniform has been deprecated in v3.0.0. This feature will be removed in v6.0.0. See https://github.com/optuna/optuna/releases/tag/v3.0.0. Use suggest_float(..., log=True) instead.\n",
      "  weight_decay = trial.suggest_loguniform(\"weight_decay\", low=1e-6, high=1e-2)\n",
      "C:\\Users\\ctiha\\Desktop\\compatition\\AutoML_LAMA\\Lib\\site-packages\\lightautoml\\ml_algo\\dl_model.py:642: FutureWarning: suggest_loguniform has been deprecated in v3.0.0. This feature will be removed in v6.0.0. See https://github.com/optuna/optuna/releases/tag/v3.0.0. Use suggest_float(..., log=True) instead.\n",
      "  lr = trial.suggest_loguniform(\"lr\", low=1e-5, high=1e-1)\n",
      "C:\\Users\\ctiha\\Desktop\\compatition\\AutoML_LAMA\\Lib\\site-packages\\lightautoml\\ml_algo\\dl_model.py:642: FutureWarning: suggest_loguniform has been deprecated in v3.0.0. This feature will be removed in v6.0.0. See https://github.com/optuna/optuna/releases/tag/v3.0.0. Use suggest_float(..., log=True) instead.\n",
      "  lr = trial.suggest_loguniform(\"lr\", low=1e-5, high=1e-1)\n",
      "C:\\Users\\ctiha\\Desktop\\compatition\\AutoML_LAMA\\Lib\\site-packages\\lightautoml\\ml_algo\\dl_model.py:642: FutureWarning: suggest_loguniform has been deprecated in v3.0.0. This feature will be removed in v6.0.0. See https://github.com/optuna/optuna/releases/tag/v3.0.0. Use suggest_float(..., log=True) instead.\n",
      "  lr = trial.suggest_loguniform(\"lr\", low=1e-5, high=1e-1)\n"
     ]
    },
    {
     "name": "stdout",
     "output_type": "stream",
     "text": [
      "[14:34:52] Hyperparameters optimization for \u001b[1mLvl_0_Pipe_0_Mod_1_Tuned_TorchNN_mlp_tuned_1\u001b[0m completed\n",
      "[14:34:52] Start fitting \u001b[1mLvl_0_Pipe_0_Mod_1_Tuned_TorchNN_mlp_tuned_1\u001b[0m ...\n",
      "[14:36:37] Fitting \u001b[1mLvl_0_Pipe_0_Mod_1_Tuned_TorchNN_mlp_tuned_1\u001b[0m finished. score = \u001b[1m0.8252449187101216\u001b[0m\n",
      "[14:36:37] \u001b[1mLvl_0_Pipe_0_Mod_1_Tuned_TorchNN_mlp_tuned_1\u001b[0m fitting and predicting completed\n",
      "[14:36:37] Start hyperparameters optimization for \u001b[1mLvl_0_Pipe_0_Mod_2_Tuned_TorchNN_dense_tuned_2\u001b[0m ... Time budget is 2496.94 secs\n"
     ]
    },
    {
     "name": "stderr",
     "output_type": "stream",
     "text": [
      "C:\\Users\\ctiha\\Desktop\\compatition\\AutoML_LAMA\\Lib\\site-packages\\lightautoml\\ml_algo\\dl_model.py:642: FutureWarning: suggest_loguniform has been deprecated in v3.0.0. This feature will be removed in v6.0.0. See https://github.com/optuna/optuna/releases/tag/v3.0.0. Use suggest_float(..., log=True) instead.\n",
      "  lr = trial.suggest_loguniform(\"lr\", low=1e-5, high=1e-1)\n",
      "C:\\Users\\ctiha\\Desktop\\compatition\\AutoML_LAMA\\Lib\\site-packages\\lightautoml\\ml_algo\\dl_model.py:642: FutureWarning: suggest_loguniform has been deprecated in v3.0.0. This feature will be removed in v6.0.0. See https://github.com/optuna/optuna/releases/tag/v3.0.0. Use suggest_float(..., log=True) instead.\n",
      "  lr = trial.suggest_loguniform(\"lr\", low=1e-5, high=1e-1)\n",
      "C:\\Users\\ctiha\\Desktop\\compatition\\AutoML_LAMA\\Lib\\site-packages\\lightautoml\\ml_algo\\dl_model.py:640: FutureWarning: suggest_loguniform has been deprecated in v3.0.0. This feature will be removed in v6.0.0. See https://github.com/optuna/optuna/releases/tag/v3.0.0. Use suggest_float(..., log=True) instead.\n",
      "  weight_decay = trial.suggest_loguniform(\"weight_decay\", low=1e-6, high=1e-2)\n",
      "C:\\Users\\ctiha\\Desktop\\compatition\\AutoML_LAMA\\Lib\\site-packages\\lightautoml\\ml_algo\\dl_model.py:642: FutureWarning: suggest_loguniform has been deprecated in v3.0.0. This feature will be removed in v6.0.0. See https://github.com/optuna/optuna/releases/tag/v3.0.0. Use suggest_float(..., log=True) instead.\n",
      "  lr = trial.suggest_loguniform(\"lr\", low=1e-5, high=1e-1)\n",
      "C:\\Users\\ctiha\\Desktop\\compatition\\AutoML_LAMA\\Lib\\site-packages\\lightautoml\\ml_algo\\dl_model.py:642: FutureWarning: suggest_loguniform has been deprecated in v3.0.0. This feature will be removed in v6.0.0. See https://github.com/optuna/optuna/releases/tag/v3.0.0. Use suggest_float(..., log=True) instead.\n",
      "  lr = trial.suggest_loguniform(\"lr\", low=1e-5, high=1e-1)\n",
      "C:\\Users\\ctiha\\Desktop\\compatition\\AutoML_LAMA\\Lib\\site-packages\\lightautoml\\ml_algo\\dl_model.py:642: FutureWarning: suggest_loguniform has been deprecated in v3.0.0. This feature will be removed in v6.0.0. See https://github.com/optuna/optuna/releases/tag/v3.0.0. Use suggest_float(..., log=True) instead.\n",
      "  lr = trial.suggest_loguniform(\"lr\", low=1e-5, high=1e-1)\n"
     ]
    },
    {
     "name": "stdout",
     "output_type": "stream",
     "text": [
      "[14:37:04] Hyperparameters optimization for \u001b[1mLvl_0_Pipe_0_Mod_2_Tuned_TorchNN_dense_tuned_2\u001b[0m completed\n",
      "[14:37:04] Start fitting \u001b[1mLvl_0_Pipe_0_Mod_2_Tuned_TorchNN_dense_tuned_2\u001b[0m ...\n",
      "[14:38:04] Fitting \u001b[1mLvl_0_Pipe_0_Mod_2_Tuned_TorchNN_dense_tuned_2\u001b[0m finished. score = \u001b[1m0.6969332707474796\u001b[0m\n",
      "[14:38:04] \u001b[1mLvl_0_Pipe_0_Mod_2_Tuned_TorchNN_dense_tuned_2\u001b[0m fitting and predicting completed\n",
      "[14:38:04] Start hyperparameters optimization for \u001b[1mLvl_0_Pipe_0_Mod_3_Tuned_TorchNN_denselight_tuned_3\u001b[0m ... Time budget is 2910.62 secs\n"
     ]
    },
    {
     "name": "stderr",
     "output_type": "stream",
     "text": [
      "C:\\Users\\ctiha\\Desktop\\compatition\\AutoML_LAMA\\Lib\\site-packages\\lightautoml\\ml_algo\\dl_model.py:642: FutureWarning: suggest_loguniform has been deprecated in v3.0.0. This feature will be removed in v6.0.0. See https://github.com/optuna/optuna/releases/tag/v3.0.0. Use suggest_float(..., log=True) instead.\n",
      "  lr = trial.suggest_loguniform(\"lr\", low=1e-5, high=1e-1)\n",
      "C:\\Users\\ctiha\\Desktop\\compatition\\AutoML_LAMA\\Lib\\site-packages\\lightautoml\\ml_algo\\dl_model.py:642: FutureWarning: suggest_loguniform has been deprecated in v3.0.0. This feature will be removed in v6.0.0. See https://github.com/optuna/optuna/releases/tag/v3.0.0. Use suggest_float(..., log=True) instead.\n",
      "  lr = trial.suggest_loguniform(\"lr\", low=1e-5, high=1e-1)\n",
      "C:\\Users\\ctiha\\Desktop\\compatition\\AutoML_LAMA\\Lib\\site-packages\\lightautoml\\ml_algo\\dl_model.py:640: FutureWarning: suggest_loguniform has been deprecated in v3.0.0. This feature will be removed in v6.0.0. See https://github.com/optuna/optuna/releases/tag/v3.0.0. Use suggest_float(..., log=True) instead.\n",
      "  weight_decay = trial.suggest_loguniform(\"weight_decay\", low=1e-6, high=1e-2)\n",
      "C:\\Users\\ctiha\\Desktop\\compatition\\AutoML_LAMA\\Lib\\site-packages\\lightautoml\\ml_algo\\dl_model.py:642: FutureWarning: suggest_loguniform has been deprecated in v3.0.0. This feature will be removed in v6.0.0. See https://github.com/optuna/optuna/releases/tag/v3.0.0. Use suggest_float(..., log=True) instead.\n",
      "  lr = trial.suggest_loguniform(\"lr\", low=1e-5, high=1e-1)\n",
      "C:\\Users\\ctiha\\Desktop\\compatition\\AutoML_LAMA\\Lib\\site-packages\\lightautoml\\ml_algo\\dl_model.py:642: FutureWarning: suggest_loguniform has been deprecated in v3.0.0. This feature will be removed in v6.0.0. See https://github.com/optuna/optuna/releases/tag/v3.0.0. Use suggest_float(..., log=True) instead.\n",
      "  lr = trial.suggest_loguniform(\"lr\", low=1e-5, high=1e-1)\n",
      "C:\\Users\\ctiha\\Desktop\\compatition\\AutoML_LAMA\\Lib\\site-packages\\lightautoml\\ml_algo\\dl_model.py:642: FutureWarning: suggest_loguniform has been deprecated in v3.0.0. This feature will be removed in v6.0.0. See https://github.com/optuna/optuna/releases/tag/v3.0.0. Use suggest_float(..., log=True) instead.\n",
      "  lr = trial.suggest_loguniform(\"lr\", low=1e-5, high=1e-1)\n"
     ]
    },
    {
     "name": "stdout",
     "output_type": "stream",
     "text": [
      "[14:39:21] Hyperparameters optimization for \u001b[1mLvl_0_Pipe_0_Mod_3_Tuned_TorchNN_denselight_tuned_3\u001b[0m completed\n",
      "[14:39:21] Start fitting \u001b[1mLvl_0_Pipe_0_Mod_3_Tuned_TorchNN_denselight_tuned_3\u001b[0m ...\n",
      "[14:40:25] Fitting \u001b[1mLvl_0_Pipe_0_Mod_3_Tuned_TorchNN_denselight_tuned_3\u001b[0m finished. score = \u001b[1m0.8174024091070489\u001b[0m\n",
      "[14:40:25] \u001b[1mLvl_0_Pipe_0_Mod_3_Tuned_TorchNN_denselight_tuned_3\u001b[0m fitting and predicting completed\n",
      "[14:40:25] Start hyperparameters optimization for \u001b[1mLvl_0_Pipe_0_Mod_4_Tuned_TorchNN_resnet_tuned_4\u001b[0m ... Time budget is 3473.15 secs\n"
     ]
    },
    {
     "name": "stderr",
     "output_type": "stream",
     "text": [
      "C:\\Users\\ctiha\\Desktop\\compatition\\AutoML_LAMA\\Lib\\site-packages\\lightautoml\\ml_algo\\dl_model.py:642: FutureWarning: suggest_loguniform has been deprecated in v3.0.0. This feature will be removed in v6.0.0. See https://github.com/optuna/optuna/releases/tag/v3.0.0. Use suggest_float(..., log=True) instead.\n",
      "  lr = trial.suggest_loguniform(\"lr\", low=1e-5, high=1e-1)\n",
      "C:\\Users\\ctiha\\Desktop\\compatition\\AutoML_LAMA\\Lib\\site-packages\\lightautoml\\ml_algo\\dl_model.py:642: FutureWarning: suggest_loguniform has been deprecated in v3.0.0. This feature will be removed in v6.0.0. See https://github.com/optuna/optuna/releases/tag/v3.0.0. Use suggest_float(..., log=True) instead.\n",
      "  lr = trial.suggest_loguniform(\"lr\", low=1e-5, high=1e-1)\n",
      "C:\\Users\\ctiha\\Desktop\\compatition\\AutoML_LAMA\\Lib\\site-packages\\lightautoml\\ml_algo\\dl_model.py:640: FutureWarning: suggest_loguniform has been deprecated in v3.0.0. This feature will be removed in v6.0.0. See https://github.com/optuna/optuna/releases/tag/v3.0.0. Use suggest_float(..., log=True) instead.\n",
      "  weight_decay = trial.suggest_loguniform(\"weight_decay\", low=1e-6, high=1e-2)\n",
      "C:\\Users\\ctiha\\Desktop\\compatition\\AutoML_LAMA\\Lib\\site-packages\\lightautoml\\ml_algo\\dl_model.py:642: FutureWarning: suggest_loguniform has been deprecated in v3.0.0. This feature will be removed in v6.0.0. See https://github.com/optuna/optuna/releases/tag/v3.0.0. Use suggest_float(..., log=True) instead.\n",
      "  lr = trial.suggest_loguniform(\"lr\", low=1e-5, high=1e-1)\n",
      "C:\\Users\\ctiha\\Desktop\\compatition\\AutoML_LAMA\\Lib\\site-packages\\lightautoml\\ml_algo\\dl_model.py:642: FutureWarning: suggest_loguniform has been deprecated in v3.0.0. This feature will be removed in v6.0.0. See https://github.com/optuna/optuna/releases/tag/v3.0.0. Use suggest_float(..., log=True) instead.\n",
      "  lr = trial.suggest_loguniform(\"lr\", low=1e-5, high=1e-1)\n",
      "C:\\Users\\ctiha\\Desktop\\compatition\\AutoML_LAMA\\Lib\\site-packages\\lightautoml\\ml_algo\\dl_model.py:642: FutureWarning: suggest_loguniform has been deprecated in v3.0.0. This feature will be removed in v6.0.0. See https://github.com/optuna/optuna/releases/tag/v3.0.0. Use suggest_float(..., log=True) instead.\n",
      "  lr = trial.suggest_loguniform(\"lr\", low=1e-5, high=1e-1)\n"
     ]
    },
    {
     "name": "stdout",
     "output_type": "stream",
     "text": [
      "[14:41:19] Hyperparameters optimization for \u001b[1mLvl_0_Pipe_0_Mod_4_Tuned_TorchNN_resnet_tuned_4\u001b[0m completed\n",
      "[14:41:19] Start fitting \u001b[1mLvl_0_Pipe_0_Mod_4_Tuned_TorchNN_resnet_tuned_4\u001b[0m ...\n",
      "[14:41:37] Fitting \u001b[1mLvl_0_Pipe_0_Mod_4_Tuned_TorchNN_resnet_tuned_4\u001b[0m finished. score = \u001b[1m0.8275024478421329\u001b[0m\n",
      "[14:41:37] \u001b[1mLvl_0_Pipe_0_Mod_4_Tuned_TorchNN_resnet_tuned_4\u001b[0m fitting and predicting completed\n",
      "[14:41:37] Start hyperparameters optimization for \u001b[1mLvl_0_Pipe_0_Mod_5_Tuned_TorchNN_snn_tuned_5\u001b[0m ... Time budget is 3600.00 secs\n"
     ]
    },
    {
     "name": "stderr",
     "output_type": "stream",
     "text": [
      "C:\\Users\\ctiha\\Desktop\\compatition\\AutoML_LAMA\\Lib\\site-packages\\lightautoml\\ml_algo\\dl_model.py:642: FutureWarning: suggest_loguniform has been deprecated in v3.0.0. This feature will be removed in v6.0.0. See https://github.com/optuna/optuna/releases/tag/v3.0.0. Use suggest_float(..., log=True) instead.\n",
      "  lr = trial.suggest_loguniform(\"lr\", low=1e-5, high=1e-1)\n",
      "C:\\Users\\ctiha\\Desktop\\compatition\\AutoML_LAMA\\Lib\\site-packages\\lightautoml\\ml_algo\\dl_model.py:642: FutureWarning: suggest_loguniform has been deprecated in v3.0.0. This feature will be removed in v6.0.0. See https://github.com/optuna/optuna/releases/tag/v3.0.0. Use suggest_float(..., log=True) instead.\n",
      "  lr = trial.suggest_loguniform(\"lr\", low=1e-5, high=1e-1)\n",
      "C:\\Users\\ctiha\\Desktop\\compatition\\AutoML_LAMA\\Lib\\site-packages\\lightautoml\\ml_algo\\dl_model.py:640: FutureWarning: suggest_loguniform has been deprecated in v3.0.0. This feature will be removed in v6.0.0. See https://github.com/optuna/optuna/releases/tag/v3.0.0. Use suggest_float(..., log=True) instead.\n",
      "  weight_decay = trial.suggest_loguniform(\"weight_decay\", low=1e-6, high=1e-2)\n",
      "C:\\Users\\ctiha\\Desktop\\compatition\\AutoML_LAMA\\Lib\\site-packages\\lightautoml\\ml_algo\\dl_model.py:642: FutureWarning: suggest_loguniform has been deprecated in v3.0.0. This feature will be removed in v6.0.0. See https://github.com/optuna/optuna/releases/tag/v3.0.0. Use suggest_float(..., log=True) instead.\n",
      "  lr = trial.suggest_loguniform(\"lr\", low=1e-5, high=1e-1)\n",
      "C:\\Users\\ctiha\\Desktop\\compatition\\AutoML_LAMA\\Lib\\site-packages\\lightautoml\\ml_algo\\dl_model.py:642: FutureWarning: suggest_loguniform has been deprecated in v3.0.0. This feature will be removed in v6.0.0. See https://github.com/optuna/optuna/releases/tag/v3.0.0. Use suggest_float(..., log=True) instead.\n",
      "  lr = trial.suggest_loguniform(\"lr\", low=1e-5, high=1e-1)\n",
      "C:\\Users\\ctiha\\Desktop\\compatition\\AutoML_LAMA\\Lib\\site-packages\\lightautoml\\ml_algo\\dl_model.py:642: FutureWarning: suggest_loguniform has been deprecated in v3.0.0. This feature will be removed in v6.0.0. See https://github.com/optuna/optuna/releases/tag/v3.0.0. Use suggest_float(..., log=True) instead.\n",
      "  lr = trial.suggest_loguniform(\"lr\", low=1e-5, high=1e-1)\n"
     ]
    },
    {
     "name": "stdout",
     "output_type": "stream",
     "text": [
      "[14:42:12] Hyperparameters optimization for \u001b[1mLvl_0_Pipe_0_Mod_5_Tuned_TorchNN_snn_tuned_5\u001b[0m completed\n",
      "[14:42:12] Start fitting \u001b[1mLvl_0_Pipe_0_Mod_5_Tuned_TorchNN_snn_tuned_5\u001b[0m ...\n",
      "[14:42:18] Fitting \u001b[1mLvl_0_Pipe_0_Mod_5_Tuned_TorchNN_snn_tuned_5\u001b[0m finished. score = \u001b[1m0.8362131344215021\u001b[0m\n",
      "[14:42:18] \u001b[1mLvl_0_Pipe_0_Mod_5_Tuned_TorchNN_snn_tuned_5\u001b[0m fitting and predicting completed\n",
      "[14:42:18] Start hyperparameters optimization for \u001b[1mLvl_0_Pipe_0_Mod_6_Tuned_TorchNN_node_tuned_6\u001b[0m ... Time budget is 3600.00 secs\n"
     ]
    },
    {
     "name": "stderr",
     "output_type": "stream",
     "text": [
      "C:\\Users\\ctiha\\Desktop\\compatition\\AutoML_LAMA\\Lib\\site-packages\\lightautoml\\ml_algo\\dl_model.py:642: FutureWarning: suggest_loguniform has been deprecated in v3.0.0. This feature will be removed in v6.0.0. See https://github.com/optuna/optuna/releases/tag/v3.0.0. Use suggest_float(..., log=True) instead.\n",
      "  lr = trial.suggest_loguniform(\"lr\", low=1e-5, high=1e-1)\n",
      "C:\\Users\\ctiha\\Desktop\\compatition\\AutoML_LAMA\\Lib\\site-packages\\lightautoml\\ml_algo\\dl_model.py:642: FutureWarning: suggest_loguniform has been deprecated in v3.0.0. This feature will be removed in v6.0.0. See https://github.com/optuna/optuna/releases/tag/v3.0.0. Use suggest_float(..., log=True) instead.\n",
      "  lr = trial.suggest_loguniform(\"lr\", low=1e-5, high=1e-1)\n",
      "C:\\Users\\ctiha\\Desktop\\compatition\\AutoML_LAMA\\Lib\\site-packages\\lightautoml\\ml_algo\\dl_model.py:640: FutureWarning: suggest_loguniform has been deprecated in v3.0.0. This feature will be removed in v6.0.0. See https://github.com/optuna/optuna/releases/tag/v3.0.0. Use suggest_float(..., log=True) instead.\n",
      "  weight_decay = trial.suggest_loguniform(\"weight_decay\", low=1e-6, high=1e-2)\n",
      "C:\\Users\\ctiha\\Desktop\\compatition\\AutoML_LAMA\\Lib\\site-packages\\lightautoml\\ml_algo\\dl_model.py:642: FutureWarning: suggest_loguniform has been deprecated in v3.0.0. This feature will be removed in v6.0.0. See https://github.com/optuna/optuna/releases/tag/v3.0.0. Use suggest_float(..., log=True) instead.\n",
      "  lr = trial.suggest_loguniform(\"lr\", low=1e-5, high=1e-1)\n",
      "C:\\Users\\ctiha\\Desktop\\compatition\\AutoML_LAMA\\Lib\\site-packages\\lightautoml\\ml_algo\\dl_model.py:642: FutureWarning: suggest_loguniform has been deprecated in v3.0.0. This feature will be removed in v6.0.0. See https://github.com/optuna/optuna/releases/tag/v3.0.0. Use suggest_float(..., log=True) instead.\n",
      "  lr = trial.suggest_loguniform(\"lr\", low=1e-5, high=1e-1)\n",
      "C:\\Users\\ctiha\\Desktop\\compatition\\AutoML_LAMA\\Lib\\site-packages\\lightautoml\\ml_algo\\dl_model.py:642: FutureWarning: suggest_loguniform has been deprecated in v3.0.0. This feature will be removed in v6.0.0. See https://github.com/optuna/optuna/releases/tag/v3.0.0. Use suggest_float(..., log=True) instead.\n",
      "  lr = trial.suggest_loguniform(\"lr\", low=1e-5, high=1e-1)\n"
     ]
    },
    {
     "name": "stdout",
     "output_type": "stream",
     "text": [
      "[14:47:52] Hyperparameters optimization for \u001b[1mLvl_0_Pipe_0_Mod_6_Tuned_TorchNN_node_tuned_6\u001b[0m completed\n",
      "[14:47:52] Start fitting \u001b[1mLvl_0_Pipe_0_Mod_6_Tuned_TorchNN_node_tuned_6\u001b[0m ...\n",
      "[14:51:32] Fitting \u001b[1mLvl_0_Pipe_0_Mod_6_Tuned_TorchNN_node_tuned_6\u001b[0m finished. score = \u001b[1m0.8234877177503523\u001b[0m\n",
      "[14:51:32] \u001b[1mLvl_0_Pipe_0_Mod_6_Tuned_TorchNN_node_tuned_6\u001b[0m fitting and predicting completed\n",
      "[14:51:32] Start hyperparameters optimization for \u001b[1mLvl_0_Pipe_0_Mod_7_Tuned_TorchNN_autoint_tuned_7\u001b[0m ... Time budget is 3600.00 secs\n"
     ]
    },
    {
     "name": "stderr",
     "output_type": "stream",
     "text": [
      "C:\\Users\\ctiha\\Desktop\\compatition\\AutoML_LAMA\\Lib\\site-packages\\lightautoml\\ml_algo\\dl_model.py:642: FutureWarning: suggest_loguniform has been deprecated in v3.0.0. This feature will be removed in v6.0.0. See https://github.com/optuna/optuna/releases/tag/v3.0.0. Use suggest_float(..., log=True) instead.\n",
      "  lr = trial.suggest_loguniform(\"lr\", low=1e-5, high=1e-1)\n",
      "C:\\Users\\ctiha\\Desktop\\compatition\\AutoML_LAMA\\Lib\\site-packages\\lightautoml\\ml_algo\\dl_model.py:642: FutureWarning: suggest_loguniform has been deprecated in v3.0.0. This feature will be removed in v6.0.0. See https://github.com/optuna/optuna/releases/tag/v3.0.0. Use suggest_float(..., log=True) instead.\n",
      "  lr = trial.suggest_loguniform(\"lr\", low=1e-5, high=1e-1)\n",
      "C:\\Users\\ctiha\\Desktop\\compatition\\AutoML_LAMA\\Lib\\site-packages\\lightautoml\\ml_algo\\dl_model.py:640: FutureWarning: suggest_loguniform has been deprecated in v3.0.0. This feature will be removed in v6.0.0. See https://github.com/optuna/optuna/releases/tag/v3.0.0. Use suggest_float(..., log=True) instead.\n",
      "  weight_decay = trial.suggest_loguniform(\"weight_decay\", low=1e-6, high=1e-2)\n",
      "C:\\Users\\ctiha\\Desktop\\compatition\\AutoML_LAMA\\Lib\\site-packages\\lightautoml\\ml_algo\\dl_model.py:642: FutureWarning: suggest_loguniform has been deprecated in v3.0.0. This feature will be removed in v6.0.0. See https://github.com/optuna/optuna/releases/tag/v3.0.0. Use suggest_float(..., log=True) instead.\n",
      "  lr = trial.suggest_loguniform(\"lr\", low=1e-5, high=1e-1)\n",
      "C:\\Users\\ctiha\\Desktop\\compatition\\AutoML_LAMA\\Lib\\site-packages\\lightautoml\\ml_algo\\dl_model.py:642: FutureWarning: suggest_loguniform has been deprecated in v3.0.0. This feature will be removed in v6.0.0. See https://github.com/optuna/optuna/releases/tag/v3.0.0. Use suggest_float(..., log=True) instead.\n",
      "  lr = trial.suggest_loguniform(\"lr\", low=1e-5, high=1e-1)\n",
      "C:\\Users\\ctiha\\Desktop\\compatition\\AutoML_LAMA\\Lib\\site-packages\\lightautoml\\ml_algo\\dl_model.py:642: FutureWarning: suggest_loguniform has been deprecated in v3.0.0. This feature will be removed in v6.0.0. See https://github.com/optuna/optuna/releases/tag/v3.0.0. Use suggest_float(..., log=True) instead.\n",
      "  lr = trial.suggest_loguniform(\"lr\", low=1e-5, high=1e-1)\n"
     ]
    },
    {
     "name": "stdout",
     "output_type": "stream",
     "text": [
      "[14:57:14] Hyperparameters optimization for \u001b[1mLvl_0_Pipe_0_Mod_7_Tuned_TorchNN_autoint_tuned_7\u001b[0m completed\n",
      "[14:57:14] Start fitting \u001b[1mLvl_0_Pipe_0_Mod_7_Tuned_TorchNN_autoint_tuned_7\u001b[0m ...\n",
      "[14:58:51] Fitting \u001b[1mLvl_0_Pipe_0_Mod_7_Tuned_TorchNN_autoint_tuned_7\u001b[0m finished. score = \u001b[1m0.7999568265206211\u001b[0m\n",
      "[14:58:51] \u001b[1mLvl_0_Pipe_0_Mod_7_Tuned_TorchNN_autoint_tuned_7\u001b[0m fitting and predicting completed\n",
      "[14:58:51] Start hyperparameters optimization for \u001b[1mLvl_0_Pipe_0_Mod_8_Tuned_TorchNN_fttransformer_tuned_8\u001b[0m ... Time budget is 3600.00 secs\n"
     ]
    },
    {
     "name": "stderr",
     "output_type": "stream",
     "text": [
      "C:\\Users\\ctiha\\Desktop\\compatition\\AutoML_LAMA\\Lib\\site-packages\\lightautoml\\ml_algo\\dl_model.py:642: FutureWarning: suggest_loguniform has been deprecated in v3.0.0. This feature will be removed in v6.0.0. See https://github.com/optuna/optuna/releases/tag/v3.0.0. Use suggest_float(..., log=True) instead.\n",
      "  lr = trial.suggest_loguniform(\"lr\", low=1e-5, high=1e-1)\n",
      "C:\\Users\\ctiha\\Desktop\\compatition\\AutoML_LAMA\\Lib\\site-packages\\lightautoml\\ml_algo\\dl_model.py:642: FutureWarning: suggest_loguniform has been deprecated in v3.0.0. This feature will be removed in v6.0.0. See https://github.com/optuna/optuna/releases/tag/v3.0.0. Use suggest_float(..., log=True) instead.\n",
      "  lr = trial.suggest_loguniform(\"lr\", low=1e-5, high=1e-1)\n",
      "C:\\Users\\ctiha\\Desktop\\compatition\\AutoML_LAMA\\Lib\\site-packages\\lightautoml\\ml_algo\\dl_model.py:640: FutureWarning: suggest_loguniform has been deprecated in v3.0.0. This feature will be removed in v6.0.0. See https://github.com/optuna/optuna/releases/tag/v3.0.0. Use suggest_float(..., log=True) instead.\n",
      "  weight_decay = trial.suggest_loguniform(\"weight_decay\", low=1e-6, high=1e-2)\n",
      "C:\\Users\\ctiha\\Desktop\\compatition\\AutoML_LAMA\\Lib\\site-packages\\lightautoml\\ml_algo\\dl_model.py:642: FutureWarning: suggest_loguniform has been deprecated in v3.0.0. This feature will be removed in v6.0.0. See https://github.com/optuna/optuna/releases/tag/v3.0.0. Use suggest_float(..., log=True) instead.\n",
      "  lr = trial.suggest_loguniform(\"lr\", low=1e-5, high=1e-1)\n",
      "C:\\Users\\ctiha\\Desktop\\compatition\\AutoML_LAMA\\Lib\\site-packages\\lightautoml\\ml_algo\\dl_model.py:642: FutureWarning: suggest_loguniform has been deprecated in v3.0.0. This feature will be removed in v6.0.0. See https://github.com/optuna/optuna/releases/tag/v3.0.0. Use suggest_float(..., log=True) instead.\n",
      "  lr = trial.suggest_loguniform(\"lr\", low=1e-5, high=1e-1)\n",
      "C:\\Users\\ctiha\\Desktop\\compatition\\AutoML_LAMA\\Lib\\site-packages\\lightautoml\\ml_algo\\dl_model.py:642: FutureWarning: suggest_loguniform has been deprecated in v3.0.0. This feature will be removed in v6.0.0. See https://github.com/optuna/optuna/releases/tag/v3.0.0. Use suggest_float(..., log=True) instead.\n",
      "  lr = trial.suggest_loguniform(\"lr\", low=1e-5, high=1e-1)\n"
     ]
    },
    {
     "name": "stdout",
     "output_type": "stream",
     "text": [
      "[15:13:04] Hyperparameters optimization for \u001b[1mLvl_0_Pipe_0_Mod_8_Tuned_TorchNN_fttransformer_tuned_8\u001b[0m completed\n",
      "[15:13:04] Start fitting \u001b[1mLvl_0_Pipe_0_Mod_8_Tuned_TorchNN_fttransformer_tuned_8\u001b[0m ...\n",
      "[15:15:32] Fitting \u001b[1mLvl_0_Pipe_0_Mod_8_Tuned_TorchNN_fttransformer_tuned_8\u001b[0m finished. score = \u001b[1m0.8247785509850547\u001b[0m\n",
      "[15:15:32] \u001b[1mLvl_0_Pipe_0_Mod_8_Tuned_TorchNN_fttransformer_tuned_8\u001b[0m fitting and predicting completed\n",
      "[15:15:32] Time left 18920.68 secs\n",
      "\n",
      "[15:15:32] \u001b[1mLayer 1 training completed.\u001b[0m\n",
      "\n",
      "[15:15:32] Blending: optimization starts with equal weights and score \u001b[1m0.8312710487524074\u001b[0m\n",
      "[15:15:32] Blending: iteration \u001b[1m0\u001b[0m: score = \u001b[1m0.8376105563864471\u001b[0m, weights = \u001b[1m[0.         0.         0.         0.         0.         0.8211404\n",
      " 0.         0.05133308 0.12752648]\u001b[0m\n",
      "[15:15:32] Blending: iteration \u001b[1m1\u001b[0m: score = \u001b[1m0.8377235337156628\u001b[0m, weights = \u001b[1m[0.         0.         0.         0.         0.16655181 0.56457114\n",
      " 0.0703744  0.         0.19850266]\u001b[0m\n",
      "[15:15:32] Blending: iteration \u001b[1m2\u001b[0m: score = \u001b[1m0.837788764673603\u001b[0m, weights = \u001b[1m[0.         0.         0.         0.         0.14686486 0.6511084\n",
      " 0.06926982 0.         0.13275695]\u001b[0m\n",
      "[15:15:32] Blending: iteration \u001b[1m3\u001b[0m: score = \u001b[1m0.8378082667125748\u001b[0m, weights = \u001b[1m[0.         0.         0.         0.         0.14986329 0.6459181\n",
      " 0.07002135 0.         0.13419728]\u001b[0m\n",
      "[15:15:32] Blending: iteration \u001b[1m4\u001b[0m: score = \u001b[1m0.8378082667125749\u001b[0m, weights = \u001b[1m[0.         0.         0.         0.         0.14986327 0.6459181\n",
      " 0.07002135 0.         0.13419726]\u001b[0m\n",
      "[15:15:32] \u001b[1mAutoml preset training completed in 2679.76 seconds\u001b[0m\n",
      "\n",
      "[15:15:32] Model description:\n",
      "Final prediction for new objects (level 0) = \n",
      "\t 0.14986 * (5 averaged models Lvl_0_Pipe_0_Mod_4_Tuned_TorchNN_resnet_tuned_4) +\n",
      "\t 0.64592 * (5 averaged models Lvl_0_Pipe_0_Mod_5_Tuned_TorchNN_snn_tuned_5) +\n",
      "\t 0.07002 * (5 averaged models Lvl_0_Pipe_0_Mod_6_Tuned_TorchNN_node_tuned_6) +\n",
      "\t 0.13420 * (5 averaged models Lvl_0_Pipe_0_Mod_8_Tuned_TorchNN_fttransformer_tuned_8) \n",
      "\n",
      "[15:15:43] Stdout logging level is INFO.\n",
      "[15:15:43] Task: binary\n",
      "\n",
      "[15:15:43] Start automl preset with listed constraints:\n",
      "[15:15:43] - time: 21600.00 seconds\n",
      "[15:15:43] - CPU: 4 cores\n",
      "[15:15:43] - memory: 16 GB\n",
      "\n",
      "[15:15:43] \u001b[1mTrain data shape: (3489, 104)\u001b[0m\n",
      "\n",
      "[15:15:46] Layer \u001b[1m1\u001b[0m train process start. Time left 21596.71 secs\n",
      "[15:15:46] Start hyperparameters optimization for \u001b[1mLvl_0_Pipe_0_Mod_0_Tuned_TorchNN_mlp_0\u001b[0m ... Time budget is 1478.88 secs\n"
     ]
    },
    {
     "name": "stderr",
     "output_type": "stream",
     "text": [
      "C:\\Users\\ctiha\\Desktop\\compatition\\AutoML_LAMA\\Lib\\site-packages\\lightautoml\\ml_algo\\dl_model.py:642: FutureWarning: suggest_loguniform has been deprecated in v3.0.0. This feature will be removed in v6.0.0. See https://github.com/optuna/optuna/releases/tag/v3.0.0. Use suggest_float(..., log=True) instead.\n",
      "  lr = trial.suggest_loguniform(\"lr\", low=1e-5, high=1e-1)\n",
      "C:\\Users\\ctiha\\Desktop\\compatition\\AutoML_LAMA\\Lib\\site-packages\\lightautoml\\ml_algo\\dl_model.py:642: FutureWarning: suggest_loguniform has been deprecated in v3.0.0. This feature will be removed in v6.0.0. See https://github.com/optuna/optuna/releases/tag/v3.0.0. Use suggest_float(..., log=True) instead.\n",
      "  lr = trial.suggest_loguniform(\"lr\", low=1e-5, high=1e-1)\n",
      "C:\\Users\\ctiha\\Desktop\\compatition\\AutoML_LAMA\\Lib\\site-packages\\lightautoml\\ml_algo\\dl_model.py:640: FutureWarning: suggest_loguniform has been deprecated in v3.0.0. This feature will be removed in v6.0.0. See https://github.com/optuna/optuna/releases/tag/v3.0.0. Use suggest_float(..., log=True) instead.\n",
      "  weight_decay = trial.suggest_loguniform(\"weight_decay\", low=1e-6, high=1e-2)\n",
      "C:\\Users\\ctiha\\Desktop\\compatition\\AutoML_LAMA\\Lib\\site-packages\\lightautoml\\ml_algo\\dl_model.py:642: FutureWarning: suggest_loguniform has been deprecated in v3.0.0. This feature will be removed in v6.0.0. See https://github.com/optuna/optuna/releases/tag/v3.0.0. Use suggest_float(..., log=True) instead.\n",
      "  lr = trial.suggest_loguniform(\"lr\", low=1e-5, high=1e-1)\n",
      "C:\\Users\\ctiha\\Desktop\\compatition\\AutoML_LAMA\\Lib\\site-packages\\lightautoml\\ml_algo\\dl_model.py:642: FutureWarning: suggest_loguniform has been deprecated in v3.0.0. This feature will be removed in v6.0.0. See https://github.com/optuna/optuna/releases/tag/v3.0.0. Use suggest_float(..., log=True) instead.\n",
      "  lr = trial.suggest_loguniform(\"lr\", low=1e-5, high=1e-1)\n",
      "C:\\Users\\ctiha\\Desktop\\compatition\\AutoML_LAMA\\Lib\\site-packages\\lightautoml\\ml_algo\\dl_model.py:642: FutureWarning: suggest_loguniform has been deprecated in v3.0.0. This feature will be removed in v6.0.0. See https://github.com/optuna/optuna/releases/tag/v3.0.0. Use suggest_float(..., log=True) instead.\n",
      "  lr = trial.suggest_loguniform(\"lr\", low=1e-5, high=1e-1)\n"
     ]
    },
    {
     "name": "stdout",
     "output_type": "stream",
     "text": [
      "[15:17:45] Hyperparameters optimization for \u001b[1mLvl_0_Pipe_0_Mod_0_Tuned_TorchNN_mlp_0\u001b[0m completed\n",
      "[15:17:45] Start fitting \u001b[1mLvl_0_Pipe_0_Mod_0_Tuned_TorchNN_mlp_0\u001b[0m ...\n",
      "[15:18:34] Fitting \u001b[1mLvl_0_Pipe_0_Mod_0_Tuned_TorchNN_mlp_0\u001b[0m finished. score = \u001b[1m0.8245135922486794\u001b[0m\n",
      "[15:18:34] \u001b[1mLvl_0_Pipe_0_Mod_0_Tuned_TorchNN_mlp_0\u001b[0m fitting and predicting completed\n",
      "[15:18:34] Start hyperparameters optimization for \u001b[1mLvl_0_Pipe_0_Mod_1_Tuned_TorchNN_mlp_tuned_1\u001b[0m ... Time budget is 2297.40 secs\n"
     ]
    },
    {
     "name": "stderr",
     "output_type": "stream",
     "text": [
      "C:\\Users\\ctiha\\Desktop\\compatition\\AutoML_LAMA\\Lib\\site-packages\\lightautoml\\ml_algo\\dl_model.py:642: FutureWarning: suggest_loguniform has been deprecated in v3.0.0. This feature will be removed in v6.0.0. See https://github.com/optuna/optuna/releases/tag/v3.0.0. Use suggest_float(..., log=True) instead.\n",
      "  lr = trial.suggest_loguniform(\"lr\", low=1e-5, high=1e-1)\n",
      "C:\\Users\\ctiha\\Desktop\\compatition\\AutoML_LAMA\\Lib\\site-packages\\lightautoml\\ml_algo\\dl_model.py:642: FutureWarning: suggest_loguniform has been deprecated in v3.0.0. This feature will be removed in v6.0.0. See https://github.com/optuna/optuna/releases/tag/v3.0.0. Use suggest_float(..., log=True) instead.\n",
      "  lr = trial.suggest_loguniform(\"lr\", low=1e-5, high=1e-1)\n",
      "C:\\Users\\ctiha\\Desktop\\compatition\\AutoML_LAMA\\Lib\\site-packages\\lightautoml\\ml_algo\\dl_model.py:640: FutureWarning: suggest_loguniform has been deprecated in v3.0.0. This feature will be removed in v6.0.0. See https://github.com/optuna/optuna/releases/tag/v3.0.0. Use suggest_float(..., log=True) instead.\n",
      "  weight_decay = trial.suggest_loguniform(\"weight_decay\", low=1e-6, high=1e-2)\n",
      "C:\\Users\\ctiha\\Desktop\\compatition\\AutoML_LAMA\\Lib\\site-packages\\lightautoml\\ml_algo\\dl_model.py:642: FutureWarning: suggest_loguniform has been deprecated in v3.0.0. This feature will be removed in v6.0.0. See https://github.com/optuna/optuna/releases/tag/v3.0.0. Use suggest_float(..., log=True) instead.\n",
      "  lr = trial.suggest_loguniform(\"lr\", low=1e-5, high=1e-1)\n",
      "C:\\Users\\ctiha\\Desktop\\compatition\\AutoML_LAMA\\Lib\\site-packages\\lightautoml\\ml_algo\\dl_model.py:642: FutureWarning: suggest_loguniform has been deprecated in v3.0.0. This feature will be removed in v6.0.0. See https://github.com/optuna/optuna/releases/tag/v3.0.0. Use suggest_float(..., log=True) instead.\n",
      "  lr = trial.suggest_loguniform(\"lr\", low=1e-5, high=1e-1)\n",
      "C:\\Users\\ctiha\\Desktop\\compatition\\AutoML_LAMA\\Lib\\site-packages\\lightautoml\\ml_algo\\dl_model.py:642: FutureWarning: suggest_loguniform has been deprecated in v3.0.0. This feature will be removed in v6.0.0. See https://github.com/optuna/optuna/releases/tag/v3.0.0. Use suggest_float(..., log=True) instead.\n",
      "  lr = trial.suggest_loguniform(\"lr\", low=1e-5, high=1e-1)\n"
     ]
    },
    {
     "name": "stdout",
     "output_type": "stream",
     "text": [
      "[15:20:33] Hyperparameters optimization for \u001b[1mLvl_0_Pipe_0_Mod_1_Tuned_TorchNN_mlp_tuned_1\u001b[0m completed\n",
      "[15:20:33] Start fitting \u001b[1mLvl_0_Pipe_0_Mod_1_Tuned_TorchNN_mlp_tuned_1\u001b[0m ...\n",
      "[15:21:23] Fitting \u001b[1mLvl_0_Pipe_0_Mod_1_Tuned_TorchNN_mlp_tuned_1\u001b[0m finished. score = \u001b[1m0.8244668546035571\u001b[0m\n",
      "[15:21:23] \u001b[1mLvl_0_Pipe_0_Mod_1_Tuned_TorchNN_mlp_tuned_1\u001b[0m fitting and predicting completed\n",
      "[15:21:23] Start hyperparameters optimization for \u001b[1mLvl_0_Pipe_0_Mod_2_Tuned_TorchNN_dense_tuned_2\u001b[0m ... Time budget is 2599.35 secs\n"
     ]
    },
    {
     "name": "stderr",
     "output_type": "stream",
     "text": [
      "C:\\Users\\ctiha\\Desktop\\compatition\\AutoML_LAMA\\Lib\\site-packages\\lightautoml\\ml_algo\\dl_model.py:642: FutureWarning: suggest_loguniform has been deprecated in v3.0.0. This feature will be removed in v6.0.0. See https://github.com/optuna/optuna/releases/tag/v3.0.0. Use suggest_float(..., log=True) instead.\n",
      "  lr = trial.suggest_loguniform(\"lr\", low=1e-5, high=1e-1)\n",
      "C:\\Users\\ctiha\\Desktop\\compatition\\AutoML_LAMA\\Lib\\site-packages\\lightautoml\\ml_algo\\dl_model.py:642: FutureWarning: suggest_loguniform has been deprecated in v3.0.0. This feature will be removed in v6.0.0. See https://github.com/optuna/optuna/releases/tag/v3.0.0. Use suggest_float(..., log=True) instead.\n",
      "  lr = trial.suggest_loguniform(\"lr\", low=1e-5, high=1e-1)\n",
      "C:\\Users\\ctiha\\Desktop\\compatition\\AutoML_LAMA\\Lib\\site-packages\\lightautoml\\ml_algo\\dl_model.py:640: FutureWarning: suggest_loguniform has been deprecated in v3.0.0. This feature will be removed in v6.0.0. See https://github.com/optuna/optuna/releases/tag/v3.0.0. Use suggest_float(..., log=True) instead.\n",
      "  weight_decay = trial.suggest_loguniform(\"weight_decay\", low=1e-6, high=1e-2)\n",
      "C:\\Users\\ctiha\\Desktop\\compatition\\AutoML_LAMA\\Lib\\site-packages\\lightautoml\\ml_algo\\dl_model.py:642: FutureWarning: suggest_loguniform has been deprecated in v3.0.0. This feature will be removed in v6.0.0. See https://github.com/optuna/optuna/releases/tag/v3.0.0. Use suggest_float(..., log=True) instead.\n",
      "  lr = trial.suggest_loguniform(\"lr\", low=1e-5, high=1e-1)\n",
      "C:\\Users\\ctiha\\Desktop\\compatition\\AutoML_LAMA\\Lib\\site-packages\\lightautoml\\ml_algo\\dl_model.py:642: FutureWarning: suggest_loguniform has been deprecated in v3.0.0. This feature will be removed in v6.0.0. See https://github.com/optuna/optuna/releases/tag/v3.0.0. Use suggest_float(..., log=True) instead.\n",
      "  lr = trial.suggest_loguniform(\"lr\", low=1e-5, high=1e-1)\n",
      "C:\\Users\\ctiha\\Desktop\\compatition\\AutoML_LAMA\\Lib\\site-packages\\lightautoml\\ml_algo\\dl_model.py:642: FutureWarning: suggest_loguniform has been deprecated in v3.0.0. This feature will be removed in v6.0.0. See https://github.com/optuna/optuna/releases/tag/v3.0.0. Use suggest_float(..., log=True) instead.\n",
      "  lr = trial.suggest_loguniform(\"lr\", low=1e-5, high=1e-1)\n"
     ]
    },
    {
     "name": "stdout",
     "output_type": "stream",
     "text": [
      "[15:21:52] Hyperparameters optimization for \u001b[1mLvl_0_Pipe_0_Mod_2_Tuned_TorchNN_dense_tuned_2\u001b[0m completed\n",
      "[15:21:52] Start fitting \u001b[1mLvl_0_Pipe_0_Mod_2_Tuned_TorchNN_dense_tuned_2\u001b[0m ...\n",
      "[15:22:09] Fitting \u001b[1mLvl_0_Pipe_0_Mod_2_Tuned_TorchNN_dense_tuned_2\u001b[0m finished. score = \u001b[1m0.5022965332099549\u001b[0m\n",
      "[15:22:09] \u001b[1mLvl_0_Pipe_0_Mod_2_Tuned_TorchNN_dense_tuned_2\u001b[0m fitting and predicting completed\n",
      "[15:22:09] Start hyperparameters optimization for \u001b[1mLvl_0_Pipe_0_Mod_3_Tuned_TorchNN_denselight_tuned_3\u001b[0m ... Time budget is 3019.78 secs\n"
     ]
    },
    {
     "name": "stderr",
     "output_type": "stream",
     "text": [
      "C:\\Users\\ctiha\\Desktop\\compatition\\AutoML_LAMA\\Lib\\site-packages\\lightautoml\\ml_algo\\dl_model.py:642: FutureWarning: suggest_loguniform has been deprecated in v3.0.0. This feature will be removed in v6.0.0. See https://github.com/optuna/optuna/releases/tag/v3.0.0. Use suggest_float(..., log=True) instead.\n",
      "  lr = trial.suggest_loguniform(\"lr\", low=1e-5, high=1e-1)\n",
      "C:\\Users\\ctiha\\Desktop\\compatition\\AutoML_LAMA\\Lib\\site-packages\\lightautoml\\ml_algo\\dl_model.py:642: FutureWarning: suggest_loguniform has been deprecated in v3.0.0. This feature will be removed in v6.0.0. See https://github.com/optuna/optuna/releases/tag/v3.0.0. Use suggest_float(..., log=True) instead.\n",
      "  lr = trial.suggest_loguniform(\"lr\", low=1e-5, high=1e-1)\n",
      "C:\\Users\\ctiha\\Desktop\\compatition\\AutoML_LAMA\\Lib\\site-packages\\lightautoml\\ml_algo\\dl_model.py:640: FutureWarning: suggest_loguniform has been deprecated in v3.0.0. This feature will be removed in v6.0.0. See https://github.com/optuna/optuna/releases/tag/v3.0.0. Use suggest_float(..., log=True) instead.\n",
      "  weight_decay = trial.suggest_loguniform(\"weight_decay\", low=1e-6, high=1e-2)\n",
      "C:\\Users\\ctiha\\Desktop\\compatition\\AutoML_LAMA\\Lib\\site-packages\\lightautoml\\ml_algo\\dl_model.py:642: FutureWarning: suggest_loguniform has been deprecated in v3.0.0. This feature will be removed in v6.0.0. See https://github.com/optuna/optuna/releases/tag/v3.0.0. Use suggest_float(..., log=True) instead.\n",
      "  lr = trial.suggest_loguniform(\"lr\", low=1e-5, high=1e-1)\n",
      "C:\\Users\\ctiha\\Desktop\\compatition\\AutoML_LAMA\\Lib\\site-packages\\lightautoml\\ml_algo\\dl_model.py:642: FutureWarning: suggest_loguniform has been deprecated in v3.0.0. This feature will be removed in v6.0.0. See https://github.com/optuna/optuna/releases/tag/v3.0.0. Use suggest_float(..., log=True) instead.\n",
      "  lr = trial.suggest_loguniform(\"lr\", low=1e-5, high=1e-1)\n",
      "C:\\Users\\ctiha\\Desktop\\compatition\\AutoML_LAMA\\Lib\\site-packages\\lightautoml\\ml_algo\\dl_model.py:642: FutureWarning: suggest_loguniform has been deprecated in v3.0.0. This feature will be removed in v6.0.0. See https://github.com/optuna/optuna/releases/tag/v3.0.0. Use suggest_float(..., log=True) instead.\n",
      "  lr = trial.suggest_loguniform(\"lr\", low=1e-5, high=1e-1)\n"
     ]
    },
    {
     "name": "stdout",
     "output_type": "stream",
     "text": [
      "[15:24:32] Hyperparameters optimization for \u001b[1mLvl_0_Pipe_0_Mod_3_Tuned_TorchNN_denselight_tuned_3\u001b[0m completed\n",
      "[15:24:32] Start fitting \u001b[1mLvl_0_Pipe_0_Mod_3_Tuned_TorchNN_denselight_tuned_3\u001b[0m ...\n",
      "[15:25:27] Fitting \u001b[1mLvl_0_Pipe_0_Mod_3_Tuned_TorchNN_denselight_tuned_3\u001b[0m finished. score = \u001b[1m0.8238525403759455\u001b[0m\n",
      "[15:25:27] \u001b[1mLvl_0_Pipe_0_Mod_3_Tuned_TorchNN_denselight_tuned_3\u001b[0m fitting and predicting completed\n",
      "[15:25:27] Start hyperparameters optimization for \u001b[1mLvl_0_Pipe_0_Mod_4_Tuned_TorchNN_resnet_tuned_4\u001b[0m ... Time budget is 3530.85 secs\n"
     ]
    },
    {
     "name": "stderr",
     "output_type": "stream",
     "text": [
      "C:\\Users\\ctiha\\Desktop\\compatition\\AutoML_LAMA\\Lib\\site-packages\\lightautoml\\ml_algo\\dl_model.py:642: FutureWarning: suggest_loguniform has been deprecated in v3.0.0. This feature will be removed in v6.0.0. See https://github.com/optuna/optuna/releases/tag/v3.0.0. Use suggest_float(..., log=True) instead.\n",
      "  lr = trial.suggest_loguniform(\"lr\", low=1e-5, high=1e-1)\n",
      "C:\\Users\\ctiha\\Desktop\\compatition\\AutoML_LAMA\\Lib\\site-packages\\lightautoml\\ml_algo\\dl_model.py:642: FutureWarning: suggest_loguniform has been deprecated in v3.0.0. This feature will be removed in v6.0.0. See https://github.com/optuna/optuna/releases/tag/v3.0.0. Use suggest_float(..., log=True) instead.\n",
      "  lr = trial.suggest_loguniform(\"lr\", low=1e-5, high=1e-1)\n",
      "C:\\Users\\ctiha\\Desktop\\compatition\\AutoML_LAMA\\Lib\\site-packages\\lightautoml\\ml_algo\\dl_model.py:640: FutureWarning: suggest_loguniform has been deprecated in v3.0.0. This feature will be removed in v6.0.0. See https://github.com/optuna/optuna/releases/tag/v3.0.0. Use suggest_float(..., log=True) instead.\n",
      "  weight_decay = trial.suggest_loguniform(\"weight_decay\", low=1e-6, high=1e-2)\n",
      "C:\\Users\\ctiha\\Desktop\\compatition\\AutoML_LAMA\\Lib\\site-packages\\lightautoml\\ml_algo\\dl_model.py:642: FutureWarning: suggest_loguniform has been deprecated in v3.0.0. This feature will be removed in v6.0.0. See https://github.com/optuna/optuna/releases/tag/v3.0.0. Use suggest_float(..., log=True) instead.\n",
      "  lr = trial.suggest_loguniform(\"lr\", low=1e-5, high=1e-1)\n",
      "C:\\Users\\ctiha\\Desktop\\compatition\\AutoML_LAMA\\Lib\\site-packages\\lightautoml\\ml_algo\\dl_model.py:642: FutureWarning: suggest_loguniform has been deprecated in v3.0.0. This feature will be removed in v6.0.0. See https://github.com/optuna/optuna/releases/tag/v3.0.0. Use suggest_float(..., log=True) instead.\n",
      "  lr = trial.suggest_loguniform(\"lr\", low=1e-5, high=1e-1)\n",
      "C:\\Users\\ctiha\\Desktop\\compatition\\AutoML_LAMA\\Lib\\site-packages\\lightautoml\\ml_algo\\dl_model.py:642: FutureWarning: suggest_loguniform has been deprecated in v3.0.0. This feature will be removed in v6.0.0. See https://github.com/optuna/optuna/releases/tag/v3.0.0. Use suggest_float(..., log=True) instead.\n",
      "  lr = trial.suggest_loguniform(\"lr\", low=1e-5, high=1e-1)\n"
     ]
    },
    {
     "name": "stdout",
     "output_type": "stream",
     "text": [
      "[15:26:51] Hyperparameters optimization for \u001b[1mLvl_0_Pipe_0_Mod_4_Tuned_TorchNN_resnet_tuned_4\u001b[0m completed\n",
      "[15:26:51] Start fitting \u001b[1mLvl_0_Pipe_0_Mod_4_Tuned_TorchNN_resnet_tuned_4\u001b[0m ...\n",
      "[15:27:03] Fitting \u001b[1mLvl_0_Pipe_0_Mod_4_Tuned_TorchNN_resnet_tuned_4\u001b[0m finished. score = \u001b[1m0.8262919764576765\u001b[0m\n",
      "[15:27:03] \u001b[1mLvl_0_Pipe_0_Mod_4_Tuned_TorchNN_resnet_tuned_4\u001b[0m fitting and predicting completed\n",
      "[15:27:03] Start hyperparameters optimization for \u001b[1mLvl_0_Pipe_0_Mod_5_Tuned_TorchNN_snn_tuned_5\u001b[0m ... Time budget is 3600.00 secs\n"
     ]
    },
    {
     "name": "stderr",
     "output_type": "stream",
     "text": [
      "C:\\Users\\ctiha\\Desktop\\compatition\\AutoML_LAMA\\Lib\\site-packages\\lightautoml\\ml_algo\\dl_model.py:642: FutureWarning: suggest_loguniform has been deprecated in v3.0.0. This feature will be removed in v6.0.0. See https://github.com/optuna/optuna/releases/tag/v3.0.0. Use suggest_float(..., log=True) instead.\n",
      "  lr = trial.suggest_loguniform(\"lr\", low=1e-5, high=1e-1)\n",
      "C:\\Users\\ctiha\\Desktop\\compatition\\AutoML_LAMA\\Lib\\site-packages\\lightautoml\\ml_algo\\dl_model.py:642: FutureWarning: suggest_loguniform has been deprecated in v3.0.0. This feature will be removed in v6.0.0. See https://github.com/optuna/optuna/releases/tag/v3.0.0. Use suggest_float(..., log=True) instead.\n",
      "  lr = trial.suggest_loguniform(\"lr\", low=1e-5, high=1e-1)\n",
      "C:\\Users\\ctiha\\Desktop\\compatition\\AutoML_LAMA\\Lib\\site-packages\\lightautoml\\ml_algo\\dl_model.py:640: FutureWarning: suggest_loguniform has been deprecated in v3.0.0. This feature will be removed in v6.0.0. See https://github.com/optuna/optuna/releases/tag/v3.0.0. Use suggest_float(..., log=True) instead.\n",
      "  weight_decay = trial.suggest_loguniform(\"weight_decay\", low=1e-6, high=1e-2)\n",
      "C:\\Users\\ctiha\\Desktop\\compatition\\AutoML_LAMA\\Lib\\site-packages\\lightautoml\\ml_algo\\dl_model.py:642: FutureWarning: suggest_loguniform has been deprecated in v3.0.0. This feature will be removed in v6.0.0. See https://github.com/optuna/optuna/releases/tag/v3.0.0. Use suggest_float(..., log=True) instead.\n",
      "  lr = trial.suggest_loguniform(\"lr\", low=1e-5, high=1e-1)\n",
      "C:\\Users\\ctiha\\Desktop\\compatition\\AutoML_LAMA\\Lib\\site-packages\\lightautoml\\ml_algo\\dl_model.py:642: FutureWarning: suggest_loguniform has been deprecated in v3.0.0. This feature will be removed in v6.0.0. See https://github.com/optuna/optuna/releases/tag/v3.0.0. Use suggest_float(..., log=True) instead.\n",
      "  lr = trial.suggest_loguniform(\"lr\", low=1e-5, high=1e-1)\n",
      "C:\\Users\\ctiha\\Desktop\\compatition\\AutoML_LAMA\\Lib\\site-packages\\lightautoml\\ml_algo\\dl_model.py:642: FutureWarning: suggest_loguniform has been deprecated in v3.0.0. This feature will be removed in v6.0.0. See https://github.com/optuna/optuna/releases/tag/v3.0.0. Use suggest_float(..., log=True) instead.\n",
      "  lr = trial.suggest_loguniform(\"lr\", low=1e-5, high=1e-1)\n"
     ]
    },
    {
     "name": "stdout",
     "output_type": "stream",
     "text": [
      "[15:28:28] Hyperparameters optimization for \u001b[1mLvl_0_Pipe_0_Mod_5_Tuned_TorchNN_snn_tuned_5\u001b[0m completed\n",
      "[15:28:28] Start fitting \u001b[1mLvl_0_Pipe_0_Mod_5_Tuned_TorchNN_snn_tuned_5\u001b[0m ...\n",
      "[15:29:15] Fitting \u001b[1mLvl_0_Pipe_0_Mod_5_Tuned_TorchNN_snn_tuned_5\u001b[0m finished. score = \u001b[1m0.8342380486125307\u001b[0m\n",
      "[15:29:15] \u001b[1mLvl_0_Pipe_0_Mod_5_Tuned_TorchNN_snn_tuned_5\u001b[0m fitting and predicting completed\n",
      "[15:29:15] Start hyperparameters optimization for \u001b[1mLvl_0_Pipe_0_Mod_6_Tuned_TorchNN_node_tuned_6\u001b[0m ... Time budget is 3600.00 secs\n"
     ]
    },
    {
     "name": "stderr",
     "output_type": "stream",
     "text": [
      "C:\\Users\\ctiha\\Desktop\\compatition\\AutoML_LAMA\\Lib\\site-packages\\lightautoml\\ml_algo\\dl_model.py:642: FutureWarning: suggest_loguniform has been deprecated in v3.0.0. This feature will be removed in v6.0.0. See https://github.com/optuna/optuna/releases/tag/v3.0.0. Use suggest_float(..., log=True) instead.\n",
      "  lr = trial.suggest_loguniform(\"lr\", low=1e-5, high=1e-1)\n",
      "C:\\Users\\ctiha\\Desktop\\compatition\\AutoML_LAMA\\Lib\\site-packages\\lightautoml\\ml_algo\\dl_model.py:642: FutureWarning: suggest_loguniform has been deprecated in v3.0.0. This feature will be removed in v6.0.0. See https://github.com/optuna/optuna/releases/tag/v3.0.0. Use suggest_float(..., log=True) instead.\n",
      "  lr = trial.suggest_loguniform(\"lr\", low=1e-5, high=1e-1)\n",
      "C:\\Users\\ctiha\\Desktop\\compatition\\AutoML_LAMA\\Lib\\site-packages\\lightautoml\\ml_algo\\dl_model.py:640: FutureWarning: suggest_loguniform has been deprecated in v3.0.0. This feature will be removed in v6.0.0. See https://github.com/optuna/optuna/releases/tag/v3.0.0. Use suggest_float(..., log=True) instead.\n",
      "  weight_decay = trial.suggest_loguniform(\"weight_decay\", low=1e-6, high=1e-2)\n",
      "C:\\Users\\ctiha\\Desktop\\compatition\\AutoML_LAMA\\Lib\\site-packages\\lightautoml\\ml_algo\\dl_model.py:642: FutureWarning: suggest_loguniform has been deprecated in v3.0.0. This feature will be removed in v6.0.0. See https://github.com/optuna/optuna/releases/tag/v3.0.0. Use suggest_float(..., log=True) instead.\n",
      "  lr = trial.suggest_loguniform(\"lr\", low=1e-5, high=1e-1)\n",
      "C:\\Users\\ctiha\\Desktop\\compatition\\AutoML_LAMA\\Lib\\site-packages\\lightautoml\\ml_algo\\dl_model.py:642: FutureWarning: suggest_loguniform has been deprecated in v3.0.0. This feature will be removed in v6.0.0. See https://github.com/optuna/optuna/releases/tag/v3.0.0. Use suggest_float(..., log=True) instead.\n",
      "  lr = trial.suggest_loguniform(\"lr\", low=1e-5, high=1e-1)\n",
      "C:\\Users\\ctiha\\Desktop\\compatition\\AutoML_LAMA\\Lib\\site-packages\\lightautoml\\ml_algo\\dl_model.py:642: FutureWarning: suggest_loguniform has been deprecated in v3.0.0. This feature will be removed in v6.0.0. See https://github.com/optuna/optuna/releases/tag/v3.0.0. Use suggest_float(..., log=True) instead.\n",
      "  lr = trial.suggest_loguniform(\"lr\", low=1e-5, high=1e-1)\n"
     ]
    },
    {
     "name": "stdout",
     "output_type": "stream",
     "text": [
      "[15:36:15] Hyperparameters optimization for \u001b[1mLvl_0_Pipe_0_Mod_6_Tuned_TorchNN_node_tuned_6\u001b[0m completed\n",
      "[15:36:15] Start fitting \u001b[1mLvl_0_Pipe_0_Mod_6_Tuned_TorchNN_node_tuned_6\u001b[0m ...\n",
      "[15:38:40] Fitting \u001b[1mLvl_0_Pipe_0_Mod_6_Tuned_TorchNN_node_tuned_6\u001b[0m finished. score = \u001b[1m0.8193707700749955\u001b[0m\n",
      "[15:38:40] \u001b[1mLvl_0_Pipe_0_Mod_6_Tuned_TorchNN_node_tuned_6\u001b[0m fitting and predicting completed\n",
      "[15:38:40] Start hyperparameters optimization for \u001b[1mLvl_0_Pipe_0_Mod_7_Tuned_TorchNN_autoint_tuned_7\u001b[0m ... Time budget is 3600.00 secs\n"
     ]
    },
    {
     "name": "stderr",
     "output_type": "stream",
     "text": [
      "C:\\Users\\ctiha\\Desktop\\compatition\\AutoML_LAMA\\Lib\\site-packages\\lightautoml\\ml_algo\\dl_model.py:642: FutureWarning: suggest_loguniform has been deprecated in v3.0.0. This feature will be removed in v6.0.0. See https://github.com/optuna/optuna/releases/tag/v3.0.0. Use suggest_float(..., log=True) instead.\n",
      "  lr = trial.suggest_loguniform(\"lr\", low=1e-5, high=1e-1)\n",
      "C:\\Users\\ctiha\\Desktop\\compatition\\AutoML_LAMA\\Lib\\site-packages\\lightautoml\\ml_algo\\dl_model.py:642: FutureWarning: suggest_loguniform has been deprecated in v3.0.0. This feature will be removed in v6.0.0. See https://github.com/optuna/optuna/releases/tag/v3.0.0. Use suggest_float(..., log=True) instead.\n",
      "  lr = trial.suggest_loguniform(\"lr\", low=1e-5, high=1e-1)\n",
      "C:\\Users\\ctiha\\Desktop\\compatition\\AutoML_LAMA\\Lib\\site-packages\\lightautoml\\ml_algo\\dl_model.py:640: FutureWarning: suggest_loguniform has been deprecated in v3.0.0. This feature will be removed in v6.0.0. See https://github.com/optuna/optuna/releases/tag/v3.0.0. Use suggest_float(..., log=True) instead.\n",
      "  weight_decay = trial.suggest_loguniform(\"weight_decay\", low=1e-6, high=1e-2)\n",
      "C:\\Users\\ctiha\\Desktop\\compatition\\AutoML_LAMA\\Lib\\site-packages\\lightautoml\\ml_algo\\dl_model.py:642: FutureWarning: suggest_loguniform has been deprecated in v3.0.0. This feature will be removed in v6.0.0. See https://github.com/optuna/optuna/releases/tag/v3.0.0. Use suggest_float(..., log=True) instead.\n",
      "  lr = trial.suggest_loguniform(\"lr\", low=1e-5, high=1e-1)\n",
      "C:\\Users\\ctiha\\Desktop\\compatition\\AutoML_LAMA\\Lib\\site-packages\\lightautoml\\ml_algo\\dl_model.py:642: FutureWarning: suggest_loguniform has been deprecated in v3.0.0. This feature will be removed in v6.0.0. See https://github.com/optuna/optuna/releases/tag/v3.0.0. Use suggest_float(..., log=True) instead.\n",
      "  lr = trial.suggest_loguniform(\"lr\", low=1e-5, high=1e-1)\n",
      "C:\\Users\\ctiha\\Desktop\\compatition\\AutoML_LAMA\\Lib\\site-packages\\lightautoml\\ml_algo\\dl_model.py:642: FutureWarning: suggest_loguniform has been deprecated in v3.0.0. This feature will be removed in v6.0.0. See https://github.com/optuna/optuna/releases/tag/v3.0.0. Use suggest_float(..., log=True) instead.\n",
      "  lr = trial.suggest_loguniform(\"lr\", low=1e-5, high=1e-1)\n"
     ]
    },
    {
     "name": "stdout",
     "output_type": "stream",
     "text": [
      "[15:44:43] Hyperparameters optimization for \u001b[1mLvl_0_Pipe_0_Mod_7_Tuned_TorchNN_autoint_tuned_7\u001b[0m completed\n",
      "[15:44:43] Start fitting \u001b[1mLvl_0_Pipe_0_Mod_7_Tuned_TorchNN_autoint_tuned_7\u001b[0m ...\n",
      "[15:45:43] Fitting \u001b[1mLvl_0_Pipe_0_Mod_7_Tuned_TorchNN_autoint_tuned_7\u001b[0m finished. score = \u001b[1m0.8087690581994641\u001b[0m\n",
      "[15:45:43] \u001b[1mLvl_0_Pipe_0_Mod_7_Tuned_TorchNN_autoint_tuned_7\u001b[0m fitting and predicting completed\n",
      "[15:45:43] Start hyperparameters optimization for \u001b[1mLvl_0_Pipe_0_Mod_8_Tuned_TorchNN_fttransformer_tuned_8\u001b[0m ... Time budget is 3600.00 secs\n"
     ]
    },
    {
     "name": "stderr",
     "output_type": "stream",
     "text": [
      "C:\\Users\\ctiha\\Desktop\\compatition\\AutoML_LAMA\\Lib\\site-packages\\lightautoml\\ml_algo\\dl_model.py:642: FutureWarning: suggest_loguniform has been deprecated in v3.0.0. This feature will be removed in v6.0.0. See https://github.com/optuna/optuna/releases/tag/v3.0.0. Use suggest_float(..., log=True) instead.\n",
      "  lr = trial.suggest_loguniform(\"lr\", low=1e-5, high=1e-1)\n",
      "C:\\Users\\ctiha\\Desktop\\compatition\\AutoML_LAMA\\Lib\\site-packages\\lightautoml\\ml_algo\\dl_model.py:642: FutureWarning: suggest_loguniform has been deprecated in v3.0.0. This feature will be removed in v6.0.0. See https://github.com/optuna/optuna/releases/tag/v3.0.0. Use suggest_float(..., log=True) instead.\n",
      "  lr = trial.suggest_loguniform(\"lr\", low=1e-5, high=1e-1)\n",
      "C:\\Users\\ctiha\\Desktop\\compatition\\AutoML_LAMA\\Lib\\site-packages\\lightautoml\\ml_algo\\dl_model.py:640: FutureWarning: suggest_loguniform has been deprecated in v3.0.0. This feature will be removed in v6.0.0. See https://github.com/optuna/optuna/releases/tag/v3.0.0. Use suggest_float(..., log=True) instead.\n",
      "  weight_decay = trial.suggest_loguniform(\"weight_decay\", low=1e-6, high=1e-2)\n",
      "C:\\Users\\ctiha\\Desktop\\compatition\\AutoML_LAMA\\Lib\\site-packages\\lightautoml\\ml_algo\\dl_model.py:642: FutureWarning: suggest_loguniform has been deprecated in v3.0.0. This feature will be removed in v6.0.0. See https://github.com/optuna/optuna/releases/tag/v3.0.0. Use suggest_float(..., log=True) instead.\n",
      "  lr = trial.suggest_loguniform(\"lr\", low=1e-5, high=1e-1)\n",
      "C:\\Users\\ctiha\\Desktop\\compatition\\AutoML_LAMA\\Lib\\site-packages\\lightautoml\\ml_algo\\dl_model.py:642: FutureWarning: suggest_loguniform has been deprecated in v3.0.0. This feature will be removed in v6.0.0. See https://github.com/optuna/optuna/releases/tag/v3.0.0. Use suggest_float(..., log=True) instead.\n",
      "  lr = trial.suggest_loguniform(\"lr\", low=1e-5, high=1e-1)\n",
      "C:\\Users\\ctiha\\Desktop\\compatition\\AutoML_LAMA\\Lib\\site-packages\\lightautoml\\ml_algo\\dl_model.py:642: FutureWarning: suggest_loguniform has been deprecated in v3.0.0. This feature will be removed in v6.0.0. See https://github.com/optuna/optuna/releases/tag/v3.0.0. Use suggest_float(..., log=True) instead.\n",
      "  lr = trial.suggest_loguniform(\"lr\", low=1e-5, high=1e-1)\n"
     ]
    },
    {
     "name": "stdout",
     "output_type": "stream",
     "text": [
      "[15:59:18] Hyperparameters optimization for \u001b[1mLvl_0_Pipe_0_Mod_8_Tuned_TorchNN_fttransformer_tuned_8\u001b[0m completed\n",
      "[15:59:18] Start fitting \u001b[1mLvl_0_Pipe_0_Mod_8_Tuned_TorchNN_fttransformer_tuned_8\u001b[0m ...\n",
      "[16:01:33] Fitting \u001b[1mLvl_0_Pipe_0_Mod_8_Tuned_TorchNN_fttransformer_tuned_8\u001b[0m finished. score = \u001b[1m0.8305958747135218\u001b[0m\n",
      "[16:01:33] \u001b[1mLvl_0_Pipe_0_Mod_8_Tuned_TorchNN_fttransformer_tuned_8\u001b[0m fitting and predicting completed\n",
      "[16:01:33] Time left 18850.26 secs\n",
      "\n",
      "[16:01:33] \u001b[1mLayer 1 training completed.\u001b[0m\n",
      "\n",
      "[16:01:33] Blending: optimization starts with equal weights and score \u001b[1m0.8183990305469178\u001b[0m\n",
      "[16:01:33] Blending: iteration \u001b[1m0\u001b[0m: score = \u001b[1m0.8358432681651404\u001b[0m, weights = \u001b[1m[0.         0.         0.         0.         0.05457416 0.6454283\n",
      " 0.         0.0817111  0.21828645]\u001b[0m\n",
      "[16:01:33] Blending: iteration \u001b[1m1\u001b[0m: score = \u001b[1m0.8358654601405222\u001b[0m, weights = \u001b[1m[0.         0.         0.         0.         0.05545682 0.6558672\n",
      " 0.         0.06643218 0.22224382]\u001b[0m\n",
      "[16:01:33] Blending: iteration \u001b[1m2\u001b[0m: score = \u001b[1m0.8358688225610347\u001b[0m, weights = \u001b[1m[0.         0.         0.         0.         0.06598779 0.6485548\n",
      " 0.         0.06569151 0.21976596]\u001b[0m\n",
      "[16:01:33] Blending: iteration \u001b[1m3\u001b[0m: score = \u001b[1m0.8358688225610347\u001b[0m, weights = \u001b[1m[0.         0.         0.         0.         0.06598778 0.64855474\n",
      " 0.         0.0656915  0.21976593]\u001b[0m\n",
      "[16:01:33] Blending: no score update. Terminated\n",
      "\n",
      "[16:01:33] \u001b[1mAutoml preset training completed in 2750.09 seconds\u001b[0m\n",
      "\n",
      "[16:01:33] Model description:\n",
      "Final prediction for new objects (level 0) = \n",
      "\t 0.06599 * (3 averaged models Lvl_0_Pipe_0_Mod_4_Tuned_TorchNN_resnet_tuned_4) +\n",
      "\t 0.64855 * (3 averaged models Lvl_0_Pipe_0_Mod_5_Tuned_TorchNN_snn_tuned_5) +\n",
      "\t 0.06569 * (3 averaged models Lvl_0_Pipe_0_Mod_7_Tuned_TorchNN_autoint_tuned_7) +\n",
      "\t 0.21977 * (3 averaged models Lvl_0_Pipe_0_Mod_8_Tuned_TorchNN_fttransformer_tuned_8) \n",
      "\n"
     ]
    }
   ],
   "source": [
    "for i in range(2):\n",
    "    automl = TabularAutoML(\n",
    "        task = task,\n",
    "        timeout = TIMEOUT,\n",
    "        cpu_limit = N_THREADS,\n",
    "        reader_params = {'n_jobs': N_THREADS, 'cv': N_FOLDS[i], 'random_state': RANDOM_STATE},\n",
    "        general_params={\"use_algos\": [['nn_tuned', 'mlp_tuned', 'dense_tuned',\"denselight_tuned\", 'resnet_tuned', 'snn_tuned', 'node_tuned', 'autoint_tuned', 'fttransformer_tuned']]},\n",
    "        nn_params={\n",
    "            **default_nn_params,\n",
    "            \"n_epochs\": 1000,\n",
    "            \"tuning_params\": {\n",
    "                \"max_tuning_iter\": 5,\n",
    "                \"max_tuning_time\": 3600,\n",
    "                \"fit_on_holdout\": True\n",
    "            }\n",
    "        },\n",
    "    )\n",
    "    automl.fit_predict(df_dict[\"train\"], roles = roles, verbose = 1)\n",
    "    addResult(automl, df_dict, y, Rc)"
   ]
  },
  {
   "cell_type": "markdown",
   "metadata": {},
   "source": [
    "### 複数レイヤー"
   ]
  },
  {
   "cell_type": "code",
   "execution_count": 20,
   "metadata": {
    "scrolled": true
   },
   "outputs": [
    {
     "name": "stdout",
     "output_type": "stream",
     "text": [
      "[16:01:41] Stdout logging level is INFO.\n",
      "[16:01:41] Task: binary\n",
      "\n",
      "[16:01:41] Start automl preset with listed constraints:\n",
      "[16:01:41] - time: 21600.00 seconds\n",
      "[16:01:41] - CPU: 4 cores\n",
      "[16:01:41] - memory: 16 GB\n",
      "\n",
      "[16:01:41] \u001b[1mTrain data shape: (3489, 104)\u001b[0m\n",
      "\n",
      "[16:01:45] Layer \u001b[1m1\u001b[0m train process start. Time left 21596.76 secs\n",
      "[16:01:45] Start fitting \u001b[1mLvl_0_Pipe_0_Mod_0_TorchNN_mlp_0\u001b[0m ...\n",
      "[16:02:06] Fitting \u001b[1mLvl_0_Pipe_0_Mod_0_TorchNN_mlp_0\u001b[0m finished. score = \u001b[1m0.8215529809875295\u001b[0m\n",
      "[16:02:06] \u001b[1mLvl_0_Pipe_0_Mod_0_TorchNN_mlp_0\u001b[0m fitting and predicting completed\n",
      "[16:02:06] Start fitting \u001b[1mLvl_0_Pipe_0_Mod_1_TorchNN_mlp_1\u001b[0m ...\n",
      "[16:02:27] Fitting \u001b[1mLvl_0_Pipe_0_Mod_1_TorchNN_mlp_1\u001b[0m finished. score = \u001b[1m0.8221477931761694\u001b[0m\n",
      "[16:02:27] \u001b[1mLvl_0_Pipe_0_Mod_1_TorchNN_mlp_1\u001b[0m fitting and predicting completed\n",
      "[16:02:27] Start fitting \u001b[1mLvl_0_Pipe_0_Mod_2_TorchNN_dense_2\u001b[0m ...\n",
      "[16:02:38] Fitting \u001b[1mLvl_0_Pipe_0_Mod_2_TorchNN_dense_2\u001b[0m finished. score = \u001b[1m0.5959446518684299\u001b[0m\n",
      "[16:02:38] \u001b[1mLvl_0_Pipe_0_Mod_2_TorchNN_dense_2\u001b[0m fitting and predicting completed\n",
      "[16:02:38] Start fitting \u001b[1mLvl_0_Pipe_0_Mod_3_TorchNN_denselight_3\u001b[0m ...\n",
      "[16:02:58] Fitting \u001b[1mLvl_0_Pipe_0_Mod_3_TorchNN_denselight_3\u001b[0m finished. score = \u001b[1m0.8198879103497994\u001b[0m\n",
      "[16:02:58] \u001b[1mLvl_0_Pipe_0_Mod_3_TorchNN_denselight_3\u001b[0m fitting and predicting completed\n",
      "[16:02:58] Start fitting \u001b[1mLvl_0_Pipe_0_Mod_4_TorchNN_resnet_4\u001b[0m ...\n",
      "[16:03:10] Fitting \u001b[1mLvl_0_Pipe_0_Mod_4_TorchNN_resnet_4\u001b[0m finished. score = \u001b[1m0.8301856594110114\u001b[0m\n",
      "[16:03:10] \u001b[1mLvl_0_Pipe_0_Mod_4_TorchNN_resnet_4\u001b[0m fitting and predicting completed\n",
      "[16:03:10] Start fitting \u001b[1mLvl_0_Pipe_0_Mod_5_TorchNN_snn_5\u001b[0m ...\n",
      "[16:03:19] Fitting \u001b[1mLvl_0_Pipe_0_Mod_5_TorchNN_snn_5\u001b[0m finished. score = \u001b[1m0.8353826165549446\u001b[0m\n",
      "[16:03:19] \u001b[1mLvl_0_Pipe_0_Mod_5_TorchNN_snn_5\u001b[0m fitting and predicting completed\n",
      "[16:03:19] Start fitting \u001b[1mLvl_0_Pipe_0_Mod_6_TorchNN_node_6\u001b[0m ...\n",
      "[16:04:52] Fitting \u001b[1mLvl_0_Pipe_0_Mod_6_TorchNN_node_6\u001b[0m finished. score = \u001b[1m0.8256083963675098\u001b[0m\n",
      "[16:04:52] \u001b[1mLvl_0_Pipe_0_Mod_6_TorchNN_node_6\u001b[0m fitting and predicting completed\n",
      "[16:04:52] Start fitting \u001b[1mLvl_0_Pipe_0_Mod_7_TorchNN_autoint_7\u001b[0m ...\n",
      "[16:06:44] Fitting \u001b[1mLvl_0_Pipe_0_Mod_7_TorchNN_autoint_7\u001b[0m finished. score = \u001b[1m0.7272955917322116\u001b[0m\n",
      "[16:06:44] \u001b[1mLvl_0_Pipe_0_Mod_7_TorchNN_autoint_7\u001b[0m fitting and predicting completed\n",
      "[16:06:44] Start hyperparameters optimization for \u001b[1mLvl_0_Pipe_0_Mod_8_Tuned_TorchNN_fttransformer_tuned_8\u001b[0m ... Time budget is 3600.00 secs\n"
     ]
    },
    {
     "name": "stderr",
     "output_type": "stream",
     "text": [
      "C:\\Users\\ctiha\\Desktop\\compatition\\AutoML_LAMA\\Lib\\site-packages\\lightautoml\\ml_algo\\dl_model.py:642: FutureWarning: suggest_loguniform has been deprecated in v3.0.0. This feature will be removed in v6.0.0. See https://github.com/optuna/optuna/releases/tag/v3.0.0. Use suggest_float(..., log=True) instead.\n",
      "  lr = trial.suggest_loguniform(\"lr\", low=1e-5, high=1e-1)\n",
      "C:\\Users\\ctiha\\Desktop\\compatition\\AutoML_LAMA\\Lib\\site-packages\\lightautoml\\ml_algo\\dl_model.py:642: FutureWarning: suggest_loguniform has been deprecated in v3.0.0. This feature will be removed in v6.0.0. See https://github.com/optuna/optuna/releases/tag/v3.0.0. Use suggest_float(..., log=True) instead.\n",
      "  lr = trial.suggest_loguniform(\"lr\", low=1e-5, high=1e-1)\n",
      "C:\\Users\\ctiha\\Desktop\\compatition\\AutoML_LAMA\\Lib\\site-packages\\lightautoml\\ml_algo\\dl_model.py:640: FutureWarning: suggest_loguniform has been deprecated in v3.0.0. This feature will be removed in v6.0.0. See https://github.com/optuna/optuna/releases/tag/v3.0.0. Use suggest_float(..., log=True) instead.\n",
      "  weight_decay = trial.suggest_loguniform(\"weight_decay\", low=1e-6, high=1e-2)\n",
      "C:\\Users\\ctiha\\Desktop\\compatition\\AutoML_LAMA\\Lib\\site-packages\\lightautoml\\ml_algo\\dl_model.py:642: FutureWarning: suggest_loguniform has been deprecated in v3.0.0. This feature will be removed in v6.0.0. See https://github.com/optuna/optuna/releases/tag/v3.0.0. Use suggest_float(..., log=True) instead.\n",
      "  lr = trial.suggest_loguniform(\"lr\", low=1e-5, high=1e-1)\n",
      "C:\\Users\\ctiha\\Desktop\\compatition\\AutoML_LAMA\\Lib\\site-packages\\lightautoml\\ml_algo\\dl_model.py:642: FutureWarning: suggest_loguniform has been deprecated in v3.0.0. This feature will be removed in v6.0.0. See https://github.com/optuna/optuna/releases/tag/v3.0.0. Use suggest_float(..., log=True) instead.\n",
      "  lr = trial.suggest_loguniform(\"lr\", low=1e-5, high=1e-1)\n",
      "C:\\Users\\ctiha\\Desktop\\compatition\\AutoML_LAMA\\Lib\\site-packages\\lightautoml\\ml_algo\\dl_model.py:642: FutureWarning: suggest_loguniform has been deprecated in v3.0.0. This feature will be removed in v6.0.0. See https://github.com/optuna/optuna/releases/tag/v3.0.0. Use suggest_float(..., log=True) instead.\n",
      "  lr = trial.suggest_loguniform(\"lr\", low=1e-5, high=1e-1)\n"
     ]
    },
    {
     "name": "stdout",
     "output_type": "stream",
     "text": [
      "[16:20:47] Hyperparameters optimization for \u001b[1mLvl_0_Pipe_0_Mod_8_Tuned_TorchNN_fttransformer_tuned_8\u001b[0m completed\n",
      "[16:20:47] Start fitting \u001b[1mLvl_0_Pipe_0_Mod_8_Tuned_TorchNN_fttransformer_tuned_8\u001b[0m ...\n",
      "[16:23:13] Fitting \u001b[1mLvl_0_Pipe_0_Mod_8_Tuned_TorchNN_fttransformer_tuned_8\u001b[0m finished. score = \u001b[1m0.8247785509850547\u001b[0m\n",
      "[16:23:13] \u001b[1mLvl_0_Pipe_0_Mod_8_Tuned_TorchNN_fttransformer_tuned_8\u001b[0m fitting and predicting completed\n",
      "[16:23:13] Time left 20308.09 secs\n",
      "\n",
      "[16:23:13] \u001b[1mLayer 1 training completed.\u001b[0m\n",
      "\n",
      "[16:23:13] Layer \u001b[1m2\u001b[0m train process start. Time left 20308.08 secs\n",
      "[16:23:13] Start fitting \u001b[1mLvl_1_Pipe_0_Mod_0_RFSklearn\u001b[0m ...\n",
      "[16:23:16] Fitting \u001b[1mLvl_1_Pipe_0_Mod_0_RFSklearn\u001b[0m finished. score = \u001b[1m0.8290041048429615\u001b[0m\n",
      "[16:23:16] \u001b[1mLvl_1_Pipe_0_Mod_0_RFSklearn\u001b[0m fitting and predicting completed\n",
      "[16:23:16] Time left 20305.20 secs\n",
      "\n",
      "[16:23:16] Start fitting \u001b[1mLvl_1_Pipe_1_Mod_0_LinearL2\u001b[0m ...\n",
      "[16:23:19] Fitting \u001b[1mLvl_1_Pipe_1_Mod_0_LinearL2\u001b[0m finished. score = \u001b[1m0.8161300691851644\u001b[0m\n",
      "[16:23:19] \u001b[1mLvl_1_Pipe_1_Mod_0_LinearL2\u001b[0m fitting and predicting completed\n",
      "[16:23:19] Time left 20302.70 secs\n",
      "\n",
      "[16:23:19] \u001b[1mLayer 2 training completed.\u001b[0m\n",
      "\n",
      "[16:23:19] Blending: optimization starts with equal weights and score \u001b[1m0.8352790540031634\u001b[0m\n",
      "[16:23:19] Blending: iteration \u001b[1m0\u001b[0m: score = \u001b[1m0.8367511217034829\u001b[0m, weights = \u001b[1m[0.66267055 0.33732945]\u001b[0m\n",
      "[16:23:19] Blending: iteration \u001b[1m1\u001b[0m: score = \u001b[1m0.8367511217034829\u001b[0m, weights = \u001b[1m[0.66267055 0.33732945]\u001b[0m\n",
      "[16:23:19] Blending: no score update. Terminated\n",
      "\n",
      "[16:23:19] \u001b[1mAutoml preset training completed in 1297.35 seconds\u001b[0m\n",
      "\n",
      "[16:23:19] Model description:\n",
      "Models on level 0:\n",
      "\t 5 averaged models Lvl_0_Pipe_0_Mod_0_TorchNN_mlp_0\n",
      "\t 5 averaged models Lvl_0_Pipe_0_Mod_1_TorchNN_mlp_1\n",
      "\t 5 averaged models Lvl_0_Pipe_0_Mod_2_TorchNN_dense_2\n",
      "\t 5 averaged models Lvl_0_Pipe_0_Mod_3_TorchNN_denselight_3\n",
      "\t 5 averaged models Lvl_0_Pipe_0_Mod_4_TorchNN_resnet_4\n",
      "\t 5 averaged models Lvl_0_Pipe_0_Mod_5_TorchNN_snn_5\n",
      "\t 5 averaged models Lvl_0_Pipe_0_Mod_6_TorchNN_node_6\n",
      "\t 5 averaged models Lvl_0_Pipe_0_Mod_7_TorchNN_autoint_7\n",
      "\t 5 averaged models Lvl_0_Pipe_0_Mod_8_Tuned_TorchNN_fttransformer_tuned_8\n",
      "\n",
      "Final prediction for new objects (level 1) = \n",
      "\t 0.66267 * (5 averaged models Lvl_1_Pipe_0_Mod_0_RFSklearn) +\n",
      "\t 0.33733 * (5 averaged models Lvl_1_Pipe_1_Mod_0_LinearL2) \n",
      "\n"
     ]
    }
   ],
   "source": [
    "automl = TabularAutoML(\n",
    "    **default_lama_params,\n",
    "    general_params={\n",
    "        'use_algos': [\n",
    "            ['nn', 'mlp', 'dense', 'denselight', 'resnet', 'snn', 'node', 'autoint', 'fttransformer_tuned'],  # 最初のレベル（レイヤー1）で使用するアルゴリズム\n",
    "            ['linear_l2', 'rf']  # 次のレベル（レイヤー2）で使用するアルゴリズム\n",
    "        ]\n",
    "    },\n",
    "    nn_params={\n",
    "        **default_nn_params,\n",
    "        \"n_epochs\": 1000,\n",
    "        \"tuning_params\": {\n",
    "            \"max_tuning_iter\": 5,\n",
    "            \"max_tuning_time\": 3600,\n",
    "            \"fit_on_holdout\": True\n",
    "        }\n",
    "    }\n",
    ")\n",
    "automl.fit_predict(df_dict[\"train\"], roles = roles, verbose = 1)\n",
    "addResult(automl, df_dict, y, Rc)"
   ]
  },
  {
   "cell_type": "markdown",
   "metadata": {},
   "source": [
    "# Layer 2"
   ]
  },
  {
   "cell_type": "code",
   "execution_count": 21,
   "metadata": {
    "scrolled": true
   },
   "outputs": [
    {
     "name": "stdout",
     "output_type": "stream",
     "text": [
      "[16:23:41] Stdout logging level is INFO.\n",
      "[16:23:41] Task: binary\n",
      "\n",
      "[16:23:41] Start automl preset with listed constraints:\n",
      "[16:23:41] - time: 21600.00 seconds\n",
      "[16:23:41] - CPU: 4 cores\n",
      "[16:23:41] - memory: 16 GB\n",
      "\n",
      "[16:23:41] \u001b[1mTrain data shape: (3489, 104)\u001b[0m\n",
      "\n",
      "[16:23:45] Layer \u001b[1m1\u001b[0m train process start. Time left 21596.69 secs\n",
      "[16:23:45] \u001b[1mSelector_LightGBM\u001b[0m fitting and predicting completed\n",
      "[16:23:45] Start hyperparameters optimization for \u001b[1mLvl_0_Pipe_0_Mod_0_Tuned_LightGBM\u001b[0m ... Time budget is 300.00 secs\n",
      "[16:24:43] Hyperparameters optimization for \u001b[1mLvl_0_Pipe_0_Mod_0_Tuned_LightGBM\u001b[0m completed\n",
      "[16:24:43] Start fitting \u001b[1mLvl_0_Pipe_0_Mod_0_Tuned_LightGBM\u001b[0m ...\n",
      "[16:24:44] Fitting \u001b[1mLvl_0_Pipe_0_Mod_0_Tuned_LightGBM\u001b[0m finished. score = \u001b[1m0.8103615005541268\u001b[0m\n",
      "[16:24:44] \u001b[1mLvl_0_Pipe_0_Mod_0_Tuned_LightGBM\u001b[0m fitting and predicting completed\n",
      "[16:24:44] Start hyperparameters optimization for \u001b[1mLvl_0_Pipe_0_Mod_1_Tuned_CatBoost\u001b[0m ... Time budget is 300.00 secs\n",
      "[16:26:49] Hyperparameters optimization for \u001b[1mLvl_0_Pipe_0_Mod_1_Tuned_CatBoost\u001b[0m completed\n",
      "[16:26:49] Start fitting \u001b[1mLvl_0_Pipe_0_Mod_1_Tuned_CatBoost\u001b[0m ...\n",
      "[16:26:59] Fitting \u001b[1mLvl_0_Pipe_0_Mod_1_Tuned_CatBoost\u001b[0m finished. score = \u001b[1m0.8280908714317994\u001b[0m\n",
      "[16:26:59] \u001b[1mLvl_0_Pipe_0_Mod_1_Tuned_CatBoost\u001b[0m fitting and predicting completed\n",
      "[16:26:59] Time left 21402.59 secs\n",
      "\n",
      "[16:26:59] Start hyperparameters optimization for \u001b[1mLvl_0_Pipe_1_Mod_0_Tuned_TorchNN_resnet_tuned_0\u001b[0m ... Time budget is 3600.00 secs\n"
     ]
    },
    {
     "name": "stderr",
     "output_type": "stream",
     "text": [
      "C:\\Users\\ctiha\\Desktop\\compatition\\AutoML_LAMA\\Lib\\site-packages\\lightautoml\\ml_algo\\dl_model.py:642: FutureWarning: suggest_loguniform has been deprecated in v3.0.0. This feature will be removed in v6.0.0. See https://github.com/optuna/optuna/releases/tag/v3.0.0. Use suggest_float(..., log=True) instead.\n",
      "  lr = trial.suggest_loguniform(\"lr\", low=1e-5, high=1e-1)\n",
      "C:\\Users\\ctiha\\Desktop\\compatition\\AutoML_LAMA\\Lib\\site-packages\\lightautoml\\ml_algo\\dl_model.py:642: FutureWarning: suggest_loguniform has been deprecated in v3.0.0. This feature will be removed in v6.0.0. See https://github.com/optuna/optuna/releases/tag/v3.0.0. Use suggest_float(..., log=True) instead.\n",
      "  lr = trial.suggest_loguniform(\"lr\", low=1e-5, high=1e-1)\n",
      "C:\\Users\\ctiha\\Desktop\\compatition\\AutoML_LAMA\\Lib\\site-packages\\lightautoml\\ml_algo\\dl_model.py:640: FutureWarning: suggest_loguniform has been deprecated in v3.0.0. This feature will be removed in v6.0.0. See https://github.com/optuna/optuna/releases/tag/v3.0.0. Use suggest_float(..., log=True) instead.\n",
      "  weight_decay = trial.suggest_loguniform(\"weight_decay\", low=1e-6, high=1e-2)\n",
      "C:\\Users\\ctiha\\Desktop\\compatition\\AutoML_LAMA\\Lib\\site-packages\\lightautoml\\ml_algo\\dl_model.py:642: FutureWarning: suggest_loguniform has been deprecated in v3.0.0. This feature will be removed in v6.0.0. See https://github.com/optuna/optuna/releases/tag/v3.0.0. Use suggest_float(..., log=True) instead.\n",
      "  lr = trial.suggest_loguniform(\"lr\", low=1e-5, high=1e-1)\n",
      "C:\\Users\\ctiha\\Desktop\\compatition\\AutoML_LAMA\\Lib\\site-packages\\lightautoml\\ml_algo\\dl_model.py:642: FutureWarning: suggest_loguniform has been deprecated in v3.0.0. This feature will be removed in v6.0.0. See https://github.com/optuna/optuna/releases/tag/v3.0.0. Use suggest_float(..., log=True) instead.\n",
      "  lr = trial.suggest_loguniform(\"lr\", low=1e-5, high=1e-1)\n",
      "C:\\Users\\ctiha\\Desktop\\compatition\\AutoML_LAMA\\Lib\\site-packages\\lightautoml\\ml_algo\\dl_model.py:642: FutureWarning: suggest_loguniform has been deprecated in v3.0.0. This feature will be removed in v6.0.0. See https://github.com/optuna/optuna/releases/tag/v3.0.0. Use suggest_float(..., log=True) instead.\n",
      "  lr = trial.suggest_loguniform(\"lr\", low=1e-5, high=1e-1)\n"
     ]
    },
    {
     "name": "stdout",
     "output_type": "stream",
     "text": [
      "[16:27:52] Hyperparameters optimization for \u001b[1mLvl_0_Pipe_1_Mod_0_Tuned_TorchNN_resnet_tuned_0\u001b[0m completed\n",
      "[16:27:52] Start fitting \u001b[1mLvl_0_Pipe_1_Mod_0_Tuned_TorchNN_resnet_tuned_0\u001b[0m ...\n",
      "[16:28:11] Fitting \u001b[1mLvl_0_Pipe_1_Mod_0_Tuned_TorchNN_resnet_tuned_0\u001b[0m finished. score = \u001b[1m0.8275024478421329\u001b[0m\n",
      "[16:28:11] \u001b[1mLvl_0_Pipe_1_Mod_0_Tuned_TorchNN_resnet_tuned_0\u001b[0m fitting and predicting completed\n",
      "[16:28:11] Start hyperparameters optimization for \u001b[1mLvl_0_Pipe_1_Mod_1_Tuned_TorchNN_fttransformer_tuned_1\u001b[0m ... Time budget is 3600.00 secs\n"
     ]
    },
    {
     "name": "stderr",
     "output_type": "stream",
     "text": [
      "C:\\Users\\ctiha\\Desktop\\compatition\\AutoML_LAMA\\Lib\\site-packages\\lightautoml\\ml_algo\\dl_model.py:642: FutureWarning: suggest_loguniform has been deprecated in v3.0.0. This feature will be removed in v6.0.0. See https://github.com/optuna/optuna/releases/tag/v3.0.0. Use suggest_float(..., log=True) instead.\n",
      "  lr = trial.suggest_loguniform(\"lr\", low=1e-5, high=1e-1)\n",
      "C:\\Users\\ctiha\\Desktop\\compatition\\AutoML_LAMA\\Lib\\site-packages\\lightautoml\\ml_algo\\dl_model.py:642: FutureWarning: suggest_loguniform has been deprecated in v3.0.0. This feature will be removed in v6.0.0. See https://github.com/optuna/optuna/releases/tag/v3.0.0. Use suggest_float(..., log=True) instead.\n",
      "  lr = trial.suggest_loguniform(\"lr\", low=1e-5, high=1e-1)\n",
      "C:\\Users\\ctiha\\Desktop\\compatition\\AutoML_LAMA\\Lib\\site-packages\\lightautoml\\ml_algo\\dl_model.py:640: FutureWarning: suggest_loguniform has been deprecated in v3.0.0. This feature will be removed in v6.0.0. See https://github.com/optuna/optuna/releases/tag/v3.0.0. Use suggest_float(..., log=True) instead.\n",
      "  weight_decay = trial.suggest_loguniform(\"weight_decay\", low=1e-6, high=1e-2)\n",
      "C:\\Users\\ctiha\\Desktop\\compatition\\AutoML_LAMA\\Lib\\site-packages\\lightautoml\\ml_algo\\dl_model.py:642: FutureWarning: suggest_loguniform has been deprecated in v3.0.0. This feature will be removed in v6.0.0. See https://github.com/optuna/optuna/releases/tag/v3.0.0. Use suggest_float(..., log=True) instead.\n",
      "  lr = trial.suggest_loguniform(\"lr\", low=1e-5, high=1e-1)\n",
      "C:\\Users\\ctiha\\Desktop\\compatition\\AutoML_LAMA\\Lib\\site-packages\\lightautoml\\ml_algo\\dl_model.py:642: FutureWarning: suggest_loguniform has been deprecated in v3.0.0. This feature will be removed in v6.0.0. See https://github.com/optuna/optuna/releases/tag/v3.0.0. Use suggest_float(..., log=True) instead.\n",
      "  lr = trial.suggest_loguniform(\"lr\", low=1e-5, high=1e-1)\n",
      "C:\\Users\\ctiha\\Desktop\\compatition\\AutoML_LAMA\\Lib\\site-packages\\lightautoml\\ml_algo\\dl_model.py:642: FutureWarning: suggest_loguniform has been deprecated in v3.0.0. This feature will be removed in v6.0.0. See https://github.com/optuna/optuna/releases/tag/v3.0.0. Use suggest_float(..., log=True) instead.\n",
      "  lr = trial.suggest_loguniform(\"lr\", low=1e-5, high=1e-1)\n"
     ]
    },
    {
     "name": "stdout",
     "output_type": "stream",
     "text": [
      "[16:42:19] Hyperparameters optimization for \u001b[1mLvl_0_Pipe_1_Mod_1_Tuned_TorchNN_fttransformer_tuned_1\u001b[0m completed\n",
      "[16:42:19] Start fitting \u001b[1mLvl_0_Pipe_1_Mod_1_Tuned_TorchNN_fttransformer_tuned_1\u001b[0m ...\n",
      "[16:44:46] Fitting \u001b[1mLvl_0_Pipe_1_Mod_1_Tuned_TorchNN_fttransformer_tuned_1\u001b[0m finished. score = \u001b[1m0.8247785509850547\u001b[0m\n",
      "[16:44:46] \u001b[1mLvl_0_Pipe_1_Mod_1_Tuned_TorchNN_fttransformer_tuned_1\u001b[0m fitting and predicting completed\n",
      "[16:44:46] Time left 20335.52 secs\n",
      "\n",
      "[16:44:46] \u001b[1mLayer 1 training completed.\u001b[0m\n",
      "\n",
      "[16:44:46] Layer \u001b[1m2\u001b[0m train process start. Time left 20335.51 secs\n",
      "[16:44:46] Start fitting \u001b[1mLvl_1_Pipe_0_Mod_0_LinearL2\u001b[0m ...\n",
      "[16:44:48] Fitting \u001b[1mLvl_1_Pipe_0_Mod_0_LinearL2\u001b[0m finished. score = \u001b[1m0.8319663973143674\u001b[0m\n",
      "[16:44:48] \u001b[1mLvl_1_Pipe_0_Mod_0_LinearL2\u001b[0m fitting and predicting completed\n",
      "[16:44:48] Time left 20333.50 secs\n",
      "\n",
      "[16:44:48] Start fitting \u001b[1mLvl_1_Pipe_1_Mod_0_TorchNN_mlp_0\u001b[0m ...\n",
      "[16:45:07] Fitting \u001b[1mLvl_1_Pipe_1_Mod_0_TorchNN_mlp_0\u001b[0m finished. score = \u001b[1m0.8193179800729511\u001b[0m\n",
      "[16:45:07] \u001b[1mLvl_1_Pipe_1_Mod_0_TorchNN_mlp_0\u001b[0m fitting and predicting completed\n",
      "[16:45:07] Time left 20313.98 secs\n",
      "\n",
      "[16:45:07] \u001b[1mLayer 2 training completed.\u001b[0m\n",
      "\n",
      "[16:45:07] Blending: optimization starts with equal weights and score \u001b[1m0.8269933773765588\u001b[0m\n",
      "[16:45:08] Blending: iteration \u001b[1m0\u001b[0m: score = \u001b[1m0.8329670536588515\u001b[0m, weights = \u001b[1m[0.9442719  0.05572809]\u001b[0m\n",
      "[16:45:08] Blending: iteration \u001b[1m1\u001b[0m: score = \u001b[1m0.8329670536588515\u001b[0m, weights = \u001b[1m[0.9442719  0.05572809]\u001b[0m\n",
      "[16:45:08] Blending: no score update. Terminated\n",
      "\n",
      "[16:45:08] \u001b[1mAutoml preset training completed in 1286.07 seconds\u001b[0m\n",
      "\n",
      "[16:45:08] Model description:\n",
      "Models on level 0:\n",
      "\t 5 averaged models Lvl_0_Pipe_0_Mod_0_Tuned_LightGBM\n",
      "\t 5 averaged models Lvl_0_Pipe_0_Mod_1_Tuned_CatBoost\n",
      "\t 5 averaged models Lvl_0_Pipe_1_Mod_0_Tuned_TorchNN_resnet_tuned_0\n",
      "\t 5 averaged models Lvl_0_Pipe_1_Mod_1_Tuned_TorchNN_fttransformer_tuned_1\n",
      "\n",
      "Final prediction for new objects (level 1) = \n",
      "\t 0.94427 * (5 averaged models Lvl_1_Pipe_0_Mod_0_LinearL2) +\n",
      "\t 0.05573 * (5 averaged models Lvl_1_Pipe_1_Mod_0_TorchNN_mlp_0) \n",
      "\n"
     ]
    }
   ],
   "source": [
    "automl = TabularAutoML(\n",
    "    **default_lama_params,\n",
    "    general_params={\n",
    "        'use_algos': [\n",
    "            ['lgb_tuned', 'cb_tuned', 'et_tuned', 'resnet_tuned', 'fttransformer_tuned'],  # 最初のレベル（レイヤー1）で使用するアルゴリズム\n",
    "            ['linear_l2', 'mlp']  # 次のレベル（レイヤー2）で使用するアルゴリズム\n",
    "        ]\n",
    "    },\n",
    "    nn_params={\n",
    "        **default_nn_params,\n",
    "        \"n_epochs\": 1000,\n",
    "        \"tuning_params\": {\n",
    "            \"max_tuning_iter\": 5,\n",
    "            \"max_tuning_time\": 3600,\n",
    "            \"fit_on_holdout\": True\n",
    "        }\n",
    "    }\n",
    "    #reader_params={'n_jobs': N_THREADS, 'cv': N_FOLDS[0], 'random_state': RANDOM_STATE}\n",
    ")\n",
    "automl.fit_predict(df_dict[\"train\"], roles = roles, verbose = 1)\n",
    "addResult(automl, df_dict, y, Rc)"
   ]
  },
  {
   "cell_type": "code",
   "execution_count": null,
   "metadata": {},
   "outputs": [],
   "source": []
  },
  {
   "cell_type": "code",
   "execution_count": null,
   "metadata": {},
   "outputs": [],
   "source": []
  },
  {
   "cell_type": "code",
   "execution_count": null,
   "metadata": {},
   "outputs": [],
   "source": []
  },
  {
   "cell_type": "code",
   "execution_count": 22,
   "metadata": {},
   "outputs": [
    {
     "data": {
      "image/png": "[encoded data removed]",
      "text/plain": [
       "<Figure size 640x480 with 1 Axes>"
      ]
     },
     "metadata": {},
     "output_type": "display_data"
    }
   ],
   "source": [
    "from sklearn.metrics import roc_curve\n",
    "plt.plot([0, 1], [0, 1], 'k--')\n",
    "for i in range(6):\n",
    "    fpr, tpr, thresholds = roc_curve(y, Rc.oof_valid_df[i+1])\n",
    "    plt.plot(fpr,tpr,label='LogisticRegression')\n",
    "plt.xlabel('False Positive Rate')\n",
    "plt.ylabel('True Positive Rate')\n",
    "plt.title('ROC Curve')\n",
    "plt.show()"
   ]
  },
  {
   "cell_type": "code",
   "execution_count": 23,
   "metadata": {},
   "outputs": [
    {
     "data": {
      "text/html": [
       "<div>\n",
       "<style scoped>\n",
       "    .dataframe tbody tr th:only-of-type {\n",
       "        vertical-align: middle;\n",
       "    }\n",
       "\n",
       "    .dataframe tbody tr th {\n",
       "        vertical-align: top;\n",
       "    }\n",
       "\n",
       "    .dataframe thead th {\n",
       "        text-align: right;\n",
       "    }\n",
       "</style>\n",
       "<table border=\"1\" class=\"dataframe\">\n",
       "  <thead>\n",
       "    <tr style=\"text-align: right;\">\n",
       "      <th></th>\n",
       "      <th>ID</th>\n",
       "      <th>model_name</th>\n",
       "      <th>layer1</th>\n",
       "      <th>layer2</th>\n",
       "      <th>feature_selection</th>\n",
       "      <th>under_sampling</th>\n",
       "      <th>PCA(d)</th>\n",
       "      <th>columns</th>\n",
       "      <th>skf_num</th>\n",
       "      <th>skf_rand</th>\n",
       "      <th>score</th>\n",
       "      <th>date</th>\n",
       "    </tr>\n",
       "  </thead>\n",
       "  <tbody>\n",
       "    <tr>\n",
       "      <th>0</th>\n",
       "      <td>1</td>\n",
       "      <td>LAMA</td>\n",
       "      <td>[[lgb, lgb_tuned, linear_l2, cb, cb_tuned]]</td>\n",
       "      <td>[]</td>\n",
       "      <td>True</td>\n",
       "      <td>False</td>\n",
       "      <td>False</td>\n",
       "      <td>[car_count, marriage_var, MonthlyIncomeGroup_r...</td>\n",
       "      <td>5</td>\n",
       "      <td>42</td>\n",
       "      <td>0.914950</td>\n",
       "      <td>0821</td>\n",
       "    </tr>\n",
       "    <tr>\n",
       "      <th>0</th>\n",
       "      <td>2</td>\n",
       "      <td>LAMA</td>\n",
       "      <td>[[lgb, lgb_tuned, linear_l2, cb, cb_tuned]]</td>\n",
       "      <td>[]</td>\n",
       "      <td>True</td>\n",
       "      <td>False</td>\n",
       "      <td>False</td>\n",
       "      <td>[car_count, marriage_var, MonthlyIncomeGroup_r...</td>\n",
       "      <td>3</td>\n",
       "      <td>42</td>\n",
       "      <td>0.854170</td>\n",
       "      <td>0821</td>\n",
       "    </tr>\n",
       "    <tr>\n",
       "      <th>0</th>\n",
       "      <td>3</td>\n",
       "      <td>LAMA</td>\n",
       "      <td>[lgb, lgb_tuned, linear_l2, cb, cb_tuned]</td>\n",
       "      <td>[linear_l2, rf]</td>\n",
       "      <td>True</td>\n",
       "      <td>False</td>\n",
       "      <td>False</td>\n",
       "      <td>[car_count, marriage_var, Lvl_0_Pipe_1_Mod_2_C...</td>\n",
       "      <td>5</td>\n",
       "      <td>42</td>\n",
       "      <td>0.876647</td>\n",
       "      <td>0821</td>\n",
       "    </tr>\n",
       "    <tr>\n",
       "      <th>0</th>\n",
       "      <td>4</td>\n",
       "      <td>LAMA</td>\n",
       "      <td>[lgb, lgb_tuned, linear_l2, cb, cb_tuned]</td>\n",
       "      <td>[linear_l2, rf]</td>\n",
       "      <td>True</td>\n",
       "      <td>False</td>\n",
       "      <td>False</td>\n",
       "      <td>[car_count, marriage_var, Lvl_0_Pipe_1_Mod_2_C...</td>\n",
       "      <td>3</td>\n",
       "      <td>42</td>\n",
       "      <td>0.853502</td>\n",
       "      <td>0821</td>\n",
       "    </tr>\n",
       "    <tr>\n",
       "      <th>0</th>\n",
       "      <td>5</td>\n",
       "      <td>LAMA</td>\n",
       "      <td>[[nn, mlp, dense, denselight, resnet, snn, nod...</td>\n",
       "      <td>[]</td>\n",
       "      <td>True</td>\n",
       "      <td>False</td>\n",
       "      <td>False</td>\n",
       "      <td>[car_count, marriage_var, MonthlyIncomeGroup_r...</td>\n",
       "      <td>5</td>\n",
       "      <td>42</td>\n",
       "      <td>0.850929</td>\n",
       "      <td>0821</td>\n",
       "    </tr>\n",
       "    <tr>\n",
       "      <th>0</th>\n",
       "      <td>6</td>\n",
       "      <td>LAMA</td>\n",
       "      <td>[[nn, mlp, dense, denselight, resnet, snn, nod...</td>\n",
       "      <td>[]</td>\n",
       "      <td>True</td>\n",
       "      <td>False</td>\n",
       "      <td>False</td>\n",
       "      <td>[car_count, marriage_var, MonthlyIncomeGroup_r...</td>\n",
       "      <td>3</td>\n",
       "      <td>42</td>\n",
       "      <td>0.844871</td>\n",
       "      <td>0821</td>\n",
       "    </tr>\n",
       "    <tr>\n",
       "      <th>0</th>\n",
       "      <td>7</td>\n",
       "      <td>LAMA</td>\n",
       "      <td>[[nn_tuned, mlp_tuned, dense_tuned, denselight...</td>\n",
       "      <td>[]</td>\n",
       "      <td>True</td>\n",
       "      <td>False</td>\n",
       "      <td>False</td>\n",
       "      <td>[car_count, marriage_var, MonthlyIncomeGroup_r...</td>\n",
       "      <td>5</td>\n",
       "      <td>42</td>\n",
       "      <td>0.858295</td>\n",
       "      <td>0821</td>\n",
       "    </tr>\n",
       "    <tr>\n",
       "      <th>0</th>\n",
       "      <td>8</td>\n",
       "      <td>LAMA</td>\n",
       "      <td>[[nn_tuned, mlp_tuned, dense_tuned, denselight...</td>\n",
       "      <td>[]</td>\n",
       "      <td>True</td>\n",
       "      <td>False</td>\n",
       "      <td>False</td>\n",
       "      <td>[car_count, marriage_var, MonthlyIncomeGroup_r...</td>\n",
       "      <td>3</td>\n",
       "      <td>42</td>\n",
       "      <td>0.853287</td>\n",
       "      <td>0821</td>\n",
       "    </tr>\n",
       "    <tr>\n",
       "      <th>0</th>\n",
       "      <td>9</td>\n",
       "      <td>LAMA</td>\n",
       "      <td>[nn, mlp, dense, denselight, resnet, snn, node...</td>\n",
       "      <td>[linear_l2, rf]</td>\n",
       "      <td>True</td>\n",
       "      <td>False</td>\n",
       "      <td>False</td>\n",
       "      <td>[car_count, marriage_var, MonthlyIncomeGroup_r...</td>\n",
       "      <td>5</td>\n",
       "      <td>42</td>\n",
       "      <td>0.862542</td>\n",
       "      <td>0821</td>\n",
       "    </tr>\n",
       "    <tr>\n",
       "      <th>0</th>\n",
       "      <td>10</td>\n",
       "      <td>LAMA</td>\n",
       "      <td>[lgb_tuned, cb_tuned, et_tuned, resnet_tuned, ...</td>\n",
       "      <td>[linear_l2, mlp]</td>\n",
       "      <td>True</td>\n",
       "      <td>False</td>\n",
       "      <td>False</td>\n",
       "      <td>[car_count, marriage_var, MonthlyIncomeGroup_r...</td>\n",
       "      <td>5</td>\n",
       "      <td>42</td>\n",
       "      <td>0.857566</td>\n",
       "      <td>0821</td>\n",
       "    </tr>\n",
       "  </tbody>\n",
       "</table>\n",
       "</div>"
      ],
      "text/plain": [
       "   ID model_name                                             layer1  \\\n",
       "0   1       LAMA        [[lgb, lgb_tuned, linear_l2, cb, cb_tuned]]   \n",
       "0   2       LAMA        [[lgb, lgb_tuned, linear_l2, cb, cb_tuned]]   \n",
       "0   3       LAMA          [lgb, lgb_tuned, linear_l2, cb, cb_tuned]   \n",
       "0   4       LAMA          [lgb, lgb_tuned, linear_l2, cb, cb_tuned]   \n",
       "0   5       LAMA  [[nn, mlp, dense, denselight, resnet, snn, nod...   \n",
       "0   6       LAMA  [[nn, mlp, dense, denselight, resnet, snn, nod...   \n",
       "0   7       LAMA  [[nn_tuned, mlp_tuned, dense_tuned, denselight...   \n",
       "0   8       LAMA  [[nn_tuned, mlp_tuned, dense_tuned, denselight...   \n",
       "0   9       LAMA  [nn, mlp, dense, denselight, resnet, snn, node...   \n",
       "0  10       LAMA  [lgb_tuned, cb_tuned, et_tuned, resnet_tuned, ...   \n",
       "\n",
       "             layer2  feature_selection  under_sampling  PCA(d)  \\\n",
       "0                []               True           False   False   \n",
       "0                []               True           False   False   \n",
       "0   [linear_l2, rf]               True           False   False   \n",
       "0   [linear_l2, rf]               True           False   False   \n",
       "0                []               True           False   False   \n",
       "0                []               True           False   False   \n",
       "0                []               True           False   False   \n",
       "0                []               True           False   False   \n",
       "0   [linear_l2, rf]               True           False   False   \n",
       "0  [linear_l2, mlp]               True           False   False   \n",
       "\n",
       "                                             columns  skf_num  skf_rand  \\\n",
       "0  [car_count, marriage_var, MonthlyIncomeGroup_r...        5        42   \n",
       "0  [car_count, marriage_var, MonthlyIncomeGroup_r...        3        42   \n",
       "0  [car_count, marriage_var, Lvl_0_Pipe_1_Mod_2_C...        5        42   \n",
       "0  [car_count, marriage_var, Lvl_0_Pipe_1_Mod_2_C...        3        42   \n",
       "0  [car_count, marriage_var, MonthlyIncomeGroup_r...        5        42   \n",
       "0  [car_count, marriage_var, MonthlyIncomeGroup_r...        3        42   \n",
       "0  [car_count, marriage_var, MonthlyIncomeGroup_r...        5        42   \n",
       "0  [car_count, marriage_var, MonthlyIncomeGroup_r...        3        42   \n",
       "0  [car_count, marriage_var, MonthlyIncomeGroup_r...        5        42   \n",
       "0  [car_count, marriage_var, MonthlyIncomeGroup_r...        5        42   \n",
       "\n",
       "      score  date  \n",
       "0  0.914950  0821  \n",
       "0  0.854170  0821  \n",
       "0  0.876647  0821  \n",
       "0  0.853502  0821  \n",
       "0  0.850929  0821  \n",
       "0  0.844871  0821  \n",
       "0  0.858295  0821  \n",
       "0  0.853287  0821  \n",
       "0  0.862542  0821  \n",
       "0  0.857566  0821  "
      ]
     },
     "execution_count": 23,
     "metadata": {},
     "output_type": "execute_result"
    }
   ],
   "source": [
    "Rc.RESULT_CONFIG"
   ]
  },
  {
   "cell_type": "code",
   "execution_count": 24,
   "metadata": {},
   "outputs": [
    {
     "data": {
      "text/plain": [
       "0       0.810959\n",
       "1       0.202638\n",
       "2       0.362799\n",
       "3       0.128263\n",
       "4       0.668284\n",
       "          ...   \n",
       "3484    0.406246\n",
       "3485    0.169367\n",
       "3486    0.047535\n",
       "3487    0.355065\n",
       "3488    0.101386\n",
       "Length: 3489, dtype: float32"
      ]
     },
     "execution_count": 24,
     "metadata": {},
     "output_type": "execute_result"
    }
   ],
   "source": [
    "Rc.oof_valid_df.mean(axis=1)"
   ]
  },
  {
   "cell_type": "code",
   "execution_count": 25,
   "metadata": {},
   "outputs": [
    {
     "name": "stdout",
     "output_type": "stream",
     "text": [
      "0.8695488438653312\n"
     ]
    }
   ],
   "source": [
    "score = roc_auc_score(y, Rc.oof_valid_df.mean(axis=1).values)\n",
    "print(score)"
   ]
  }
 ],
 "metadata": {
  "colab": {
   "provenance": []
  },
  "kernelspec": {
   "display_name": "AutoML_LAMA",
   "language": "python",
   "name": "automl_lama"
  },
  "language_info": {
   "codemirror_mode": {
    "name": "ipython",
    "version": 3
   },
   "file_extension": ".py",
   "mimetype": "text/x-python",
   "name": "python",
   "nbconvert_exporter": "python",
   "pygments_lexer": "ipython3",
   "version": "3.11.6"
  }
 },
 "nbformat": 4,
 "nbformat_minor": 4
}
