{
 "cells": [
  {
   "cell_type": "code",
   "execution_count": 1,
   "metadata": {},
   "outputs": [],
   "source": [
    "%load_ext autoreload\n",
    "%autoreload 2"
   ]
  },
  {
   "cell_type": "markdown",
   "metadata": {},
   "source": [
    "# ライブラリ"
   ]
  },
  {
   "cell_type": "code",
   "execution_count": 2,
   "metadata": {
    "id": "zWyUNOHpYqmb"
   },
   "outputs": [],
   "source": [
    "from IPython.display import clear_output\n",
    "\n",
    "# ライブラリのimportを行います\n",
    "import pandas as pd\n",
    "import numpy as np\n",
    "import matplotlib.pyplot as plt\n",
    "import japanize_matplotlib\n",
    "import seaborn as sns\n",
    "import json\n",
    "\n",
    "import re\n",
    "import unicodedata\n",
    "from kanjize import kanji2number\n",
    "import category_encoders as ce\n",
    "from sklearn.preprocessing import LabelEncoder\n",
    "\n",
    "\n",
    "from sklearn.model_selection import KFold\n",
    "from sklearn.model_selection import train_test_split\n",
    "from sklearn.model_selection import StratifiedKFold\n",
    "from sklearn.metrics import roc_auc_score\n",
    "from sklearn.metrics import f1_score\n",
    "\n",
    "from sklearn.preprocessing import StandardScaler\n",
    "from sklearn.decomposition import PCA\n",
    "\n",
    "import lightgbm as lgb\n",
    "import logging\n",
    "logging.getLogger(\"lightgbm\").setLevel(logging.WARNING)\n",
    "from sklearn.metrics import accuracy_score\n",
    "\n",
    "from imblearn.under_sampling import RandomUnderSampler\n",
    "from tqdm.auto import tqdm"
   ]
  },
  {
   "cell_type": "markdown",
   "metadata": {},
   "source": [
    "# 独自モジュール"
   ]
  },
  {
   "cell_type": "code",
   "execution_count": 3,
   "metadata": {},
   "outputs": [],
   "source": [
    "import src.preprocess as pre\n",
    "import src.feature_selection as fs\n",
    "import src.stacking as stacking\n",
    "import src.classification_models as models\n"
   ]
  },
  {
   "cell_type": "markdown",
   "metadata": {},
   "source": [
    "# Config"
   ]
  },
  {
   "cell_type": "code",
   "execution_count": 6,
   "metadata": {},
   "outputs": [],
   "source": [
    "np.random.seed(42)\n",
    "isTune = False"
   ]
  },
  {
   "cell_type": "markdown",
   "metadata": {},
   "source": [
    "# 提出ファイル作成用"
   ]
  },
  {
   "cell_type": "code",
   "execution_count": null,
   "metadata": {},
   "outputs": [],
   "source": [
    "def make_submitfile(submit_date = \"0829\",filename = \"submission\", version = \"00\", data = []):\n",
    "    submit = pd.read_csv(\"data/sample_submit.csv\", header=None)\n",
    "    # 提出ファイルの2列目を予測値で置き換えます。\n",
    "    submit[1] = data\n",
    "    submit.to_csv(f\"output/{submit_date}{filename}_{version}.csv\", index=False, header=None)"
   ]
  },
  {
   "cell_type": "markdown",
   "metadata": {},
   "source": [
    "## 結果の格納用クラス"
   ]
  },
  {
   "cell_type": "code",
   "execution_count": 7,
   "metadata": {},
   "outputs": [],
   "source": [
    "class RESULT_class:\n",
    "    def __init__(self):\n",
    "        self.RESULT = pd.DataFrame()\n",
    "\n",
    "    def addResult(self, model_name,\n",
    "                  feature_selection,\n",
    "                  under_sampling,\n",
    "                  PCAd,\n",
    "                  columns,\n",
    "                  skf_num,\n",
    "                  skf_rand,\n",
    "                  score,\n",
    "                  oof_valid,\n",
    "                  oof_test,\n",
    "                  date = \"0829\"):\n",
    "\n",
    "        tmp = pd.DataFrame([[model_name,feature_selection,under_sampling,PCAd,columns,skf_num,skf_rand,score,oof_valid,oof_test,date]])\n",
    "        tmp.columns = [\"model_name\",\"feature_selection\",\"under_sampling\",\"PCA(d)\",\"columns\",\"skf_num\",\"skf_rand\",\"score\",\"oof_valid\",\"oof_test\",\"date\"]\n",
    "        print(len(self.RESULT))\n",
    "        if len(self.RESULT)>0:\n",
    "            self.RESULT = pd.concat([self.RESULT, tmp])\n",
    "        else:\n",
    "            self.RESULT = tmp\n",
    "\n",
    "Rc = RESULT_class()"
   ]
  },
  {
   "cell_type": "code",
   "execution_count": 8,
   "metadata": {},
   "outputs": [
    {
     "data": {
      "text/html": [
       "<div>\n",
       "<style scoped>\n",
       "    .dataframe tbody tr th:only-of-type {\n",
       "        vertical-align: middle;\n",
       "    }\n",
       "\n",
       "    .dataframe tbody tr th {\n",
       "        vertical-align: top;\n",
       "    }\n",
       "\n",
       "    .dataframe thead th {\n",
       "        text-align: right;\n",
       "    }\n",
       "</style>\n",
       "<table border=\"1\" class=\"dataframe\">\n",
       "  <thead>\n",
       "    <tr style=\"text-align: right;\">\n",
       "      <th></th>\n",
       "    </tr>\n",
       "  </thead>\n",
       "  <tbody>\n",
       "  </tbody>\n",
       "</table>\n",
       "</div>"
      ],
      "text/plain": [
       "Empty DataFrame\n",
       "Columns: []\n",
       "Index: []"
      ]
     },
     "execution_count": 8,
     "metadata": {},
     "output_type": "execute_result"
    }
   ],
   "source": [
    "Rc.RESULT"
   ]
  },
  {
   "cell_type": "markdown",
   "metadata": {},
   "source": [
    "# Dataload"
   ]
  },
  {
   "cell_type": "code",
   "execution_count": 9,
   "metadata": {
    "id": "dk2Tvn4MYqmf"
   },
   "outputs": [],
   "source": [
    "train = pd.read_csv(\"data/train.csv\")\n",
    "test = pd.read_csv(\"data/test.csv\")\n",
    "train[\"test\"]  = 0\n",
    "test[\"test\"]  = 1\n",
    "data = pd.concat([train,test]).reset_index(drop=True)"
   ]
  },
  {
   "cell_type": "code",
   "execution_count": 10,
   "metadata": {},
   "outputs": [],
   "source": [
    "df_dict = {\"data\":data}"
   ]
  },
  {
   "cell_type": "markdown",
   "metadata": {
    "id": "QV8RKhE8E-ir"
   },
   "source": [
    "- id: 営業リストの顧客ID\n",
    "- Age: 顧客の年齢\n",
    "- TypeofContact: 顧客への連絡方法\n",
    "- CityTier: 都市層(1>2>3)\n",
    "- DurationOfPitch: 営業担当者による顧客への売り込み時間\n",
    "- Occupation: 顧客のご職業\n",
    "- Gender: 顧客の性別\n",
    "- NumberOfPersonVisiting: 一緒に旅行を予定している人数の合計\n",
    "- NumberOfFollowups: セールストーク後に営業担当者が行ったフォローアップの合計数\n",
    "- ProductPitched: 営業担当者による商品の売り込み\n",
    "- PreferredPropertyStar: 顧客によるホテル施設の優先評価\n",
    "- NumberOfTrips: 顧客の年間旅行数\n",
    "- Passport: パスポートの所持\n",
    "- PitchSatisfactionScore: 売り込みの満足度スコア\n",
    "- Designation: 現在の組織における顧客の指定\n",
    "- MonthlyIncome: 顧客の月収\n",
    "- customer_info: 顧客の情報のメモ(婚姻状況や車の有無、旅行の子どもの同伴の有無について記載されている)\n",
    "- ProdTaken: 目的変数"
   ]
  },
  {
   "cell_type": "code",
   "execution_count": 11,
   "metadata": {
    "colab": {
     "base_uri": "https://localhost:8080/"
    },
    "id": "7yqgSUbKE-is",
    "outputId": "21418101-b08c-465d-a735-e636cbd3aeec"
   },
   "outputs": [
    {
     "name": "stdout",
     "output_type": "stream",
     "text": [
      "(3489, 19)\n",
      "(3489, 18)\n",
      "(6978, 19)\n"
     ]
    }
   ],
   "source": [
    "print(train.shape)\n",
    "print(test.shape)\n",
    "print(data.shape)"
   ]
  },
  {
   "cell_type": "markdown",
   "metadata": {
    "id": "ZQm2WdZAYqmj"
   },
   "source": [
    "# 基本変換"
   ]
  },
  {
   "cell_type": "code",
   "execution_count": 12,
   "metadata": {},
   "outputs": [],
   "source": [
    "# 似た文字のマッピング辞書\n",
    "char_map = {\n",
    "    'ς': 'c',\n",
    "    'а': 'a', 'А': 'A','α':'a',\n",
    "    'е': 'e', 'Е': 'E',\n",
    "    'о': 'o', 'О': 'O',\n",
    "    'с': 'c', 'С': 'C',\n",
    "    'р': 'p', 'Р': 'P',\n",
    "    'υ': 'y', 'Υ': 'Y',\n",
    "    'ꓢ': 'S', 'ꓤ': 'R',\n",
    "    'Ѕ': 'S','ѕ':'s',\n",
    "    'Ꭰ': 'D', 'ᗞ': 'D', 'ꭰ': 'D', '𝙳': 'D',\n",
    "    'Տ': 'S',\n",
    "    '𝖺': 'a', '𝘤': 'c', '𝔡': 'd',\n",
    "    '𐊡': 'B', 'в':'B','β':'B',\n",
    "    'μ':'m',\n",
    "    'ε':'E',\n",
    "    'K':'K',\n",
    "    'ı':'i',\n",
    "    'n':'n','ո':'n',\n",
    "    'ｓ': 's', 'տ':'s','ι':'i',\n",
    "    '×': 'x'\n",
    "}\n",
    "\n",
    "# 特定の文字列を正規化するための辞書\n",
    "pattern_map = {\n",
    "    r'(?i)basic': 'Basic',\n",
    "    r'(?i)standard': 'Standard',\n",
    "    r'(?i)super deluxe': 'Super Deluxe',\n",
    "    r'(?i)deluxe': 'Deluxe',\n",
    "    r'(?i)king': 'King',\n",
    "    r'(?i)de\\|uxe': 'Deluxe',\n",
    "}"
   ]
  },
  {
   "cell_type": "code",
   "execution_count": 13,
   "metadata": {},
   "outputs": [],
   "source": [
    "for kind in [\"data\"]:\n",
    "    df_dict[kind][\"Age\"] = df_dict[kind][\"Age\"].map(lambda x:pre.Age(x))\n",
    "    df_dict[kind][\"Age\"] = df_dict[\"data\"][\"Age\"].map(lambda x: pre.age_distribution(df_dict[\"data\"], x) if x < 0 else x)\n",
    "    df_dict[kind][\"DurationOfPitch\"] = df_dict[kind][\"DurationOfPitch\"].map(lambda x:pre.DurationOfPitch(x))\n",
    "    df_dict[kind][\"Gender\"] = df_dict[kind][\"Gender\"].map(lambda x:pre.Gender(x))\n",
    "    df_dict[kind][\"ProductPitched\"] = df_dict[kind][\"ProductPitched\"].map(lambda x:pre.ProductPitched(x, char_map, pattern_map))\n",
    "    df_dict[kind][\"NumberOfTrips\"] = df_dict[kind][\"NumberOfTrips\"].map(lambda x:pre.NumberOfTrips(x))\n",
    "    df_dict[kind][\"Designation\"] = df_dict[kind][\"Designation\"].map(lambda x:pre.ProductPitched(x, char_map, pattern_map))\n",
    "    df_dict[kind][\"MonthlyIncome\"] = df_dict[kind][\"MonthlyIncome\"].map(lambda x:pre.MonthlyIncome(x)).astype(float)\n",
    "    df_dict[kind][\"NumberOfFollowups\"] = df_dict[kind][\"NumberOfFollowups\"].map(lambda x:pre.NumberOfFollowups(x)).astype(float)\n",
    "    df_dict[kind] = pre.customer_info(df_dict[kind])"
   ]
  },
  {
   "cell_type": "code",
   "execution_count": 14,
   "metadata": {},
   "outputs": [],
   "source": [
    "df_dict[\"data\"][\"MonthlyIncome\"] = df_dict[\"data\"][\"MonthlyIncome\"].map(lambda x: pre.Income_distribution(df_dict[\"data\"], x) if x % 1000 == 0 else x)\n",
    "df_dict[\"data\"][\"MonthlyIncome\"] = df_dict[\"data\"][\"MonthlyIncome\"]/100\n",
    "df_dict[\"data\"][\"MonthlyIncome\"] = df_dict[\"data\"][\"MonthlyIncome\"].round(0)"
   ]
  },
  {
   "cell_type": "code",
   "execution_count": 15,
   "metadata": {
    "scrolled": true
   },
   "outputs": [],
   "source": [
    "# カテゴリ変数のリスト\n",
    "onehotlist = [\"Occupation\",\"ProductPitched\",\"Designation\",\"marriage\",\"CityTier\"]\n",
    "labellist = [\"Gender\", \"TypeofContact\", \"car\", \"Passport\"]\n",
    "list_cols = onehotlist + labellist\n",
    "\n",
    "df_dict[\"data\"][list_cols] = df_dict[\"data\"][list_cols].astype('category')\n"
   ]
  },
  {
   "cell_type": "markdown",
   "metadata": {},
   "source": [
    "# 欠測補完"
   ]
  },
  {
   "cell_type": "code",
   "execution_count": 16,
   "metadata": {
    "scrolled": true
   },
   "outputs": [
    {
     "name": "stderr",
     "output_type": "stream",
     "text": [
      "C:\\Users\\ctiha\\AppData\\Local\\Programs\\Python\\Python311\\Lib\\site-packages\\lightgbm\\engine.py:204: UserWarning: Found `num_iterations` in params. Will use it instead of argument\n",
      "  _log_warning(f\"Found `{alias}` in params. Will use it instead of argument\")\n"
     ]
    },
    {
     "name": "stdout",
     "output_type": "stream",
     "text": [
      "[LightGBM] [Info] Auto-choosing row-wise multi-threading, the overhead of testing was 0.000043 seconds.\n",
      "You can set `force_row_wise=true` to remove the overhead.\n",
      "And if memory is not enough, you can set `force_col_wise=true`.\n",
      "[LightGBM] [Info] Total Bins 328\n",
      "[LightGBM] [Info] Number of data points in the train set: 5088, number of used features: 9\n",
      "[LightGBM] [Info] Start training from score 39.247838\n",
      "Training until validation scores don't improve for 300 rounds\n",
      "[500]\tvalid_0's rmse: 8.55111\n",
      "Early stopping, best iteration is:\n",
      "[290]\tvalid_0's rmse: 8.50214\n",
      "[LightGBM] [Info] Auto-choosing col-wise multi-threading, the overhead of testing was 0.000154 seconds.\n",
      "You can set `force_col_wise=true` to remove the overhead.\n",
      "[LightGBM] [Info] Total Bins 340\n",
      "[LightGBM] [Info] Number of data points in the train set: 5044, number of used features: 9\n",
      "[LightGBM] [Info] Start training from score 14.487906\n",
      "Training until validation scores don't improve for 300 rounds\n"
     ]
    },
    {
     "name": "stderr",
     "output_type": "stream",
     "text": [
      "C:\\Users\\ctiha\\AppData\\Local\\Programs\\Python\\Python311\\Lib\\site-packages\\lightgbm\\engine.py:204: UserWarning: Found `num_iterations` in params. Will use it instead of argument\n",
      "  _log_warning(f\"Found `{alias}` in params. Will use it instead of argument\")\n"
     ]
    },
    {
     "name": "stdout",
     "output_type": "stream",
     "text": [
      "[500]\tvalid_0's rmse: 6.83191\n",
      "Early stopping, best iteration is:\n",
      "[212]\tvalid_0's rmse: 6.77998\n",
      "[LightGBM] [Info] Auto-choosing col-wise multi-threading, the overhead of testing was 0.000133 seconds.\n",
      "You can set `force_col_wise=true` to remove the overhead.\n",
      "[LightGBM] [Info] Total Bins 366\n",
      "[LightGBM] [Info] Number of data points in the train set: 5190, number of used features: 9\n",
      "[LightGBM] [Info] Start training from score 3.668979\n",
      "Training until validation scores don't improve for 300 rounds\n"
     ]
    },
    {
     "name": "stderr",
     "output_type": "stream",
     "text": [
      "C:\\Users\\ctiha\\AppData\\Local\\Programs\\Python\\Python311\\Lib\\site-packages\\lightgbm\\engine.py:204: UserWarning: Found `num_iterations` in params. Will use it instead of argument\n",
      "  _log_warning(f\"Found `{alias}` in params. Will use it instead of argument\")\n"
     ]
    },
    {
     "name": "stdout",
     "output_type": "stream",
     "text": [
      "[500]\tvalid_0's rmse: 0.807304\n",
      "Early stopping, best iteration is:\n",
      "[243]\tvalid_0's rmse: 0.802753\n",
      "[LightGBM] [Info] Auto-choosing row-wise multi-threading, the overhead of testing was 0.000039 seconds.\n",
      "You can set `force_row_wise=true` to remove the overhead.\n",
      "And if memory is not enough, you can set `force_col_wise=true`.\n",
      "[LightGBM] [Info] Total Bins 364\n",
      "[LightGBM] [Info] Number of data points in the train set: 5185, number of used features: 9\n",
      "[LightGBM] [Info] Start training from score 3.218901\n",
      "Training until validation scores don't improve for 300 rounds\n"
     ]
    },
    {
     "name": "stderr",
     "output_type": "stream",
     "text": [
      "C:\\Users\\ctiha\\AppData\\Local\\Programs\\Python\\Python311\\Lib\\site-packages\\lightgbm\\engine.py:204: UserWarning: Found `num_iterations` in params. Will use it instead of argument\n",
      "  _log_warning(f\"Found `{alias}` in params. Will use it instead of argument\")\n"
     ]
    },
    {
     "name": "stdout",
     "output_type": "stream",
     "text": [
      "[500]\tvalid_0's rmse: 1.67492\n",
      "Early stopping, best iteration is:\n",
      "[270]\tvalid_0's rmse: 1.66422\n",
      "[LightGBM] [Info] Auto-choosing row-wise multi-threading, the overhead of testing was 0.000061 seconds.\n",
      "You can set `force_row_wise=true` to remove the overhead.\n",
      "And if memory is not enough, you can set `force_col_wise=true`.\n",
      "[LightGBM] [Info] Total Bins 119\n",
      "[LightGBM] [Info] Number of data points in the train set: 5154, number of used features: 9\n",
      "[LightGBM] [Info] Start training from score 3642.851572\n",
      "Training until validation scores don't improve for 300 rounds\n"
     ]
    },
    {
     "name": "stderr",
     "output_type": "stream",
     "text": [
      "C:\\Users\\ctiha\\AppData\\Local\\Programs\\Python\\Python311\\Lib\\site-packages\\lightgbm\\engine.py:204: UserWarning: Found `num_iterations` in params. Will use it instead of argument\n",
      "  _log_warning(f\"Found `{alias}` in params. Will use it instead of argument\")\n"
     ]
    },
    {
     "name": "stdout",
     "output_type": "stream",
     "text": [
      "[500]\tvalid_0's rmse: 676.747\n",
      "Early stopping, best iteration is:\n",
      "[421]\tvalid_0's rmse: 676.568\n"
     ]
    }
   ],
   "source": [
    "import src.Missing_imputation as MI\n",
    "_train = df_dict[\"data\"].drop([\"id\",\"ProdTaken\"],axis=1)\n",
    "\n",
    "for c in [\"Age\",\"DurationOfPitch\",\"NumberOfFollowups\",\"NumberOfTrips\",\"MonthlyIncome\"]:\n",
    "    #対象となるデータに欠損がないデータセットの作成\n",
    "    _tmp = _train.dropna(subset=[c])\n",
    "    #数値のみを取り出す\n",
    "    _tmp =_tmp.select_dtypes(include=['number'])\n",
    "    #数値のみのカラム名を抽出\n",
    "    colmns = _tmp.columns.tolist()\n",
    "\n",
    "    #クラスをインスタンス化\n",
    "    nfill = MI.MissingImputation(c, _tmp)\n",
    "\n",
    "    nfill.lgb_regression()\n",
    "    train_result = nfill.pred_lgb(_train[_train[c].isnull()][colmns].drop([c],axis=1))\n",
    "    \n",
    "    df_dict[\"data\"].loc[df_dict[\"data\"][c].isnull(), c] = np.round(train_result)\n"
   ]
  },
  {
   "cell_type": "markdown",
   "metadata": {},
   "source": [
    "# 特徴量作成"
   ]
  },
  {
   "cell_type": "markdown",
   "metadata": {},
   "source": [
    "## bins"
   ]
  },
  {
   "cell_type": "code",
   "execution_count": 17,
   "metadata": {},
   "outputs": [],
   "source": [
    "def age_group(Age:float) -> str:\n",
    "  if Age<=25:\n",
    "     return 'Youth'\n",
    "  elif 25<Age<=40:\n",
    "     return 'Adult'\n",
    "  elif 40<Age:\n",
    "     return 'Elderly'\n",
    "\n",
    "def MonthlyIncome_group(MonthlyIncome:float) -> str:\n",
    "  if MonthlyIncome <= 2900:\n",
    "     return 'row'\n",
    "  elif 290000 <= MonthlyIncome:\n",
    "     return 'high'"
   ]
  },
  {
   "cell_type": "code",
   "execution_count": 18,
   "metadata": {},
   "outputs": [],
   "source": [
    "df_dict[\"data\"].insert(3,'AgeGroup',df_dict[kind]['Age'].apply(age_group))\n",
    "df_dict[\"data\"].insert(3,'MonthlyIncomeGroup',df_dict[kind]['MonthlyIncome'].apply(MonthlyIncome_group))"
   ]
  },
  {
   "cell_type": "markdown",
   "metadata": {},
   "source": [
    "### 種別内の目的変数割合"
   ]
  },
  {
   "cell_type": "code",
   "execution_count": 19,
   "metadata": {
    "scrolled": true
   },
   "outputs": [],
   "source": [
    "def WithinCategoryProbabilities(df, Category_name):\n",
    "    tmp = df.groupby([Category_name,'ProdTaken'])['id'].count().reset_index(name=\"TotalCust\").merge(df.groupby([Category_name])['id'].count(),on=Category_name)\n",
    "    tmp=tmp[tmp[\"ProdTaken\"]==1].reset_index(drop=\"True\")\n",
    "    tmp[f'{Category_name}_ProdTaken_rate']=round(tmp.TotalCust/tmp.id,2)\n",
    "    return tmp[[Category_name,f\"{Category_name}_ProdTaken_rate\"]]\n",
    "\n",
    "\n",
    "df_dict = df_dict.copy()\n",
    "for category_name in [\"MonthlyIncomeGroup\",\"CityTier\",\"Passport\",\"Designation\",\"Occupation\",\"Gender\",\"marriage\"]:\n",
    "    \n",
    "    df_dict[\"data\"][category_name] = df_dict[\"data\"][category_name].astype(\"str\")\n",
    "    rate_df = WithinCategoryProbabilities(df_dict[\"data\"], category_name)\n",
    "    df_dict[\"data\"] = pd.merge(df_dict[\"data\"], rate_df, on = category_name, how = \"left\")"
   ]
  },
  {
   "cell_type": "markdown",
   "metadata": {},
   "source": [
    "## 目的変数率"
   ]
  },
  {
   "cell_type": "code",
   "execution_count": 20,
   "metadata": {
    "scrolled": true
   },
   "outputs": [
    {
     "name": "stderr",
     "output_type": "stream",
     "text": [
      "C:\\Users\\ctiha\\AppData\\Local\\Temp\\ipykernel_21712\\4100086650.py:2: FutureWarning: The default of observed=False is deprecated and will be changed to True in a future version of pandas. Pass observed=False to retain current behavior or observed=True to adopt the future default and silence this warning.\n",
      "  tmp = df_dict[\"data\"].groupby([column])[\"ProdTaken\"].sum()/df_dict[\"train\"][\"ProdTaken\"].sum()\n",
      "C:\\Users\\ctiha\\AppData\\Local\\Temp\\ipykernel_21712\\4100086650.py:2: FutureWarning: The default of observed=False is deprecated and will be changed to True in a future version of pandas. Pass observed=False to retain current behavior or observed=True to adopt the future default and silence this warning.\n",
      "  tmp = df_dict[\"data\"].groupby([column])[\"ProdTaken\"].sum()/df_dict[\"train\"][\"ProdTaken\"].sum()\n"
     ]
    }
   ],
   "source": [
    "def ProdTaken_rate(df_dict, column):\n",
    "    tmp = df_dict[\"data\"].groupby([column])[\"ProdTaken\"].sum()/df_dict[\"train\"][\"ProdTaken\"].sum()\n",
    "    tmp = tmp.reset_index()\n",
    "    tmp.columns = [column, f\"ProdTaken_{column}Rate\"]\n",
    "    \n",
    "    df_dict[\"data\"] = pd.merge(df_dict[\"data\"], tmp, on = column, how = \"left\")\n",
    "    \n",
    "    return df_dict\n",
    "df_dict = ProdTaken_rate(df_dict, \"MonthlyIncomeGroup\")\n",
    "df_dict = ProdTaken_rate(df_dict, \"TypeofContact\")\n",
    "df_dict = ProdTaken_rate(df_dict, \"CityTier\")\n",
    "df_dict = ProdTaken_rate(df_dict, \"Occupation\")\n",
    "df_dict = ProdTaken_rate(df_dict, \"Gender\")\n",
    "df_dict = ProdTaken_rate(df_dict, \"ProductPitched\")\n",
    "df_dict = ProdTaken_rate(df_dict, \"PreferredPropertyStar\")\n",
    "df_dict = ProdTaken_rate(df_dict, \"PitchSatisfactionScore\")\n",
    "df_dict = ProdTaken_rate(df_dict, \"Designation\")\n"
   ]
  },
  {
   "cell_type": "markdown",
   "metadata": {},
   "source": [
    "## カテゴリ変数エンコーディング"
   ]
  },
  {
   "cell_type": "code",
   "execution_count": 21,
   "metadata": {},
   "outputs": [],
   "source": [
    "# カテゴリ変数のリスト\n",
    "onehotlist = [\"AgeGroup\",\"MonthlyIncomeGroup\",\"Occupation\",\"ProductPitched\",\"Designation\",\"marriage\",\"CityTier\"]\n",
    "labellist = [\"Gender\",\"TypeofContact\",\"car\",\"Passport\"]\n",
    "list_cols = onehotlist + labellist"
   ]
  },
  {
   "cell_type": "markdown",
   "metadata": {},
   "source": [
    "### Target encoding"
   ]
  },
  {
   "cell_type": "code",
   "execution_count": 22,
   "metadata": {
    "scrolled": true
   },
   "outputs": [
    {
     "name": "stderr",
     "output_type": "stream",
     "text": [
      "C:\\Users\\ctiha\\AppData\\Local\\Temp\\ipykernel_21712\\1136530661.py:3: FutureWarning: The default of observed=False is deprecated and will be changed to True in a future version of pandas. Pass observed=False to retain current behavior or observed=True to adopt the future default and silence this warning.\n",
      "  groupby_tmp = df_dict[\"data\"].groupby(c)[\"MonthlyIncome\"].agg([\"mean\", \"var\"]).reset_index()\n",
      "C:\\Users\\ctiha\\AppData\\Local\\Temp\\ipykernel_21712\\1136530661.py:3: FutureWarning: The default of observed=False is deprecated and will be changed to True in a future version of pandas. Pass observed=False to retain current behavior or observed=True to adopt the future default and silence this warning.\n",
      "  groupby_tmp = df_dict[\"data\"].groupby(c)[\"MonthlyIncome\"].agg([\"mean\", \"var\"]).reset_index()\n",
      "C:\\Users\\ctiha\\AppData\\Local\\Temp\\ipykernel_21712\\1136530661.py:3: FutureWarning: The default of observed=False is deprecated and will be changed to True in a future version of pandas. Pass observed=False to retain current behavior or observed=True to adopt the future default and silence this warning.\n",
      "  groupby_tmp = df_dict[\"data\"].groupby(c)[\"MonthlyIncome\"].agg([\"mean\", \"var\"]).reset_index()\n"
     ]
    }
   ],
   "source": [
    "for c in list_cols:\n",
    "    df_dict = df_dict.copy()\n",
    "    groupby_tmp = df_dict[\"data\"].groupby(c)[\"MonthlyIncome\"].agg([\"mean\", \"var\"]).reset_index()\n",
    "    groupby_tmp.columns = [c, f\"{c}_mean\", f\"{c}_var\"]\n",
    "    \n",
    "    df_dict[\"data\"] = pd.merge(df_dict[\"data\"],groupby_tmp, on = c,how=\"left\")"
   ]
  },
  {
   "cell_type": "markdown",
   "metadata": {},
   "source": [
    "## 数値変換"
   ]
  },
  {
   "cell_type": "code",
   "execution_count": 23,
   "metadata": {},
   "outputs": [],
   "source": [
    "# NumberOfFollowups / DurationOfPitch: フォローアップの効率性\n",
    "df_dict[\"data\"]['Followup_Efficiency'] = df_dict[\"data\"]['NumberOfFollowups'] / df_dict[\"data\"]['DurationOfPitch']\n",
    "\n",
    "city_income_level = df_dict[\"data\"].groupby('CityTier')['MonthlyIncome'].mean().to_dict()\n",
    "df_dict[\"data\"]['city_income_level'] = df_dict[\"data\"]['CityTier'].map(city_income_level)"
   ]
  },
  {
   "cell_type": "code",
   "execution_count": 24,
   "metadata": {},
   "outputs": [],
   "source": [
    "CityTier_Designation_Income = df_dict[\"data\"].groupby(['CityTier',\"Designation\"])['MonthlyIncome'].mean().reset_index()\n",
    "CityTier_Designation_Income.columns = [\"CityTier\",\"Designation\",\"CityTier_Designation_Income\"]\n",
    "df_dict[\"data\"] = pd.merge(df_dict[\"data\"],CityTier_Designation_Income, on = ['CityTier',\"Designation\"], how = \"left\")"
   ]
  },
  {
   "cell_type": "code",
   "execution_count": 25,
   "metadata": {},
   "outputs": [],
   "source": [
    "tmp = df_dict[\"data\"].groupby([\"Passport\",\"NumberOfTrips\"],observed=False).count()[\"id\"].reset_index()\n",
    "tmp = tmp.rename(columns={'id': 'Passport_NumberOfTrips'}).copy()\n",
    "df_dict[\"data\"] = pd.merge(df_dict[\"data\"],tmp,how = \"left\")\n",
    "\n",
    "\n",
    "tmp = df_dict[\"data\"].groupby([\"Passport\",\"Gender\"],observed=False).count()[\"id\"].reset_index()\n",
    "tmp = tmp.rename(columns={'id': 'Passport_Gender'})\n",
    "df_dict[\"data\"] = pd.merge(df_dict[\"data\"],tmp,how = \"left\")"
   ]
  },
  {
   "cell_type": "markdown",
   "metadata": {},
   "source": [
    "# ラベルエンコーディング"
   ]
  },
  {
   "cell_type": "code",
   "execution_count": 26,
   "metadata": {},
   "outputs": [],
   "source": [
    "onehotlist = [\"MonthlyIncomeGroup\",\"AgeGroup\",\"Occupation\",\"ProductPitched\",\"Designation\",\"marriage\",\"CityTier\"]\n",
    "labellist = [\"Gender\", \"TypeofContact\", \"car\", \"Passport\"]\n",
    "list_cols = onehotlist + labellist"
   ]
  },
  {
   "cell_type": "code",
   "execution_count": 27,
   "metadata": {},
   "outputs": [],
   "source": [
    "df_dict[\"data\"][list_cols] = df_dict[\"data\"][list_cols].astype(\"str\")\n",
    "for c in list_cols:\n",
    "    le = LabelEncoder()\n",
    "    le.fit(df_dict[\"data\"][c].values)\n",
    "    df_dict[\"data\"][c] = le.transform(df_dict[\"data\"][c].values)"
   ]
  },
  {
   "cell_type": "markdown",
   "metadata": {},
   "source": [
    "# データ傾向"
   ]
  },
  {
   "cell_type": "code",
   "execution_count": 28,
   "metadata": {
    "scrolled": true
   },
   "outputs": [
    {
     "name": "stderr",
     "output_type": "stream",
     "text": [
      "C:\\Users\\ctiha\\AppData\\Local\\Programs\\Python\\Python311\\Lib\\site-packages\\threadpoolctl.py:1214: RuntimeWarning: \n",
      "Found Intel OpenMP ('libiomp') and LLVM OpenMP ('libomp') loaded at\n",
      "the same time. Both libraries are known to be incompatible and this\n",
      "can cause random crashes or deadlocks on Linux when loaded in the\n",
      "same Python program.\n",
      "Using threadpoolctl may cause crashes or deadlocks. For more\n",
      "information and possible workarounds, please see\n",
      "    https://github.com/joblib/threadpoolctl/blob/master/multiple_openmp.md\n",
      "\n",
      "  warnings.warn(msg, RuntimeWarning)\n"
     ]
    },
    {
     "data": {
      "image/png": "[encoded data removed]",
      "text/plain": [
       "<Figure size 1200x800 with 4 Axes>"
      ]
     },
     "metadata": {},
     "output_type": "display_data"
    }
   ],
   "source": [
    "import src.DimensionalityReduction as dr\n",
    "from sklearn.preprocessing import StandardScaler\n",
    "y    = df_dict[\"data\"].dropna()[\"ProdTaken\"]\n",
    "X    = df_dict[\"data\"].dropna().drop(columns=['id', 'customer_info',\"ProdTaken\"], axis=1)#.astype(float)\n",
    "X = X.drop(onehotlist,axis=1)\n",
    "scaler = StandardScaler()\n",
    "X_scaled = scaler.fit_transform(X)\n",
    "DR = dr.DimensionalityReduction(X_scaled,y.values)\n",
    "DR.view()"
   ]
  },
  {
   "cell_type": "markdown",
   "metadata": {
    "id": "eJ6FtShME-iv"
   },
   "source": [
    "# Training Phase"
   ]
  },
  {
   "cell_type": "markdown",
   "metadata": {},
   "source": [
    "## 学習用データ"
   ]
  },
  {
   "cell_type": "code",
   "execution_count": 29,
   "metadata": {
    "id": "RUArhiaHE-i2",
    "scrolled": true
   },
   "outputs": [],
   "source": [
    "train = df_dict[\"data\"][df_dict[\"data\"][\"test\"] == 0].drop(\"test\",axis=1)\n",
    "test = df_dict[\"data\"][df_dict[\"data\"][\"test\"] == 1].drop(\"test\",axis=1)\n",
    "# \"ProdTaken\"は予測対象とするため、別途target変数に格納する\n",
    "y    = train[\"ProdTaken\"]\n",
    "X    = train.drop(columns=['id', 'customer_info',\"ProdTaken\"], axis=1)\n",
    "test = test.drop(columns=['id', 'customer_info',\"ProdTaken\"], axis=1)"
   ]
  },
  {
   "cell_type": "markdown",
   "metadata": {},
   "source": [
    "## Turning"
   ]
  },
  {
   "cell_type": "code",
   "execution_count": 30,
   "metadata": {
    "colab": {
     "base_uri": "https://localhost:8080/"
    },
    "id": "_bzxHnSnE-i3",
    "outputId": "d1d44d3c-1cbc-418a-b067-a73f94e6e562",
    "scrolled": true
   },
   "outputs": [],
   "source": [
    "import src.classification_models as models\n",
    "lgb_class = models.Classification_models(NUM_CLASS = 2, random_seed = 0, isOversampling = False, categorical_columns = list_cols)\n",
    "xgb_class = models.Classification_models(NUM_CLASS = 2, random_seed = 0, isOversampling = False, categorical_columns = list_cols)\n",
    "cat_class = models.Classification_models(NUM_CLASS = 2, random_seed = 0, isOversampling = False, categorical_columns = list_cols)\n",
    "if isTune:\n",
    "    lgb_class.lgb_tune(X, y)\n",
    "    xgb_class.xgb_tune(X, y)\n",
    "    cat_class.cat_tune(X, y)"
   ]
  },
  {
   "cell_type": "markdown",
   "metadata": {},
   "source": [
    "## running test"
   ]
  },
  {
   "cell_type": "markdown",
   "metadata": {},
   "source": [
    "## Stacking lightGBM"
   ]
  },
  {
   "cell_type": "code",
   "execution_count": 31,
   "metadata": {
    "scrolled": true
   },
   "outputs": [
    {
     "name": "stdout",
     "output_type": "stream",
     "text": [
      "146\n",
      "[CV] 1/5\n",
      "Fold 1 AUC: 0.851128762541806\n",
      "[CV] 2/5\n"
     ]
    },
    {
     "ename": "KeyboardInterrupt",
     "evalue": "",
     "output_type": "error",
     "traceback": [
      "\u001b[1;31m---------------------------------------------------------------------------\u001b[0m",
      "\u001b[1;31mKeyboardInterrupt\u001b[0m                         Traceback (most recent call last)",
      "Cell \u001b[1;32mIn[31], line 22\u001b[0m\n\u001b[0;32m     20\u001b[0m         Rc\u001b[38;5;241m.\u001b[39maddResult(\u001b[38;5;124m\"\u001b[39m\u001b[38;5;124mlightGBM\u001b[39m\u001b[38;5;124m\"\u001b[39m,  feature_selection, under_sampling, PCAd, columns, N_SPLITS, i, score, oof_valid, oof_test)\n\u001b[0;32m     21\u001b[0m StackingLightGBM(X,         y, test    , N_SPLITS \u001b[38;5;241m=\u001b[39m \u001b[38;5;241m3\u001b[39m, MAX_NUM \u001b[38;5;241m=\u001b[39m \u001b[38;5;241m100\u001b[39m, feature_selection\u001b[38;5;241m=\u001b[39m\u001b[38;5;28;01mFalse\u001b[39;00m, under_sampling \u001b[38;5;241m=\u001b[39m \u001b[38;5;28;01mFalse\u001b[39;00m, PCAd \u001b[38;5;241m=\u001b[39m \u001b[38;5;28;01mFalse\u001b[39;00m)\n\u001b[1;32m---> 22\u001b[0m \u001b[43mStackingLightGBM\u001b[49m\u001b[43m(\u001b[49m\u001b[43mX\u001b[49m\u001b[43m,\u001b[49m\u001b[43m         \u001b[49m\u001b[43my\u001b[49m\u001b[43m,\u001b[49m\u001b[43m \u001b[49m\u001b[43mtest\u001b[49m\u001b[43m    \u001b[49m\u001b[43m,\u001b[49m\u001b[43m \u001b[49m\u001b[43mN_SPLITS\u001b[49m\u001b[43m \u001b[49m\u001b[38;5;241;43m=\u001b[39;49m\u001b[43m \u001b[49m\u001b[38;5;241;43m5\u001b[39;49m\u001b[43m,\u001b[49m\u001b[43m \u001b[49m\u001b[43mMAX_NUM\u001b[49m\u001b[43m \u001b[49m\u001b[38;5;241;43m=\u001b[39;49m\u001b[43m \u001b[49m\u001b[38;5;241;43m100\u001b[39;49m\u001b[43m,\u001b[49m\u001b[43m \u001b[49m\u001b[43mfeature_selection\u001b[49m\u001b[38;5;241;43m=\u001b[39;49m\u001b[38;5;28;43;01mFalse\u001b[39;49;00m\u001b[43m,\u001b[49m\u001b[43m \u001b[49m\u001b[43munder_sampling\u001b[49m\u001b[43m \u001b[49m\u001b[38;5;241;43m=\u001b[39;49m\u001b[43m \u001b[49m\u001b[38;5;28;43;01mFalse\u001b[39;49;00m\u001b[43m,\u001b[49m\u001b[43m \u001b[49m\u001b[43mPCAd\u001b[49m\u001b[43m \u001b[49m\u001b[38;5;241;43m=\u001b[39;49m\u001b[43m \u001b[49m\u001b[38;5;28;43;01mFalse\u001b[39;49;00m\u001b[43m)\u001b[49m\n",
      "Cell \u001b[1;32mIn[31], line 17\u001b[0m, in \u001b[0;36mStackingLightGBM\u001b[1;34m(X, y, test, N_SPLITS, MAX_NUM, feature_selection, under_sampling, PCAd)\u001b[0m\n\u001b[0;32m      8\u001b[0m \u001b[38;5;28;01mfor\u001b[39;00m i \u001b[38;5;129;01min\u001b[39;00m tqdm(\u001b[38;5;28mrange\u001b[39m(MAX_NUM)):\n\u001b[0;32m      9\u001b[0m     lgb_stacking \u001b[38;5;241m=\u001b[39m stacking\u001b[38;5;241m.\u001b[39mStacking(lgb_class\u001b[38;5;241m.\u001b[39mlgb_train,\n\u001b[0;32m     10\u001b[0m                                      lgb_class\u001b[38;5;241m.\u001b[39mlgb_pred,\n\u001b[0;32m     11\u001b[0m                                      N_SPLITS \u001b[38;5;241m=\u001b[39m N_SPLITS,\n\u001b[1;32m   (...)\u001b[0m\n\u001b[0;32m     15\u001b[0m                                      model_name \u001b[38;5;241m=\u001b[39m \u001b[38;5;124m\"\u001b[39m\u001b[38;5;124mlgb\u001b[39m\u001b[38;5;124m\"\u001b[39m,\n\u001b[0;32m     16\u001b[0m                                      random_seed \u001b[38;5;241m=\u001b[39m i)\n\u001b[1;32m---> 17\u001b[0m     oof_valid, oof_test \u001b[38;5;241m=\u001b[39m \u001b[43mlgb_stacking\u001b[49m\u001b[38;5;241;43m.\u001b[39;49m\u001b[43mclassification\u001b[49m\u001b[43m(\u001b[49m\u001b[43mX\u001b[49m\u001b[43m,\u001b[49m\u001b[43m \u001b[49m\u001b[43my\u001b[49m\u001b[43m,\u001b[49m\u001b[43m \u001b[49m\u001b[43mtest\u001b[49m\u001b[43m)\u001b[49m\n\u001b[0;32m     18\u001b[0m     score \u001b[38;5;241m=\u001b[39m roc_auc_score(y, oof_valid)\n\u001b[0;32m     19\u001b[0m     clear_output(\u001b[38;5;28;01mTrue\u001b[39;00m)\n",
      "File \u001b[1;32m~\\Desktop\\compatition\\Signate\\2024_signatecup\\src\\stacking.py:127\u001b[0m, in \u001b[0;36mStacking.classification\u001b[1;34m(self, X_train, y_train, X_test)\u001b[0m\n\u001b[0;32m    124\u001b[0m y_train_, y_valid_ \u001b[38;5;241m=\u001b[39m y_train\u001b[38;5;241m.\u001b[39miloc[train_index], y_train\u001b[38;5;241m.\u001b[39miloc[valid_index]\n\u001b[0;32m    126\u001b[0m \u001b[38;5;66;03m# モデルの訓練\u001b[39;00m\n\u001b[1;32m--> 127\u001b[0m model \u001b[38;5;241m=\u001b[39m \u001b[38;5;28;43mself\u001b[39;49m\u001b[38;5;241;43m.\u001b[39;49m\u001b[43mtrain_func\u001b[49m\u001b[43m(\u001b[49m\u001b[43mX_train_\u001b[49m\u001b[43m,\u001b[49m\u001b[43m \u001b[49m\u001b[43mX_valid_\u001b[49m\u001b[43m,\u001b[49m\u001b[43m \u001b[49m\u001b[43my_train_\u001b[49m\u001b[43m,\u001b[49m\u001b[43m \u001b[49m\u001b[43my_valid_\u001b[49m\u001b[43m)\u001b[49m\n\u001b[0;32m    129\u001b[0m \u001b[38;5;66;03m# モデルを保存\u001b[39;00m\n\u001b[0;32m    130\u001b[0m \u001b[38;5;28;01mif\u001b[39;00m \u001b[38;5;28mself\u001b[39m\u001b[38;5;241m.\u001b[39misSave:\n",
      "File \u001b[1;32m~\\Desktop\\compatition\\Signate\\2024_signatecup\\src\\classification_models.py:109\u001b[0m, in \u001b[0;36mClassification_models.lgb_train\u001b[1;34m(self, X_train, X_valid, y_train, y_valid)\u001b[0m\n\u001b[0;32m     95\u001b[0m \tparams \u001b[38;5;241m=\u001b[39m json\u001b[38;5;241m.\u001b[39mload(f)\n\u001b[0;32m     97\u001b[0m params\u001b[38;5;241m.\u001b[39mupdate(task \u001b[38;5;241m=\u001b[39m \u001b[38;5;124m'\u001b[39m\u001b[38;5;124mtrain\u001b[39m\u001b[38;5;124m'\u001b[39m,\n\u001b[0;32m     98\u001b[0m               boosting_type \u001b[38;5;241m=\u001b[39m\u001b[38;5;124m'\u001b[39m\u001b[38;5;124mgbdt\u001b[39m\u001b[38;5;124m'\u001b[39m,\n\u001b[0;32m     99\u001b[0m               objective \u001b[38;5;241m=\u001b[39m \u001b[38;5;124m'\u001b[39m\u001b[38;5;124mbinary\u001b[39m\u001b[38;5;124m'\u001b[39m,\n\u001b[1;32m   (...)\u001b[0m\n\u001b[0;32m    106\u001b[0m               verbosity \u001b[38;5;241m=\u001b[39m \u001b[38;5;241m-\u001b[39m\u001b[38;5;241m1\u001b[39m,  \u001b[38;5;66;03m# ログレベルを抑制\u001b[39;00m\n\u001b[0;32m    107\u001b[0m              )\n\u001b[1;32m--> 109\u001b[0m \u001b[38;5;28mself\u001b[39m\u001b[38;5;241m.\u001b[39mmodel \u001b[38;5;241m=\u001b[39m \u001b[43mlgb\u001b[49m\u001b[38;5;241;43m.\u001b[39;49m\u001b[43mtrain\u001b[49m\u001b[43m(\u001b[49m\u001b[43mparams\u001b[49m\u001b[43m,\u001b[49m\u001b[43m \u001b[49m\n\u001b[0;32m    110\u001b[0m \u001b[43m            \u001b[49m\u001b[43mlgb_train\u001b[49m\u001b[43m,\u001b[49m\u001b[43m \u001b[49m\n\u001b[0;32m    111\u001b[0m \u001b[43m            \u001b[49m\u001b[43mvalid_sets\u001b[49m\u001b[38;5;241;43m=\u001b[39;49m\u001b[43mlgb_eval\u001b[49m\u001b[43m,\u001b[49m\n\u001b[0;32m    112\u001b[0m \u001b[43m               \u001b[49m\u001b[43m)\u001b[49m\n\u001b[0;32m    114\u001b[0m \u001b[38;5;28;01mreturn\u001b[39;00m \u001b[38;5;28mself\u001b[39m\u001b[38;5;241m.\u001b[39mmodel\n",
      "File \u001b[1;32m~\\AppData\\Local\\Programs\\Python\\Python311\\Lib\\site-packages\\lightgbm\\engine.py:282\u001b[0m, in \u001b[0;36mtrain\u001b[1;34m(params, train_set, num_boost_round, valid_sets, valid_names, feval, init_model, feature_name, categorical_feature, keep_training_booster, callbacks)\u001b[0m\n\u001b[0;32m    280\u001b[0m \u001b[38;5;66;03m# construct booster\u001b[39;00m\n\u001b[0;32m    281\u001b[0m \u001b[38;5;28;01mtry\u001b[39;00m:\n\u001b[1;32m--> 282\u001b[0m     booster \u001b[38;5;241m=\u001b[39m \u001b[43mBooster\u001b[49m\u001b[43m(\u001b[49m\u001b[43mparams\u001b[49m\u001b[38;5;241;43m=\u001b[39;49m\u001b[43mparams\u001b[49m\u001b[43m,\u001b[49m\u001b[43m \u001b[49m\u001b[43mtrain_set\u001b[49m\u001b[38;5;241;43m=\u001b[39;49m\u001b[43mtrain_set\u001b[49m\u001b[43m)\u001b[49m\n\u001b[0;32m    283\u001b[0m     \u001b[38;5;28;01mif\u001b[39;00m is_valid_contain_train:\n\u001b[0;32m    284\u001b[0m         booster\u001b[38;5;241m.\u001b[39mset_train_data_name(train_data_name)\n",
      "File \u001b[1;32m~\\AppData\\Local\\Programs\\Python\\Python311\\Lib\\site-packages\\lightgbm\\basic.py:3637\u001b[0m, in \u001b[0;36mBooster.__init__\u001b[1;34m(self, params, train_set, model_file, model_str)\u001b[0m\n\u001b[0;32m   3630\u001b[0m     \u001b[38;5;28mself\u001b[39m\u001b[38;5;241m.\u001b[39mset_network(\n\u001b[0;32m   3631\u001b[0m         machines\u001b[38;5;241m=\u001b[39mmachines,\n\u001b[0;32m   3632\u001b[0m         local_listen_port\u001b[38;5;241m=\u001b[39mparams[\u001b[38;5;124m\"\u001b[39m\u001b[38;5;124mlocal_listen_port\u001b[39m\u001b[38;5;124m\"\u001b[39m],\n\u001b[0;32m   3633\u001b[0m         listen_time_out\u001b[38;5;241m=\u001b[39mparams\u001b[38;5;241m.\u001b[39mget(\u001b[38;5;124m\"\u001b[39m\u001b[38;5;124mtime_out\u001b[39m\u001b[38;5;124m\"\u001b[39m, \u001b[38;5;241m120\u001b[39m),\n\u001b[0;32m   3634\u001b[0m         num_machines\u001b[38;5;241m=\u001b[39mparams[\u001b[38;5;124m\"\u001b[39m\u001b[38;5;124mnum_machines\u001b[39m\u001b[38;5;124m\"\u001b[39m],\n\u001b[0;32m   3635\u001b[0m     )\n\u001b[0;32m   3636\u001b[0m \u001b[38;5;66;03m# construct booster object\u001b[39;00m\n\u001b[1;32m-> 3637\u001b[0m \u001b[43mtrain_set\u001b[49m\u001b[38;5;241;43m.\u001b[39;49m\u001b[43mconstruct\u001b[49m\u001b[43m(\u001b[49m\u001b[43m)\u001b[49m\n\u001b[0;32m   3638\u001b[0m \u001b[38;5;66;03m# copy the parameters from train_set\u001b[39;00m\n\u001b[0;32m   3639\u001b[0m params\u001b[38;5;241m.\u001b[39mupdate(train_set\u001b[38;5;241m.\u001b[39mget_params())\n",
      "File \u001b[1;32m~\\AppData\\Local\\Programs\\Python\\Python311\\Lib\\site-packages\\lightgbm\\basic.py:2576\u001b[0m, in \u001b[0;36mDataset.construct\u001b[1;34m(self)\u001b[0m\n\u001b[0;32m   2571\u001b[0m             \u001b[38;5;28mself\u001b[39m\u001b[38;5;241m.\u001b[39m_set_init_score_by_predictor(\n\u001b[0;32m   2572\u001b[0m                 predictor\u001b[38;5;241m=\u001b[39m\u001b[38;5;28mself\u001b[39m\u001b[38;5;241m.\u001b[39m_predictor, data\u001b[38;5;241m=\u001b[39m\u001b[38;5;28mself\u001b[39m\u001b[38;5;241m.\u001b[39mdata, used_indices\u001b[38;5;241m=\u001b[39mused_indices\n\u001b[0;32m   2573\u001b[0m             )\n\u001b[0;32m   2574\u001b[0m \u001b[38;5;28;01melse\u001b[39;00m:\n\u001b[0;32m   2575\u001b[0m     \u001b[38;5;66;03m# create train\u001b[39;00m\n\u001b[1;32m-> 2576\u001b[0m     \u001b[38;5;28;43mself\u001b[39;49m\u001b[38;5;241;43m.\u001b[39;49m\u001b[43m_lazy_init\u001b[49m\u001b[43m(\u001b[49m\n\u001b[0;32m   2577\u001b[0m \u001b[43m        \u001b[49m\u001b[43mdata\u001b[49m\u001b[38;5;241;43m=\u001b[39;49m\u001b[38;5;28;43mself\u001b[39;49m\u001b[38;5;241;43m.\u001b[39;49m\u001b[43mdata\u001b[49m\u001b[43m,\u001b[49m\n\u001b[0;32m   2578\u001b[0m \u001b[43m        \u001b[49m\u001b[43mlabel\u001b[49m\u001b[38;5;241;43m=\u001b[39;49m\u001b[38;5;28;43mself\u001b[39;49m\u001b[38;5;241;43m.\u001b[39;49m\u001b[43mlabel\u001b[49m\u001b[43m,\u001b[49m\n\u001b[0;32m   2579\u001b[0m \u001b[43m        \u001b[49m\u001b[43mreference\u001b[49m\u001b[38;5;241;43m=\u001b[39;49m\u001b[38;5;28;43;01mNone\u001b[39;49;00m\u001b[43m,\u001b[49m\n\u001b[0;32m   2580\u001b[0m \u001b[43m        \u001b[49m\u001b[43mweight\u001b[49m\u001b[38;5;241;43m=\u001b[39;49m\u001b[38;5;28;43mself\u001b[39;49m\u001b[38;5;241;43m.\u001b[39;49m\u001b[43mweight\u001b[49m\u001b[43m,\u001b[49m\n\u001b[0;32m   2581\u001b[0m \u001b[43m        \u001b[49m\u001b[43mgroup\u001b[49m\u001b[38;5;241;43m=\u001b[39;49m\u001b[38;5;28;43mself\u001b[39;49m\u001b[38;5;241;43m.\u001b[39;49m\u001b[43mgroup\u001b[49m\u001b[43m,\u001b[49m\n\u001b[0;32m   2582\u001b[0m \u001b[43m        \u001b[49m\u001b[43minit_score\u001b[49m\u001b[38;5;241;43m=\u001b[39;49m\u001b[38;5;28;43mself\u001b[39;49m\u001b[38;5;241;43m.\u001b[39;49m\u001b[43minit_score\u001b[49m\u001b[43m,\u001b[49m\n\u001b[0;32m   2583\u001b[0m \u001b[43m        \u001b[49m\u001b[43mpredictor\u001b[49m\u001b[38;5;241;43m=\u001b[39;49m\u001b[38;5;28;43mself\u001b[39;49m\u001b[38;5;241;43m.\u001b[39;49m\u001b[43m_predictor\u001b[49m\u001b[43m,\u001b[49m\n\u001b[0;32m   2584\u001b[0m \u001b[43m        \u001b[49m\u001b[43mfeature_name\u001b[49m\u001b[38;5;241;43m=\u001b[39;49m\u001b[38;5;28;43mself\u001b[39;49m\u001b[38;5;241;43m.\u001b[39;49m\u001b[43mfeature_name\u001b[49m\u001b[43m,\u001b[49m\n\u001b[0;32m   2585\u001b[0m \u001b[43m        \u001b[49m\u001b[43mcategorical_feature\u001b[49m\u001b[38;5;241;43m=\u001b[39;49m\u001b[38;5;28;43mself\u001b[39;49m\u001b[38;5;241;43m.\u001b[39;49m\u001b[43mcategorical_feature\u001b[49m\u001b[43m,\u001b[49m\n\u001b[0;32m   2586\u001b[0m \u001b[43m        \u001b[49m\u001b[43mparams\u001b[49m\u001b[38;5;241;43m=\u001b[39;49m\u001b[38;5;28;43mself\u001b[39;49m\u001b[38;5;241;43m.\u001b[39;49m\u001b[43mparams\u001b[49m\u001b[43m,\u001b[49m\n\u001b[0;32m   2587\u001b[0m \u001b[43m        \u001b[49m\u001b[43mposition\u001b[49m\u001b[38;5;241;43m=\u001b[39;49m\u001b[38;5;28;43mself\u001b[39;49m\u001b[38;5;241;43m.\u001b[39;49m\u001b[43mposition\u001b[49m\u001b[43m,\u001b[49m\n\u001b[0;32m   2588\u001b[0m \u001b[43m    \u001b[49m\u001b[43m)\u001b[49m\n\u001b[0;32m   2589\u001b[0m \u001b[38;5;28;01mif\u001b[39;00m \u001b[38;5;28mself\u001b[39m\u001b[38;5;241m.\u001b[39mfree_raw_data:\n\u001b[0;32m   2590\u001b[0m     \u001b[38;5;28mself\u001b[39m\u001b[38;5;241m.\u001b[39mdata \u001b[38;5;241m=\u001b[39m \u001b[38;5;28;01mNone\u001b[39;00m\n",
      "File \u001b[1;32m~\\AppData\\Local\\Programs\\Python\\Python311\\Lib\\site-packages\\lightgbm\\basic.py:2168\u001b[0m, in \u001b[0;36mDataset._lazy_init\u001b[1;34m(self, data, label, reference, weight, group, init_score, predictor, feature_name, categorical_feature, params, position)\u001b[0m\n\u001b[0;32m   2166\u001b[0m     \u001b[38;5;28mself\u001b[39m\u001b[38;5;241m.\u001b[39m__init_from_csc(data, params_str, ref_dataset)\n\u001b[0;32m   2167\u001b[0m \u001b[38;5;28;01melif\u001b[39;00m \u001b[38;5;28misinstance\u001b[39m(data, np\u001b[38;5;241m.\u001b[39mndarray):\n\u001b[1;32m-> 2168\u001b[0m     \u001b[38;5;28;43mself\u001b[39;49m\u001b[38;5;241;43m.\u001b[39;49m\u001b[43m__init_from_np2d\u001b[49m\u001b[43m(\u001b[49m\u001b[43mdata\u001b[49m\u001b[43m,\u001b[49m\u001b[43m \u001b[49m\u001b[43mparams_str\u001b[49m\u001b[43m,\u001b[49m\u001b[43m \u001b[49m\u001b[43mref_dataset\u001b[49m\u001b[43m)\u001b[49m\n\u001b[0;32m   2169\u001b[0m \u001b[38;5;28;01melif\u001b[39;00m _is_pyarrow_table(data):\n\u001b[0;32m   2170\u001b[0m     \u001b[38;5;28mself\u001b[39m\u001b[38;5;241m.\u001b[39m__init_from_pyarrow_table(data, params_str, ref_dataset)\n",
      "File \u001b[1;32m~\\AppData\\Local\\Programs\\Python\\Python311\\Lib\\site-packages\\lightgbm\\basic.py:2304\u001b[0m, in \u001b[0;36mDataset.__init_from_np2d\u001b[1;34m(self, mat, params_str, ref_dataset)\u001b[0m\n\u001b[0;32m   2300\u001b[0m     data \u001b[38;5;241m=\u001b[39m np\u001b[38;5;241m.\u001b[39masarray(mat\u001b[38;5;241m.\u001b[39mreshape(mat\u001b[38;5;241m.\u001b[39msize), dtype\u001b[38;5;241m=\u001b[39mnp\u001b[38;5;241m.\u001b[39mfloat32)\n\u001b[0;32m   2302\u001b[0m ptr_data, type_ptr_data, _ \u001b[38;5;241m=\u001b[39m _c_float_array(data)\n\u001b[0;32m   2303\u001b[0m _safe_call(\n\u001b[1;32m-> 2304\u001b[0m     \u001b[43m_LIB\u001b[49m\u001b[38;5;241;43m.\u001b[39;49m\u001b[43mLGBM_DatasetCreateFromMat\u001b[49m\u001b[43m(\u001b[49m\n\u001b[0;32m   2305\u001b[0m \u001b[43m        \u001b[49m\u001b[43mptr_data\u001b[49m\u001b[43m,\u001b[49m\n\u001b[0;32m   2306\u001b[0m \u001b[43m        \u001b[49m\u001b[43mctypes\u001b[49m\u001b[38;5;241;43m.\u001b[39;49m\u001b[43mc_int\u001b[49m\u001b[43m(\u001b[49m\u001b[43mtype_ptr_data\u001b[49m\u001b[43m)\u001b[49m\u001b[43m,\u001b[49m\n\u001b[0;32m   2307\u001b[0m \u001b[43m        \u001b[49m\u001b[43mctypes\u001b[49m\u001b[38;5;241;43m.\u001b[39;49m\u001b[43mc_int32\u001b[49m\u001b[43m(\u001b[49m\u001b[43mmat\u001b[49m\u001b[38;5;241;43m.\u001b[39;49m\u001b[43mshape\u001b[49m\u001b[43m[\u001b[49m\u001b[38;5;241;43m0\u001b[39;49m\u001b[43m]\u001b[49m\u001b[43m)\u001b[49m\u001b[43m,\u001b[49m\n\u001b[0;32m   2308\u001b[0m \u001b[43m        \u001b[49m\u001b[43mctypes\u001b[49m\u001b[38;5;241;43m.\u001b[39;49m\u001b[43mc_int32\u001b[49m\u001b[43m(\u001b[49m\u001b[43mmat\u001b[49m\u001b[38;5;241;43m.\u001b[39;49m\u001b[43mshape\u001b[49m\u001b[43m[\u001b[49m\u001b[38;5;241;43m1\u001b[39;49m\u001b[43m]\u001b[49m\u001b[43m)\u001b[49m\u001b[43m,\u001b[49m\n\u001b[0;32m   2309\u001b[0m \u001b[43m        \u001b[49m\u001b[43mctypes\u001b[49m\u001b[38;5;241;43m.\u001b[39;49m\u001b[43mc_int\u001b[49m\u001b[43m(\u001b[49m\u001b[43m_C_API_IS_ROW_MAJOR\u001b[49m\u001b[43m)\u001b[49m\u001b[43m,\u001b[49m\n\u001b[0;32m   2310\u001b[0m \u001b[43m        \u001b[49m\u001b[43m_c_str\u001b[49m\u001b[43m(\u001b[49m\u001b[43mparams_str\u001b[49m\u001b[43m)\u001b[49m\u001b[43m,\u001b[49m\n\u001b[0;32m   2311\u001b[0m \u001b[43m        \u001b[49m\u001b[43mref_dataset\u001b[49m\u001b[43m,\u001b[49m\n\u001b[0;32m   2312\u001b[0m \u001b[43m        \u001b[49m\u001b[43mctypes\u001b[49m\u001b[38;5;241;43m.\u001b[39;49m\u001b[43mbyref\u001b[49m\u001b[43m(\u001b[49m\u001b[38;5;28;43mself\u001b[39;49m\u001b[38;5;241;43m.\u001b[39;49m\u001b[43m_handle\u001b[49m\u001b[43m)\u001b[49m\u001b[43m,\u001b[49m\n\u001b[0;32m   2313\u001b[0m \u001b[43m    \u001b[49m\u001b[43m)\u001b[49m\n\u001b[0;32m   2314\u001b[0m )\n\u001b[0;32m   2315\u001b[0m \u001b[38;5;28;01mreturn\u001b[39;00m \u001b[38;5;28mself\u001b[39m\n",
      "\u001b[1;31mKeyboardInterrupt\u001b[0m: "
     ]
    }
   ],
   "source": [
    "def StackingLightGBM(X, y, test, N_SPLITS = 3, MAX_NUM = 100, feature_selection= False, under_sampling = False, PCAd = False):\n",
    "    if PCAd:\n",
    "        columns = []\n",
    "        X = pd.DataFrame(X)\n",
    "        test = pd.DataFrame(test)\n",
    "    else:\n",
    "        columns = X.columns.tolist()\n",
    "    for i in tqdm(range(MAX_NUM)):\n",
    "        lgb_stacking = stacking.Stacking(lgb_class.lgb_train,\n",
    "                                         lgb_class.lgb_pred,\n",
    "                                         N_SPLITS = N_SPLITS,\n",
    "                                         NUM_CLASSES = 2,\n",
    "                                         isSave = False,\n",
    "                                         save_dir = \"model\",\n",
    "                                         model_name = \"lgb\",\n",
    "                                         random_seed = i)\n",
    "        oof_valid, oof_test = lgb_stacking.classification(X, y, test)\n",
    "        score = roc_auc_score(y, oof_valid)\n",
    "        clear_output(True)\n",
    "        Rc.addResult(\"lightGBM\",  feature_selection, under_sampling, PCAd, columns, N_SPLITS, i, score, oof_valid, oof_test)\n",
    "StackingLightGBM(X,         y, test    , N_SPLITS = 3, MAX_NUM = 100, feature_selection=False, under_sampling = False, PCAd = False)\n",
    "StackingLightGBM(X,         y, test    , N_SPLITS = 5, MAX_NUM = 100, feature_selection=False, under_sampling = False, PCAd = False)"
   ]
  },
  {
   "cell_type": "markdown",
   "metadata": {},
   "source": [
    "## Stacking XGBoost"
   ]
  },
  {
   "cell_type": "code",
   "execution_count": null,
   "metadata": {},
   "outputs": [],
   "source": [
    "def StackingXGBoost(X, y, test, N_SPLITS = 3, MAX_NUM = 100, feature_selection= False, under_sampling = False, PCAd = False):\n",
    "    if PCAd:\n",
    "        columns = []\n",
    "        X = pd.DataFrame(X)\n",
    "        test = pd.DataFrame(test)\n",
    "    else:\n",
    "        columns = X.columns.tolist()\n",
    "    for i in tqdm(range(MAX_NUM)):\n",
    "        xgb_stacking = stacking.Stacking(xgb_class.xgb_train,\n",
    "                                         xgb_class.xgb_pred,\n",
    "                                         N_SPLITS = N_SPLITS,\n",
    "                                         NUM_CLASSES = 2,\n",
    "                                         isSave = True,\n",
    "                                         save_dir = \"model\",\n",
    "                                         model_name = \"xgb\",\n",
    "                                         random_seed = i)\n",
    "        oof_valid, oof_test = xgb_stacking.classification(X, y, test)\n",
    "\n",
    "        score = roc_auc_score(y, oof_valid)\n",
    "        clear_output(True)\n",
    "        Rc.addResult(\"XGBoost\",  feature_selection, under_sampling, PCAd, columns, N_SPLITS, i, score, oof_valid, oof_test)\n",
    "StackingXGBoost(X,         y, test    , N_SPLITS = 3, MAX_NUM = 100, feature_selection=False, under_sampling = False, PCAd = False)\n",
    "StackingXGBoost(X,         y, test    , N_SPLITS = 5, MAX_NUM = 100, feature_selection=False, under_sampling = False, PCAd = False)"
   ]
  },
  {
   "cell_type": "markdown",
   "metadata": {},
   "source": [
    "## Stacking Catboost"
   ]
  },
  {
   "cell_type": "code",
   "execution_count": null,
   "metadata": {},
   "outputs": [],
   "source": [
    "def StackingCatBoost(X, y, test, N_SPLITS = 3, MAX_NUM = 100, feature_selection= False, under_sampling = False, PCAd = False):\n",
    "    if PCAd:\n",
    "        columns = []\n",
    "        X = pd.DataFrame(X)\n",
    "        test = pd.DataFrame(test)\n",
    "    else:\n",
    "        columns = X.columns.tolist()\n",
    "    for i in tqdm(range(MAX_NUM)):\n",
    "        cat_stacking = stacking.Stacking(cat_class.cat_train,\n",
    "                                         cat_class.cat_pred,\n",
    "                                         N_SPLITS = N_SPLITS,\n",
    "                                         NUM_CLASSES = 2,\n",
    "                                         isSave = True,\n",
    "                                         save_dir = \"model\",\n",
    "                                         model_name = \"cat\",\n",
    "                                         random_seed = i)\n",
    "        oof_valid, oof_test = cat_stacking.classification(X, y, test)\n",
    "\n",
    "        score = roc_auc_score(y, oof_valid)\n",
    "        clear_output(True)\n",
    "        Rc.addResult(\"CatBoost\",  feature_selection, under_sampling, PCAd, columns, N_SPLITS, i, score, oof_valid, oof_test)\n",
    "\n",
    "StackingCatBoost(X,         y, test    , N_SPLITS = 3, MAX_NUM = 100, feature_selection=False, under_sampling = False, PCAd = False)\n",
    "StackingCatBoost(X,         y, test    , N_SPLITS = 5, MAX_NUM = 100, feature_selection=False, under_sampling = False, PCAd = False)"
   ]
  },
  {
   "cell_type": "markdown",
   "metadata": {},
   "source": [
    "# Stacking Tabpfn"
   ]
  },
  {
   "cell_type": "code",
   "execution_count": null,
   "metadata": {
    "scrolled": true
   },
   "outputs": [],
   "source": [
    "import src.classification_tabpfn as tabpfn\n",
    "def StackingTabpfn(X, y, test, N_SPLITS = 3, MAX_NUM = 100, feature_selection= False, under_sampling = False, PCAd = False):\n",
    "    for i in range(MAX_NUM):\n",
    "        tabpfn_stacking = tabpfn.CustomStacking(N_SPLITS = N_SPLITS,\n",
    "                                             N_ensemble_configurations = 32,\n",
    "                                         isSave = False,\n",
    "                                         save_dir = \"model\",\n",
    "                                         random_seed = i)\n",
    "        oof_valid_tabpfn, oof_test_tabpfn = tabpfn_stacking.classification(X, y, test)\n",
    "        clear_output(True)\n",
    "        \n",
    "        score = roc_auc_score(y, oof_valid_tabpfn)\n",
    "        clear_output(True)\n",
    "        Rc.addResult(\"tabpfn\",  False, False, False, X.columns.tolist(), N_SPLITS, i, score, oof_valid_tabpfn, oof_test_tabpfn)\n",
    "        print(score)\n",
    "StackingTabpfn(X,         y, test    , N_SPLITS = 5, MAX_NUM = 100, feature_selection=False, under_sampling = False, PCAd = False)\n",
    "StackingTabpfn(X,         y, test    , N_SPLITS = 10, MAX_NUM = 100, feature_selection=False, under_sampling = False, PCAd = False)"
   ]
  },
  {
   "cell_type": "markdown",
   "metadata": {},
   "source": [
    "# 評価"
   ]
  },
  {
   "cell_type": "code",
   "execution_count": null,
   "metadata": {},
   "outputs": [],
   "source": [
    "from sklearn.metrics import roc_curve\n",
    "\n",
    "plt.plot([0, 1], [0, 1], 'k--')\n",
    "for oof in Rc.RESULT.oof_valid:\n",
    "    fpr, tpr, thresholds = roc_curve(y, oof)\n",
    "    plt.plot(fpr,tpr,label='LogisticRegression')\n",
    "plt.xlabel('False Positive Rate')\n",
    "plt.ylabel('True Positive Rate')\n",
    "plt.title('ROC Curve')\n",
    "plt.show()"
   ]
  },
  {
   "cell_type": "code",
   "execution_count": null,
   "metadata": {},
   "outputs": [],
   "source": [
    "for model_name in [\"lightGBM\",\"XGBoost\",\"CatBoost\",\"tabpfn\"]:\n",
    "    tmp = Rc.RESULT[Rc.RESULT.model_name == model_name]\n",
    "    tmp = tmp[tmp[\"score\"] > 0.83]\n",
    "    #tmp = tmp[tmp[\"PCA(d)\"] == 0]\n",
    "    score = roc_auc_score(y, tmp.oof_valid.mean())\n",
    "\n",
    "    print(model_name, score)"
   ]
  },
  {
   "cell_type": "code",
   "execution_count": null,
   "metadata": {},
   "outputs": [],
   "source": [
    "tmp = Rc.RESULT.copy()\n",
    "tmp = tmp[tmp[\"score\"] > 0.83]\n",
    "score = roc_auc_score(y, tmp.oof_valid.mean())\n",
    "print(\"merge\", score)"
   ]
  },
  {
   "cell_type": "code",
   "execution_count": null,
   "metadata": {},
   "outputs": [],
   "source": [
    "oof_test_merge = tmp.oof_test.mean()"
   ]
  },
  {
   "cell_type": "code",
   "execution_count": null,
   "metadata": {},
   "outputs": [],
   "source": [
    "make_submitfile(submit_date = \"0831\",filename = f\"submission_merge\", version = \"01\", data = oof_test_merge)"
   ]
  },
  {
   "cell_type": "code",
   "execution_count": null,
   "metadata": {},
   "outputs": [],
   "source": []
  },
  {
   "cell_type": "markdown",
   "metadata": {},
   "source": [
    "## stacking"
   ]
  },
  {
   "cell_type": "code",
   "execution_count": null,
   "metadata": {},
   "outputs": [],
   "source": [
    " tmp.reset_index().oof_valid.values[i]"
   ]
  },
  {
   "cell_type": "code",
   "execution_count": null,
   "metadata": {
    "scrolled": true
   },
   "outputs": [],
   "source": [
    "tmp = Rc.RESULT.copy()\n",
    "tmp = tmp[tmp[\"score\"] > 0.83]\n",
    "\n",
    "stack_train = pd.DataFrame()\n",
    "stack_test = pd.DataFrame()\n",
    "for i in range(len(tmp)):\n",
    "    stack_train[str(i).zfill(3)] = tmp.reset_index().oof_valid.iloc[i]\n",
    "    stack_test[str(i).zfill(3)] = tmp.reset_index().oof_test.iloc[i]"
   ]
  },
  {
   "cell_type": "code",
   "execution_count": null,
   "metadata": {},
   "outputs": [],
   "source": [
    "from sklearn.linear_model import LogisticRegression\n",
    "\n",
    "lr = LogisticRegression(random_state=42) # ロジスティック回帰モデルのインスタンスを作成\n",
    "lr.fit(stack_train, y) # ロジスティック回帰モデルの重みを学習"
   ]
  },
  {
   "cell_type": "code",
   "execution_count": null,
   "metadata": {},
   "outputs": [],
   "source": [
    "y_train_pred = lr.predict_proba(stack_train)[:,1]\n",
    "y_test_pred = lr.predict_proba(stack_test)[:,1]\n",
    "score = roc_auc_score(y, y_train_pred)\n",
    "print(score)"
   ]
  },
  {
   "cell_type": "code",
   "execution_count": null,
   "metadata": {},
   "outputs": [],
   "source": [
    "make_submitfile(submit_date = \"0831\",filename = f\"submission_stacking\", version = \"01\", data = y_test_pred)"
   ]
  },
  {
   "cell_type": "code",
   "execution_count": null,
   "metadata": {},
   "outputs": [],
   "source": [
    "from sklearn.metrics import roc_curve\n",
    "\n",
    "plt.plot([0, 1], [0, 1], 'k--')\n",
    "for oof in Rc.RESULT.oof_valid:\n",
    "    fpr, tpr, thresholds = roc_curve(y, oof)\n",
    "    plt.plot(fpr,tpr,label='LogisticRegression')\n",
    "fpr, tpr, thresholds = roc_curve(y, y_train_pred)\n",
    "plt.plot(fpr,tpr,label='LogisticRegression')\n",
    "plt.xlabel('False Positive Rate')\n",
    "plt.ylabel('True Positive Rate')\n",
    "plt.title('ROC Curve')\n",
    "plt.show()"
   ]
  },
  {
   "cell_type": "code",
   "execution_count": null,
   "metadata": {},
   "outputs": [],
   "source": []
  }
 ],
 "metadata": {
  "colab": {
   "provenance": []
  },
  "kernelspec": {
   "display_name": "Python 3 (ipykernel)",
   "language": "python",
   "name": "python3"
  },
  "language_info": {
   "codemirror_mode": {
    "name": "ipython",
    "version": 3
   },
   "file_extension": ".py",
   "mimetype": "text/x-python",
   "name": "python",
   "nbconvert_exporter": "python",
   "pygments_lexer": "ipython3",
   "version": "3.11.6"
  }
 },
 "nbformat": 4,
 "nbformat_minor": 4
}
