{
 "cells": [
  {
   "cell_type": "code",
   "execution_count": 7,
   "id": "2037e457-c561-4e28-9c24-f0c588ae713a",
   "metadata": {},
   "outputs": [],
   "source": [
    "import os\n",
    "import pandas as pd\n",
    "import numpy as np\n",
    "import matplotlib.pyplot as plt\n",
    "import seaborn as sns\n",
    "\n",
    "import random\n",
    "import torch\n",
    "import torch.nn as nn\n",
    "import torch.nn.functional as F\n",
    "from torch.utils.data import DataLoader, Dataset\n",
    "from transformers import AutoConfig\n",
    "from transformers import AutoTokenizer, Trainer, TrainingArguments\n",
    "from transformers import AutoModelForSequenceClassification, DataCollatorWithPadding\n",
    "from tokenizers import AddedToken\n",
    "from datasets import Dataset, features\n",
    "import category_encoders as ce\n",
    "\n",
    "from sklearn.model_selection import train_test_split\n",
    "from sklearn.metrics import accuracy_score, precision_recall_fscore_support, roc_auc_score\n",
    "from sklearn.model_selection import KFold, StratifiedKFold, train_test_split, GroupKFold"
   ]
  },
  {
   "cell_type": "code",
   "execution_count": 8,
   "id": "73999a04-0824-4845-8587-1ce3f685f211",
   "metadata": {},
   "outputs": [],
   "source": [
    "train = pd.read_csv(\"data/train.csv\")\n",
    "test = pd.read_csv(\"data/test.csv\")\n",
    "master = pd.read_csv(\"data/clothing_master.csv\")\n",
    "\n",
    "train = pd.merge(train,master, on = \"Clothing ID\",how = \"left\")\n",
    "test = pd.merge(test,master, on = \"Clothing ID\",how = \"left\")\n",
    "sample_submission = pd.read_csv(\"data/atmaCup17__sample_submission.csv\")"
   ]
  },
  {
   "cell_type": "code",
   "execution_count": 9,
   "id": "831f4873-7f9f-4163-bfe0-d42d40bd7e77",
   "metadata": {},
   "outputs": [],
   "source": [
    "# ====================================================\n",
    "# Configurations\n",
    "# ====================================================\n",
    "class CFG:\n",
    "    VER = 1\n",
    "    MODEL_PATH = \"microsoft/deberta-v3-large\"\n",
    "    MAX_LENGTH = 256\n",
    "    STEPS = 25\n",
    "    USE_GPU = torch.cuda.is_available()\n",
    "    SEED = 0\n",
    "    N_SPLIT = 3\n",
    "    target_col = 'Recommended IND'\n",
    "    target_col_class_num = 2\n",
    "    metric = 'auc'\n",
    "    metric_maximize_flag = True"
   ]
  },
  {
   "cell_type": "markdown",
   "id": "dd49af2c-b47e-4a3c-99f9-35b4cc70b01b",
   "metadata": {},
   "source": [
    "- Clothing ID: 衣服のID\n",
    "- Age: レビューをしている人の年齢\n",
    "- Title: レビューのタイトル\n",
    "- Review Text: レビューの本文\n",
    "- Rating: レビューでつけた点数。この列は学習用データでのみ提供されます。\n",
    "- Recommended IND: レビューした人が、この商品をおすすめするかどうか。今回のコンペではこの値が1になる確率を予測してください。学習用データでのみ提供されます。\n",
    "- Positive Feedback Count: 他のユーザーからつけられたイイネの数。"
   ]
  },
  {
   "cell_type": "code",
   "execution_count": 10,
   "id": "a22588e0-7573-4990-8d83-8fbfd4773553",
   "metadata": {},
   "outputs": [],
   "source": [
    "category = [\"Division Name\",\"Department Name\",\"Class Name\"]\n",
    "\n",
    "# OneHotEncodeしたい列を指定。Nullや不明の場合の補完方法も指定。\n",
    "ce_ohe = ce.OneHotEncoder(cols=category,handle_unknown='impute', use_cat_names=True)\n",
    "ce_ohe.fit(train[category])\n",
    "\n",
    "\n",
    "train_dummy = ce_ohe.transform(train[category])\n",
    "test_dummy = ce_ohe.transform(test[category])\n",
    "\n",
    "train = pd.concat([train, train_dummy],axis=1)\n",
    "test  = pd.concat([test, test_dummy],axis=1)"
   ]
  },
  {
   "cell_type": "code",
   "execution_count": 11,
   "id": "b91f7af8-ff0d-4af4-8fcd-40d00b048a74",
   "metadata": {},
   "outputs": [],
   "source": [
    "def preprocessing(df):\n",
    "    df['Title'] = df['Title'].fillna('')\n",
    "    df['Review Text'] = df['Review Text'].fillna('')\n",
    "    df['prompt'] = df['Title'] + ' ' + df['Review Text']\n",
    "    return df\n",
    "train_df = preprocessing(train)\n",
    "test_df = preprocessing(test)\n",
    "train_df['labels'] = train_df[\"Recommended IND\"].astype(np.int8)"
   ]
  },
  {
   "cell_type": "code",
   "execution_count": 12,
   "id": "6667567f-3adf-4886-8330-ad380dc5b977",
   "metadata": {},
   "outputs": [
    {
     "data": {
      "text/plain": [
       "Index(['Clothing ID', 'Age', 'Title', 'Review Text', 'Rating',\n",
       "       'Recommended IND', 'Positive Feedback Count', 'Division Name',\n",
       "       'Department Name', 'Class Name', 'Division Name_General',\n",
       "       'Division Name_Initmates', 'Division Name_General Petite',\n",
       "       'Department Name_Bottoms', 'Department Name_Tops',\n",
       "       'Department Name_Dresses', 'Department Name_Intimate',\n",
       "       'Department Name_Jackets', 'Department Name_Trend', 'Class Name_Skirts',\n",
       "       'Class Name_Pants', 'Class Name_Sweaters', 'Class Name_Dresses',\n",
       "       'Class Name_Blouses', 'Class Name_Swim', 'Class Name_Knits',\n",
       "       'Class Name_Fine gauge', 'Class Name_Outerwear', 'Class Name_Jeans',\n",
       "       'Class Name_Shorts', 'Class Name_Lounge', 'Class Name_Jackets',\n",
       "       'Class Name_Layering', 'Class Name_Trend', 'Class Name_Legwear',\n",
       "       'prompt', 'labels'],\n",
       "      dtype='object')"
      ]
     },
     "execution_count": 12,
     "metadata": {},
     "output_type": "execute_result"
    }
   ],
   "source": [
    "train_df.columns"
   ]
  },
  {
   "cell_type": "code",
   "execution_count": 13,
   "id": "e7f79ead-d53c-4c7d-8ade-4ba2d0909c18",
   "metadata": {},
   "outputs": [],
   "source": [
    "feature = ['Clothing ID', 'Age', 'Positive Feedback Count',\n",
    "             'Division Name_General', 'Division Name_Initmates', 'Division Name_General Petite',\n",
    "             'Department Name_Bottoms', 'Department Name_Tops', 'Department Name_Dresses', 'Department Name_Intimate', 'Department Name_Jackets', 'Department Name_Trend',\n",
    "             'Class Name_Skirts', 'Class Name_Pants', 'Class Name_Sweaters', 'Class Name_Dresses', 'Class Name_Blouses', 'Class Name_Swim', 'Class Name_Knits', 'Class Name_Fine gauge', 'Class Name_Outerwear', 'Class Name_Jeans', 'Class Name_Shorts', 'Class Name_Lounge', 'Class Name_Jackets', 'Class Name_Layering', 'Class Name_Trend', 'Class Name_Legwear']\n",
    "\n",
    "train_features = train_df[feature].values.tolist()\n",
    "test_features = test_df[feature].values.tolist()"
   ]
  },
  {
   "cell_type": "code",
   "execution_count": 14,
   "id": "8fb006f3-3dad-4580-a068-e292ad97146c",
   "metadata": {},
   "outputs": [],
   "source": [
    "from sklearn import preprocessing\n",
    "mm = preprocessing.MinMaxScaler()\n",
    "mm.fit(train_features)\n",
    "\n",
    "train_features = mm.transform(train_features)\n",
    "test_features = mm.transform(test_features)"
   ]
  },
  {
   "cell_type": "markdown",
   "id": "630f0fb7-d037-497c-8f2c-26ec55693cd8",
   "metadata": {},
   "source": [
    "# models"
   ]
  },
  {
   "cell_type": "code",
   "execution_count": 16,
   "id": "7d3dc476-7be8-40ec-bffa-e56d06f1c1b2",
   "metadata": {
    "scrolled": true
   },
   "outputs": [
    {
     "name": "stderr",
     "output_type": "stream",
     "text": [
      "C:\\Users\\ctiha\\Desktop\\atmacup\\atmaCup_env\\Lib\\site-packages\\transformers\\tokenization_utils_base.py:1601: FutureWarning: `clean_up_tokenization_spaces` was not set. It will be set to `True` by default. This behavior will be depracted in transformers v4.45, and will be then set to `False` by default. For more details check this issue: https://github.com/huggingface/transformers/issues/31884\n",
      "  warnings.warn(\n",
      "C:\\Users\\ctiha\\Desktop\\atmacup\\atmaCup_env\\Lib\\site-packages\\transformers\\convert_slow_tokenizer.py:551: UserWarning: The sentencepiece tokenizer that you are converting to a fast tokenizer uses the byte fallback option which is not implemented in the fast tokenizers. In practice this means that the fast version of the tokenizer can produce unknown tokens whereas the sentencepiece version would have converted these unknown tokens into a sequence of byte tokens matching the original piece of text.\n",
      "  warnings.warn(\n",
      "Some weights of DebertaV2ForSequenceClassification were not initialized from the model checkpoint at microsoft/deberta-v3-large and are newly initialized: ['classifier.bias', 'classifier.weight', 'pooler.dense.bias', 'pooler.dense.weight']\n",
      "You should probably TRAIN this model on a down-stream task to be able to use it for predictions and inference.\n",
      "Map: 100%|█████████████████████████████████████████████████████████████| 11155/11155 [00:03<00:00, 3540.52 examples/s]\n"
     ]
    }
   ],
   "source": [
    "from transformers import AutoTokenizer, AutoModelForMaskedLM\n",
    "model_name = \"microsoft/deberta-v3-large\"\n",
    "tokenizer = AutoTokenizer.from_pretrained(model_name)\n",
    "config = AutoConfig.from_pretrained(model_name)\n",
    "model = AutoModelForSequenceClassification.from_pretrained(model_name, config=config)\n",
    "\n",
    "def tokenize(sample):\n",
    "    return tokenizer(sample['prompt'], max_length=CFG.MAX_LENGTH, truncation=True)\n",
    "\n",
    "# metricをAUCに変更\n",
    "def compute_metrics(p):\n",
    "    preds, labels = p\n",
    "    preds = torch.softmax(torch.tensor(preds), dim = 1).numpy()\n",
    "    score = roc_auc_score(labels, preds[:, 1])\n",
    "    return {'auc': score}\n",
    "\n",
    "ds_test = Dataset.from_pandas(test_df[['prompt']].copy())\n",
    "ds_test = ds_test.map(tokenize).remove_columns(['prompt'])\n"
   ]
  },
  {
   "cell_type": "code",
   "execution_count": 9,
   "id": "86580815-9cdb-4525-a69f-f058de699a7b",
   "metadata": {},
   "outputs": [
    {
     "name": "stderr",
     "output_type": "stream",
     "text": [
      "C:\\Users\\ctiha\\Desktop\\atmacup\\atmaCup_env\\Lib\\site-packages\\transformers\\tokenization_utils_base.py:1601: FutureWarning: `clean_up_tokenization_spaces` was not set. It will be set to `True` by default. This behavior will be depracted in transformers v4.45, and will be then set to `False` by default. For more details check this issue: https://github.com/huggingface/transformers/issues/31884\n",
      "  warnings.warn(\n"
     ]
    },
    {
     "name": "stdout",
     "output_type": "stream",
     "text": [
      "Using device: cuda\n"
     ]
    }
   ],
   "source": [
    "# カスタム分類モデルの定義\n",
    "class DebertaWithAdditionalFeatures(nn.Module):\n",
    "    def __init__(self, deberta_model, num_additional_features):\n",
    "        super(DebertaWithAdditionalFeatures, self).__init__()\n",
    "        self.deberta = deberta_model\n",
    "        self.fc1 = nn.Linear(self.deberta.config.hidden_size + num_additional_features, 256)\n",
    "        self.fc2 = nn.Linear(256, 128)  # 二値分類のための出力層\n",
    "        self.fc3 = nn.Linear(128, 1)  # 二値分類のための出力層\n",
    "        self.relu = nn.ReLU()\n",
    "        self.sigmoid = nn.Sigmoid()  # 二値分類のためのシグモイド活性化関数\n",
    "\n",
    "    def forward(self, input_ids, attention_mask, additional_features):\n",
    "        # DeBERTaモデルの出力を取得\n",
    "        deberta_output = self.deberta(input_ids=input_ids, attention_mask=attention_mask)\n",
    "        pooled_output = deberta_output.last_hidden_state[:, 0, :]  # CLSトークンの埋め込み\n",
    "\n",
    "        # DeBERTaの出力と追加特徴量を結合\n",
    "        combined_input = torch.cat((pooled_output, additional_features), dim=1)\n",
    "\n",
    "        # 結合された特徴を全結合層に通す\n",
    "        x = self.relu(self.fc1(combined_input))\n",
    "        x = self.relu(self.fc2(x))\n",
    "        x = self.sigmoid(self.fc3(x))\n",
    "        return x\n",
    "\n",
    "# カスタムデータセットクラスの定義\n",
    "class CustomDataset(Dataset):\n",
    "    def __init__(self, texts, additional_features, labels):\n",
    "        self.encodings = tokenizer(texts, padding=True, truncation=True, max_length=128, return_tensors=\"pt\")\n",
    "        self.additional_features = additional_features\n",
    "        self.labels = labels\n",
    "\n",
    "    def __getitem__(self, idx):\n",
    "        item = {key: val[idx].clone().detach() for key, val in self.encodings.items()}\n",
    "        item['additional_features'] = torch.tensor(self.additional_features[idx], dtype=torch.float)\n",
    "        item['labels'] = torch.tensor(self.labels[idx], dtype=torch.float)\n",
    "        return item\n",
    "\n",
    "    def __len__(self):\n",
    "        return len(self.labels)\n",
    "\n",
    "\n",
    "# GPUが利用可能かを確認し、デバイスを設定\n",
    "device = torch.device(\"cuda\" if torch.cuda.is_available() else \"cpu\")\n",
    "print(f\"Using device: {device}\")"
   ]
  },
  {
   "cell_type": "code",
   "execution_count": 10,
   "id": "3776c16d-3661-4091-a950-9d74d207c3cf",
   "metadata": {
    "scrolled": true
   },
   "outputs": [
    {
     "name": "stderr",
     "output_type": "stream",
     "text": [
      "C:\\Users\\ctiha\\AppData\\Local\\Temp\\ipykernel_17984\\673803681.py:40: UserWarning: To copy construct from a tensor, it is recommended to use sourceTensor.clone().detach() or sourceTensor.clone().detach().requires_grad_(True), rather than torch.tensor(sourceTensor).\n",
      "  item = {key: torch.tensor(val[idx]) for key, val in self.encodings.items()}\n"
     ]
    },
    {
     "name": "stdout",
     "output_type": "stream",
     "text": [
      "Epoch 1, Loss: 0.33298417925834656\n",
      "Validation - Epoch 1: Accuracy: 0.8203, Precision: 0.8203, Recall: 1.0000, F1: 0.9013, AUC: 0.9470\n",
      "----------\n"
     ]
    },
    {
     "name": "stderr",
     "output_type": "stream",
     "text": [
      "C:\\Users\\ctiha\\AppData\\Local\\Temp\\ipykernel_17984\\673803681.py:40: UserWarning: To copy construct from a tensor, it is recommended to use sourceTensor.clone().detach() or sourceTensor.clone().detach().requires_grad_(True), rather than torch.tensor(sourceTensor).\n",
      "  item = {key: torch.tensor(val[idx]) for key, val in self.encodings.items()}\n"
     ]
    },
    {
     "name": "stdout",
     "output_type": "stream",
     "text": [
      "Epoch 2, Loss: 0.1613921821117401\n",
      "Validation - Epoch 2: Accuracy: 0.8203, Precision: 0.8203, Recall: 1.0000, F1: 0.9013, AUC: 0.9617\n",
      "----------\n"
     ]
    },
    {
     "name": "stderr",
     "output_type": "stream",
     "text": [
      "C:\\Users\\ctiha\\AppData\\Local\\Temp\\ipykernel_17984\\673803681.py:40: UserWarning: To copy construct from a tensor, it is recommended to use sourceTensor.clone().detach() or sourceTensor.clone().detach().requires_grad_(True), rather than torch.tensor(sourceTensor).\n",
      "  item = {key: torch.tensor(val[idx]) for key, val in self.encodings.items()}\n"
     ]
    },
    {
     "name": "stdout",
     "output_type": "stream",
     "text": [
      "Epoch 3, Loss: 0.21814171969890594\n",
      "Validation - Epoch 3: Accuracy: 0.8203, Precision: 0.8203, Recall: 1.0000, F1: 0.9013, AUC: 0.9634\n",
      "----------\n"
     ]
    },
    {
     "name": "stderr",
     "output_type": "stream",
     "text": [
      "C:\\Users\\ctiha\\AppData\\Local\\Temp\\ipykernel_17984\\673803681.py:40: UserWarning: To copy construct from a tensor, it is recommended to use sourceTensor.clone().detach() or sourceTensor.clone().detach().requires_grad_(True), rather than torch.tensor(sourceTensor).\n",
      "  item = {key: torch.tensor(val[idx]) for key, val in self.encodings.items()}\n"
     ]
    },
    {
     "name": "stdout",
     "output_type": "stream",
     "text": [
      "Epoch 4, Loss: 0.1617494523525238\n",
      "Validation - Epoch 4: Accuracy: 0.8203, Precision: 0.8203, Recall: 1.0000, F1: 0.9013, AUC: 0.9617\n",
      "----------\n"
     ]
    },
    {
     "name": "stderr",
     "output_type": "stream",
     "text": [
      "C:\\Users\\ctiha\\AppData\\Local\\Temp\\ipykernel_17984\\673803681.py:40: UserWarning: To copy construct from a tensor, it is recommended to use sourceTensor.clone().detach() or sourceTensor.clone().detach().requires_grad_(True), rather than torch.tensor(sourceTensor).\n",
      "  item = {key: torch.tensor(val[idx]) for key, val in self.encodings.items()}\n"
     ]
    },
    {
     "name": "stdout",
     "output_type": "stream",
     "text": [
      "Epoch 5, Loss: 0.20249541103839874\n",
      "Validation - Epoch 5: Accuracy: 0.8203, Precision: 0.8203, Recall: 1.0000, F1: 0.9013, AUC: 0.9576\n",
      "----------\n"
     ]
    },
    {
     "name": "stderr",
     "output_type": "stream",
     "text": [
      "C:\\Users\\ctiha\\AppData\\Local\\Temp\\ipykernel_17984\\673803681.py:40: UserWarning: To copy construct from a tensor, it is recommended to use sourceTensor.clone().detach() or sourceTensor.clone().detach().requires_grad_(True), rather than torch.tensor(sourceTensor).\n",
      "  item = {key: torch.tensor(val[idx]) for key, val in self.encodings.items()}\n"
     ]
    },
    {
     "name": "stdout",
     "output_type": "stream",
     "text": [
      "Epoch 6, Loss: 0.10493098199367523\n",
      "Validation - Epoch 6: Accuracy: 0.8203, Precision: 0.8203, Recall: 1.0000, F1: 0.9013, AUC: 0.9613\n",
      "----------\n"
     ]
    },
    {
     "name": "stderr",
     "output_type": "stream",
     "text": [
      "C:\\Users\\ctiha\\AppData\\Local\\Temp\\ipykernel_17984\\673803681.py:40: UserWarning: To copy construct from a tensor, it is recommended to use sourceTensor.clone().detach() or sourceTensor.clone().detach().requires_grad_(True), rather than torch.tensor(sourceTensor).\n",
      "  item = {key: torch.tensor(val[idx]) for key, val in self.encodings.items()}\n"
     ]
    },
    {
     "name": "stdout",
     "output_type": "stream",
     "text": [
      "Epoch 7, Loss: 0.058558616787195206\n",
      "Validation - Epoch 7: Accuracy: 0.8203, Precision: 0.8203, Recall: 1.0000, F1: 0.9013, AUC: 0.9584\n",
      "----------\n"
     ]
    },
    {
     "name": "stderr",
     "output_type": "stream",
     "text": [
      "C:\\Users\\ctiha\\AppData\\Local\\Temp\\ipykernel_17984\\673803681.py:40: UserWarning: To copy construct from a tensor, it is recommended to use sourceTensor.clone().detach() or sourceTensor.clone().detach().requires_grad_(True), rather than torch.tensor(sourceTensor).\n",
      "  item = {key: torch.tensor(val[idx]) for key, val in self.encodings.items()}\n"
     ]
    },
    {
     "name": "stdout",
     "output_type": "stream",
     "text": [
      "Epoch 8, Loss: 0.07714087516069412\n",
      "Validation - Epoch 8: Accuracy: 0.8203, Precision: 0.8203, Recall: 1.0000, F1: 0.9013, AUC: 0.9589\n",
      "----------\n"
     ]
    },
    {
     "name": "stderr",
     "output_type": "stream",
     "text": [
      "C:\\Users\\ctiha\\AppData\\Local\\Temp\\ipykernel_17984\\673803681.py:40: UserWarning: To copy construct from a tensor, it is recommended to use sourceTensor.clone().detach() or sourceTensor.clone().detach().requires_grad_(True), rather than torch.tensor(sourceTensor).\n",
      "  item = {key: torch.tensor(val[idx]) for key, val in self.encodings.items()}\n"
     ]
    },
    {
     "name": "stdout",
     "output_type": "stream",
     "text": [
      "Epoch 9, Loss: 0.1506233811378479\n",
      "Validation - Epoch 9: Accuracy: 0.8203, Precision: 0.8203, Recall: 1.0000, F1: 0.9013, AUC: 0.9563\n",
      "----------\n"
     ]
    },
    {
     "name": "stderr",
     "output_type": "stream",
     "text": [
      "C:\\Users\\ctiha\\AppData\\Local\\Temp\\ipykernel_17984\\673803681.py:40: UserWarning: To copy construct from a tensor, it is recommended to use sourceTensor.clone().detach() or sourceTensor.clone().detach().requires_grad_(True), rather than torch.tensor(sourceTensor).\n",
      "  item = {key: torch.tensor(val[idx]) for key, val in self.encodings.items()}\n"
     ]
    },
    {
     "name": "stdout",
     "output_type": "stream",
     "text": [
      "Epoch 10, Loss: 0.08315709233283997\n",
      "Validation - Epoch 10: Accuracy: 0.8203, Precision: 0.8203, Recall: 1.0000, F1: 0.9013, AUC: 0.9554\n",
      "----------\n"
     ]
    },
    {
     "name": "stderr",
     "output_type": "stream",
     "text": [
      "C:\\Users\\ctiha\\AppData\\Local\\Temp\\ipykernel_17984\\673803681.py:40: UserWarning: To copy construct from a tensor, it is recommended to use sourceTensor.clone().detach() or sourceTensor.clone().detach().requires_grad_(True), rather than torch.tensor(sourceTensor).\n",
      "  item = {key: torch.tensor(val[idx]) for key, val in self.encodings.items()}\n"
     ]
    },
    {
     "name": "stdout",
     "output_type": "stream",
     "text": [
      "Epoch 11, Loss: 0.03487543761730194\n",
      "Validation - Epoch 11: Accuracy: 0.8203, Precision: 0.8203, Recall: 1.0000, F1: 0.9013, AUC: 0.9535\n",
      "----------\n"
     ]
    },
    {
     "name": "stderr",
     "output_type": "stream",
     "text": [
      "C:\\Users\\ctiha\\AppData\\Local\\Temp\\ipykernel_17984\\673803681.py:40: UserWarning: To copy construct from a tensor, it is recommended to use sourceTensor.clone().detach() or sourceTensor.clone().detach().requires_grad_(True), rather than torch.tensor(sourceTensor).\n",
      "  item = {key: torch.tensor(val[idx]) for key, val in self.encodings.items()}\n"
     ]
    },
    {
     "name": "stdout",
     "output_type": "stream",
     "text": [
      "Epoch 12, Loss: 0.014386310242116451\n",
      "Validation - Epoch 12: Accuracy: 0.8203, Precision: 0.8203, Recall: 1.0000, F1: 0.9013, AUC: 0.9487\n",
      "----------\n"
     ]
    },
    {
     "name": "stderr",
     "output_type": "stream",
     "text": [
      "C:\\Users\\ctiha\\AppData\\Local\\Temp\\ipykernel_17984\\673803681.py:40: UserWarning: To copy construct from a tensor, it is recommended to use sourceTensor.clone().detach() or sourceTensor.clone().detach().requires_grad_(True), rather than torch.tensor(sourceTensor).\n",
      "  item = {key: torch.tensor(val[idx]) for key, val in self.encodings.items()}\n"
     ]
    },
    {
     "name": "stdout",
     "output_type": "stream",
     "text": [
      "Epoch 13, Loss: 0.011499470099806786\n",
      "Validation - Epoch 13: Accuracy: 0.8203, Precision: 0.8203, Recall: 1.0000, F1: 0.9013, AUC: 0.9560\n",
      "----------\n"
     ]
    },
    {
     "name": "stderr",
     "output_type": "stream",
     "text": [
      "C:\\Users\\ctiha\\AppData\\Local\\Temp\\ipykernel_17984\\673803681.py:40: UserWarning: To copy construct from a tensor, it is recommended to use sourceTensor.clone().detach() or sourceTensor.clone().detach().requires_grad_(True), rather than torch.tensor(sourceTensor).\n",
      "  item = {key: torch.tensor(val[idx]) for key, val in self.encodings.items()}\n"
     ]
    },
    {
     "name": "stdout",
     "output_type": "stream",
     "text": [
      "Epoch 14, Loss: 0.014811982400715351\n",
      "Validation - Epoch 14: Accuracy: 0.8203, Precision: 0.8203, Recall: 1.0000, F1: 0.9013, AUC: 0.9544\n",
      "----------\n"
     ]
    },
    {
     "name": "stderr",
     "output_type": "stream",
     "text": [
      "C:\\Users\\ctiha\\AppData\\Local\\Temp\\ipykernel_17984\\673803681.py:40: UserWarning: To copy construct from a tensor, it is recommended to use sourceTensor.clone().detach() or sourceTensor.clone().detach().requires_grad_(True), rather than torch.tensor(sourceTensor).\n",
      "  item = {key: torch.tensor(val[idx]) for key, val in self.encodings.items()}\n"
     ]
    },
    {
     "name": "stdout",
     "output_type": "stream",
     "text": [
      "Epoch 15, Loss: 0.047739025205373764\n",
      "Validation - Epoch 15: Accuracy: 0.8203, Precision: 0.8203, Recall: 1.0000, F1: 0.9013, AUC: 0.9557\n",
      "----------\n"
     ]
    },
    {
     "name": "stderr",
     "output_type": "stream",
     "text": [
      "C:\\Users\\ctiha\\AppData\\Local\\Temp\\ipykernel_17984\\673803681.py:40: UserWarning: To copy construct from a tensor, it is recommended to use sourceTensor.clone().detach() or sourceTensor.clone().detach().requires_grad_(True), rather than torch.tensor(sourceTensor).\n",
      "  item = {key: torch.tensor(val[idx]) for key, val in self.encodings.items()}\n"
     ]
    },
    {
     "name": "stdout",
     "output_type": "stream",
     "text": [
      "Epoch 16, Loss: 0.0082912752404809\n",
      "Validation - Epoch 16: Accuracy: 0.8203, Precision: 0.8203, Recall: 1.0000, F1: 0.9013, AUC: 0.9594\n",
      "----------\n"
     ]
    },
    {
     "name": "stderr",
     "output_type": "stream",
     "text": [
      "C:\\Users\\ctiha\\AppData\\Local\\Temp\\ipykernel_17984\\673803681.py:40: UserWarning: To copy construct from a tensor, it is recommended to use sourceTensor.clone().detach() or sourceTensor.clone().detach().requires_grad_(True), rather than torch.tensor(sourceTensor).\n",
      "  item = {key: torch.tensor(val[idx]) for key, val in self.encodings.items()}\n"
     ]
    },
    {
     "name": "stdout",
     "output_type": "stream",
     "text": [
      "Epoch 17, Loss: 0.020131055265665054\n",
      "Validation - Epoch 17: Accuracy: 0.8203, Precision: 0.8203, Recall: 1.0000, F1: 0.9013, AUC: 0.9544\n",
      "----------\n"
     ]
    },
    {
     "name": "stderr",
     "output_type": "stream",
     "text": [
      "C:\\Users\\ctiha\\AppData\\Local\\Temp\\ipykernel_17984\\673803681.py:40: UserWarning: To copy construct from a tensor, it is recommended to use sourceTensor.clone().detach() or sourceTensor.clone().detach().requires_grad_(True), rather than torch.tensor(sourceTensor).\n",
      "  item = {key: torch.tensor(val[idx]) for key, val in self.encodings.items()}\n"
     ]
    },
    {
     "name": "stdout",
     "output_type": "stream",
     "text": [
      "Epoch 18, Loss: 0.012739758938550949\n",
      "Validation - Epoch 18: Accuracy: 0.8203, Precision: 0.8203, Recall: 1.0000, F1: 0.9013, AUC: 0.9522\n",
      "----------\n"
     ]
    },
    {
     "name": "stderr",
     "output_type": "stream",
     "text": [
      "C:\\Users\\ctiha\\AppData\\Local\\Temp\\ipykernel_17984\\673803681.py:40: UserWarning: To copy construct from a tensor, it is recommended to use sourceTensor.clone().detach() or sourceTensor.clone().detach().requires_grad_(True), rather than torch.tensor(sourceTensor).\n",
      "  item = {key: torch.tensor(val[idx]) for key, val in self.encodings.items()}\n"
     ]
    },
    {
     "name": "stdout",
     "output_type": "stream",
     "text": [
      "Epoch 19, Loss: 0.060666244477033615\n",
      "Validation - Epoch 19: Accuracy: 0.8203, Precision: 0.8203, Recall: 1.0000, F1: 0.9013, AUC: 0.9569\n",
      "----------\n"
     ]
    },
    {
     "name": "stderr",
     "output_type": "stream",
     "text": [
      "C:\\Users\\ctiha\\AppData\\Local\\Temp\\ipykernel_17984\\673803681.py:40: UserWarning: To copy construct from a tensor, it is recommended to use sourceTensor.clone().detach() or sourceTensor.clone().detach().requires_grad_(True), rather than torch.tensor(sourceTensor).\n",
      "  item = {key: torch.tensor(val[idx]) for key, val in self.encodings.items()}\n"
     ]
    },
    {
     "name": "stdout",
     "output_type": "stream",
     "text": [
      "Epoch 20, Loss: 0.007308268453925848\n",
      "Validation - Epoch 20: Accuracy: 0.8203, Precision: 0.8203, Recall: 1.0000, F1: 0.9013, AUC: 0.9542\n",
      "----------\n"
     ]
    },
    {
     "name": "stderr",
     "output_type": "stream",
     "text": [
      "C:\\Users\\ctiha\\AppData\\Local\\Temp\\ipykernel_17984\\673803681.py:40: UserWarning: To copy construct from a tensor, it is recommended to use sourceTensor.clone().detach() or sourceTensor.clone().detach().requires_grad_(True), rather than torch.tensor(sourceTensor).\n",
      "  item = {key: torch.tensor(val[idx]) for key, val in self.encodings.items()}\n"
     ]
    },
    {
     "name": "stdout",
     "output_type": "stream",
     "text": [
      "Epoch 21, Loss: 0.07688472419977188\n",
      "Validation - Epoch 21: Accuracy: 0.8203, Precision: 0.8203, Recall: 1.0000, F1: 0.9013, AUC: 0.9486\n",
      "----------\n"
     ]
    },
    {
     "name": "stderr",
     "output_type": "stream",
     "text": [
      "C:\\Users\\ctiha\\AppData\\Local\\Temp\\ipykernel_17984\\673803681.py:40: UserWarning: To copy construct from a tensor, it is recommended to use sourceTensor.clone().detach() or sourceTensor.clone().detach().requires_grad_(True), rather than torch.tensor(sourceTensor).\n",
      "  item = {key: torch.tensor(val[idx]) for key, val in self.encodings.items()}\n"
     ]
    },
    {
     "name": "stdout",
     "output_type": "stream",
     "text": [
      "Epoch 22, Loss: 0.03612653166055679\n",
      "Validation - Epoch 22: Accuracy: 0.8203, Precision: 0.8203, Recall: 1.0000, F1: 0.9013, AUC: 0.9473\n",
      "----------\n"
     ]
    },
    {
     "name": "stderr",
     "output_type": "stream",
     "text": [
      "C:\\Users\\ctiha\\AppData\\Local\\Temp\\ipykernel_17984\\673803681.py:40: UserWarning: To copy construct from a tensor, it is recommended to use sourceTensor.clone().detach() or sourceTensor.clone().detach().requires_grad_(True), rather than torch.tensor(sourceTensor).\n",
      "  item = {key: torch.tensor(val[idx]) for key, val in self.encodings.items()}\n"
     ]
    },
    {
     "name": "stdout",
     "output_type": "stream",
     "text": [
      "Epoch 23, Loss: 0.005359353963285685\n",
      "Validation - Epoch 23: Accuracy: 0.8203, Precision: 0.8203, Recall: 1.0000, F1: 0.9013, AUC: 0.9552\n",
      "----------\n"
     ]
    },
    {
     "name": "stderr",
     "output_type": "stream",
     "text": [
      "C:\\Users\\ctiha\\AppData\\Local\\Temp\\ipykernel_17984\\673803681.py:40: UserWarning: To copy construct from a tensor, it is recommended to use sourceTensor.clone().detach() or sourceTensor.clone().detach().requires_grad_(True), rather than torch.tensor(sourceTensor).\n",
      "  item = {key: torch.tensor(val[idx]) for key, val in self.encodings.items()}\n"
     ]
    },
    {
     "name": "stdout",
     "output_type": "stream",
     "text": [
      "Epoch 24, Loss: 0.010938546620309353\n",
      "Validation - Epoch 24: Accuracy: 0.8203, Precision: 0.8203, Recall: 1.0000, F1: 0.9013, AUC: 0.9558\n",
      "----------\n"
     ]
    },
    {
     "name": "stderr",
     "output_type": "stream",
     "text": [
      "C:\\Users\\ctiha\\AppData\\Local\\Temp\\ipykernel_17984\\673803681.py:40: UserWarning: To copy construct from a tensor, it is recommended to use sourceTensor.clone().detach() or sourceTensor.clone().detach().requires_grad_(True), rather than torch.tensor(sourceTensor).\n",
      "  item = {key: torch.tensor(val[idx]) for key, val in self.encodings.items()}\n"
     ]
    },
    {
     "name": "stdout",
     "output_type": "stream",
     "text": [
      "Epoch 25, Loss: 0.012943373993039131\n",
      "Validation - Epoch 25: Accuracy: 0.8203, Precision: 0.8203, Recall: 1.0000, F1: 0.9013, AUC: 0.9507\n",
      "----------\n"
     ]
    },
    {
     "name": "stderr",
     "output_type": "stream",
     "text": [
      "C:\\Users\\ctiha\\AppData\\Local\\Temp\\ipykernel_17984\\673803681.py:40: UserWarning: To copy construct from a tensor, it is recommended to use sourceTensor.clone().detach() or sourceTensor.clone().detach().requires_grad_(True), rather than torch.tensor(sourceTensor).\n",
      "  item = {key: torch.tensor(val[idx]) for key, val in self.encodings.items()}\n"
     ]
    },
    {
     "name": "stdout",
     "output_type": "stream",
     "text": [
      "Epoch 26, Loss: 0.06588809937238693\n",
      "Validation - Epoch 26: Accuracy: 0.8203, Precision: 0.8203, Recall: 1.0000, F1: 0.9013, AUC: 0.9529\n",
      "----------\n"
     ]
    },
    {
     "name": "stderr",
     "output_type": "stream",
     "text": [
      "C:\\Users\\ctiha\\AppData\\Local\\Temp\\ipykernel_17984\\673803681.py:40: UserWarning: To copy construct from a tensor, it is recommended to use sourceTensor.clone().detach() or sourceTensor.clone().detach().requires_grad_(True), rather than torch.tensor(sourceTensor).\n",
      "  item = {key: torch.tensor(val[idx]) for key, val in self.encodings.items()}\n"
     ]
    },
    {
     "name": "stdout",
     "output_type": "stream",
     "text": [
      "Epoch 27, Loss: 0.012502890080213547\n",
      "Validation - Epoch 27: Accuracy: 0.8203, Precision: 0.8203, Recall: 1.0000, F1: 0.9013, AUC: 0.9408\n",
      "----------\n"
     ]
    },
    {
     "name": "stderr",
     "output_type": "stream",
     "text": [
      "C:\\Users\\ctiha\\AppData\\Local\\Temp\\ipykernel_17984\\673803681.py:40: UserWarning: To copy construct from a tensor, it is recommended to use sourceTensor.clone().detach() or sourceTensor.clone().detach().requires_grad_(True), rather than torch.tensor(sourceTensor).\n",
      "  item = {key: torch.tensor(val[idx]) for key, val in self.encodings.items()}\n"
     ]
    },
    {
     "name": "stdout",
     "output_type": "stream",
     "text": [
      "Epoch 28, Loss: 0.003314770758152008\n",
      "Validation - Epoch 28: Accuracy: 0.8203, Precision: 0.8203, Recall: 1.0000, F1: 0.9013, AUC: 0.9355\n",
      "----------\n"
     ]
    },
    {
     "name": "stderr",
     "output_type": "stream",
     "text": [
      "C:\\Users\\ctiha\\AppData\\Local\\Temp\\ipykernel_17984\\673803681.py:40: UserWarning: To copy construct from a tensor, it is recommended to use sourceTensor.clone().detach() or sourceTensor.clone().detach().requires_grad_(True), rather than torch.tensor(sourceTensor).\n",
      "  item = {key: torch.tensor(val[idx]) for key, val in self.encodings.items()}\n"
     ]
    },
    {
     "name": "stdout",
     "output_type": "stream",
     "text": [
      "Epoch 29, Loss: 0.03779323771595955\n",
      "Validation - Epoch 29: Accuracy: 0.8203, Precision: 0.8203, Recall: 1.0000, F1: 0.9013, AUC: 0.9175\n",
      "----------\n"
     ]
    },
    {
     "name": "stderr",
     "output_type": "stream",
     "text": [
      "C:\\Users\\ctiha\\AppData\\Local\\Temp\\ipykernel_17984\\673803681.py:40: UserWarning: To copy construct from a tensor, it is recommended to use sourceTensor.clone().detach() or sourceTensor.clone().detach().requires_grad_(True), rather than torch.tensor(sourceTensor).\n",
      "  item = {key: torch.tensor(val[idx]) for key, val in self.encodings.items()}\n"
     ]
    },
    {
     "name": "stdout",
     "output_type": "stream",
     "text": [
      "Epoch 30, Loss: 0.03358655795454979\n",
      "Validation - Epoch 30: Accuracy: 0.8203, Precision: 0.8203, Recall: 1.0000, F1: 0.9013, AUC: 0.9495\n",
      "----------\n"
     ]
    },
    {
     "name": "stderr",
     "output_type": "stream",
     "text": [
      "C:\\Users\\ctiha\\AppData\\Local\\Temp\\ipykernel_17984\\673803681.py:40: UserWarning: To copy construct from a tensor, it is recommended to use sourceTensor.clone().detach() or sourceTensor.clone().detach().requires_grad_(True), rather than torch.tensor(sourceTensor).\n",
      "  item = {key: torch.tensor(val[idx]) for key, val in self.encodings.items()}\n"
     ]
    },
    {
     "name": "stdout",
     "output_type": "stream",
     "text": [
      "Epoch 31, Loss: 0.009717226028442383\n",
      "Validation - Epoch 31: Accuracy: 0.8203, Precision: 0.8203, Recall: 1.0000, F1: 0.9013, AUC: 0.9544\n",
      "----------\n"
     ]
    },
    {
     "name": "stderr",
     "output_type": "stream",
     "text": [
      "C:\\Users\\ctiha\\AppData\\Local\\Temp\\ipykernel_17984\\673803681.py:40: UserWarning: To copy construct from a tensor, it is recommended to use sourceTensor.clone().detach() or sourceTensor.clone().detach().requires_grad_(True), rather than torch.tensor(sourceTensor).\n",
      "  item = {key: torch.tensor(val[idx]) for key, val in self.encodings.items()}\n"
     ]
    },
    {
     "name": "stdout",
     "output_type": "stream",
     "text": [
      "Epoch 32, Loss: 0.005833691451698542\n",
      "Validation - Epoch 32: Accuracy: 0.8203, Precision: 0.8203, Recall: 1.0000, F1: 0.9013, AUC: 0.9438\n",
      "----------\n"
     ]
    },
    {
     "name": "stderr",
     "output_type": "stream",
     "text": [
      "C:\\Users\\ctiha\\AppData\\Local\\Temp\\ipykernel_17984\\673803681.py:40: UserWarning: To copy construct from a tensor, it is recommended to use sourceTensor.clone().detach() or sourceTensor.clone().detach().requires_grad_(True), rather than torch.tensor(sourceTensor).\n",
      "  item = {key: torch.tensor(val[idx]) for key, val in self.encodings.items()}\n"
     ]
    },
    {
     "name": "stdout",
     "output_type": "stream",
     "text": [
      "Epoch 33, Loss: 0.007945423945784569\n",
      "Validation - Epoch 33: Accuracy: 0.8203, Precision: 0.8203, Recall: 1.0000, F1: 0.9013, AUC: 0.9505\n",
      "----------\n"
     ]
    },
    {
     "name": "stderr",
     "output_type": "stream",
     "text": [
      "C:\\Users\\ctiha\\AppData\\Local\\Temp\\ipykernel_17984\\673803681.py:40: UserWarning: To copy construct from a tensor, it is recommended to use sourceTensor.clone().detach() or sourceTensor.clone().detach().requires_grad_(True), rather than torch.tensor(sourceTensor).\n",
      "  item = {key: torch.tensor(val[idx]) for key, val in self.encodings.items()}\n"
     ]
    },
    {
     "name": "stdout",
     "output_type": "stream",
     "text": [
      "Epoch 34, Loss: 0.009551718831062317\n",
      "Validation - Epoch 34: Accuracy: 0.8203, Precision: 0.8203, Recall: 1.0000, F1: 0.9013, AUC: 0.9391\n",
      "----------\n"
     ]
    },
    {
     "name": "stderr",
     "output_type": "stream",
     "text": [
      "C:\\Users\\ctiha\\AppData\\Local\\Temp\\ipykernel_17984\\673803681.py:40: UserWarning: To copy construct from a tensor, it is recommended to use sourceTensor.clone().detach() or sourceTensor.clone().detach().requires_grad_(True), rather than torch.tensor(sourceTensor).\n",
      "  item = {key: torch.tensor(val[idx]) for key, val in self.encodings.items()}\n"
     ]
    },
    {
     "name": "stdout",
     "output_type": "stream",
     "text": [
      "Epoch 35, Loss: 0.007988424971699715\n",
      "Validation - Epoch 35: Accuracy: 0.8203, Precision: 0.8203, Recall: 1.0000, F1: 0.9013, AUC: 0.9296\n",
      "----------\n"
     ]
    },
    {
     "name": "stderr",
     "output_type": "stream",
     "text": [
      "C:\\Users\\ctiha\\AppData\\Local\\Temp\\ipykernel_17984\\673803681.py:40: UserWarning: To copy construct from a tensor, it is recommended to use sourceTensor.clone().detach() or sourceTensor.clone().detach().requires_grad_(True), rather than torch.tensor(sourceTensor).\n",
      "  item = {key: torch.tensor(val[idx]) for key, val in self.encodings.items()}\n"
     ]
    },
    {
     "name": "stdout",
     "output_type": "stream",
     "text": [
      "Epoch 36, Loss: 0.01250087283551693\n",
      "Validation - Epoch 36: Accuracy: 0.8203, Precision: 0.8203, Recall: 1.0000, F1: 0.9013, AUC: 0.9276\n",
      "----------\n"
     ]
    },
    {
     "name": "stderr",
     "output_type": "stream",
     "text": [
      "C:\\Users\\ctiha\\AppData\\Local\\Temp\\ipykernel_17984\\673803681.py:40: UserWarning: To copy construct from a tensor, it is recommended to use sourceTensor.clone().detach() or sourceTensor.clone().detach().requires_grad_(True), rather than torch.tensor(sourceTensor).\n",
      "  item = {key: torch.tensor(val[idx]) for key, val in self.encodings.items()}\n"
     ]
    },
    {
     "name": "stdout",
     "output_type": "stream",
     "text": [
      "Epoch 37, Loss: 0.008807167410850525\n"
     ]
    },
    {
     "name": "stderr",
     "output_type": "stream",
     "text": [
      "C:\\Users\\ctiha\\AppData\\Local\\Temp\\ipykernel_17984\\673803681.py:40: UserWarning: To copy construct from a tensor, it is recommended to use sourceTensor.clone().detach() or sourceTensor.clone().detach().requires_grad_(True), rather than torch.tensor(sourceTensor).\n",
      "  item = {key: torch.tensor(val[idx]) for key, val in self.encodings.items()}\n"
     ]
    },
    {
     "name": "stdout",
     "output_type": "stream",
     "text": [
      "Validation - Epoch 37: Accuracy: 0.8203, Precision: 0.8203, Recall: 1.0000, F1: 0.9013, AUC: 0.9445\n",
      "----------\n",
      "Epoch 38, Loss: 0.05460839718580246\n",
      "Validation - Epoch 38: Accuracy: 0.8203, Precision: 0.8203, Recall: 1.0000, F1: 0.9013, AUC: 0.9525\n",
      "----------\n"
     ]
    },
    {
     "name": "stderr",
     "output_type": "stream",
     "text": [
      "C:\\Users\\ctiha\\AppData\\Local\\Temp\\ipykernel_17984\\673803681.py:40: UserWarning: To copy construct from a tensor, it is recommended to use sourceTensor.clone().detach() or sourceTensor.clone().detach().requires_grad_(True), rather than torch.tensor(sourceTensor).\n",
      "  item = {key: torch.tensor(val[idx]) for key, val in self.encodings.items()}\n"
     ]
    },
    {
     "name": "stdout",
     "output_type": "stream",
     "text": [
      "Epoch 39, Loss: 0.004630879499018192\n",
      "Validation - Epoch 39: Accuracy: 0.8203, Precision: 0.8203, Recall: 1.0000, F1: 0.9013, AUC: 0.9500\n",
      "----------\n"
     ]
    },
    {
     "name": "stderr",
     "output_type": "stream",
     "text": [
      "C:\\Users\\ctiha\\AppData\\Local\\Temp\\ipykernel_17984\\673803681.py:40: UserWarning: To copy construct from a tensor, it is recommended to use sourceTensor.clone().detach() or sourceTensor.clone().detach().requires_grad_(True), rather than torch.tensor(sourceTensor).\n",
      "  item = {key: torch.tensor(val[idx]) for key, val in self.encodings.items()}\n"
     ]
    },
    {
     "name": "stdout",
     "output_type": "stream",
     "text": [
      "Epoch 40, Loss: 0.03228357806801796\n",
      "Validation - Epoch 40: Accuracy: 0.8203, Precision: 0.8203, Recall: 1.0000, F1: 0.9013, AUC: 0.9408\n",
      "----------\n"
     ]
    },
    {
     "name": "stderr",
     "output_type": "stream",
     "text": [
      "C:\\Users\\ctiha\\AppData\\Local\\Temp\\ipykernel_17984\\673803681.py:40: UserWarning: To copy construct from a tensor, it is recommended to use sourceTensor.clone().detach() or sourceTensor.clone().detach().requires_grad_(True), rather than torch.tensor(sourceTensor).\n",
      "  item = {key: torch.tensor(val[idx]) for key, val in self.encodings.items()}\n"
     ]
    },
    {
     "name": "stdout",
     "output_type": "stream",
     "text": [
      "Epoch 41, Loss: 0.011706015095114708\n",
      "Validation - Epoch 41: Accuracy: 0.8203, Precision: 0.8203, Recall: 1.0000, F1: 0.9013, AUC: 0.9406\n",
      "----------\n"
     ]
    },
    {
     "name": "stderr",
     "output_type": "stream",
     "text": [
      "C:\\Users\\ctiha\\AppData\\Local\\Temp\\ipykernel_17984\\673803681.py:40: UserWarning: To copy construct from a tensor, it is recommended to use sourceTensor.clone().detach() or sourceTensor.clone().detach().requires_grad_(True), rather than torch.tensor(sourceTensor).\n",
      "  item = {key: torch.tensor(val[idx]) for key, val in self.encodings.items()}\n"
     ]
    },
    {
     "name": "stdout",
     "output_type": "stream",
     "text": [
      "Epoch 42, Loss: 0.08586645871400833\n",
      "Validation - Epoch 42: Accuracy: 0.8203, Precision: 0.8203, Recall: 1.0000, F1: 0.9013, AUC: 0.9549\n",
      "----------\n"
     ]
    },
    {
     "name": "stderr",
     "output_type": "stream",
     "text": [
      "C:\\Users\\ctiha\\AppData\\Local\\Temp\\ipykernel_17984\\673803681.py:40: UserWarning: To copy construct from a tensor, it is recommended to use sourceTensor.clone().detach() or sourceTensor.clone().detach().requires_grad_(True), rather than torch.tensor(sourceTensor).\n",
      "  item = {key: torch.tensor(val[idx]) for key, val in self.encodings.items()}\n"
     ]
    },
    {
     "name": "stdout",
     "output_type": "stream",
     "text": [
      "Epoch 43, Loss: 0.08583050966262817\n",
      "Validation - Epoch 43: Accuracy: 0.8203, Precision: 0.8203, Recall: 1.0000, F1: 0.9013, AUC: 0.9421\n",
      "----------\n"
     ]
    },
    {
     "name": "stderr",
     "output_type": "stream",
     "text": [
      "C:\\Users\\ctiha\\AppData\\Local\\Temp\\ipykernel_17984\\673803681.py:40: UserWarning: To copy construct from a tensor, it is recommended to use sourceTensor.clone().detach() or sourceTensor.clone().detach().requires_grad_(True), rather than torch.tensor(sourceTensor).\n",
      "  item = {key: torch.tensor(val[idx]) for key, val in self.encodings.items()}\n"
     ]
    },
    {
     "name": "stdout",
     "output_type": "stream",
     "text": [
      "Epoch 44, Loss: 0.0039911456406116486\n",
      "Validation - Epoch 44: Accuracy: 0.8203, Precision: 0.8203, Recall: 1.0000, F1: 0.9013, AUC: 0.9541\n",
      "----------\n"
     ]
    },
    {
     "name": "stderr",
     "output_type": "stream",
     "text": [
      "C:\\Users\\ctiha\\AppData\\Local\\Temp\\ipykernel_17984\\673803681.py:40: UserWarning: To copy construct from a tensor, it is recommended to use sourceTensor.clone().detach() or sourceTensor.clone().detach().requires_grad_(True), rather than torch.tensor(sourceTensor).\n",
      "  item = {key: torch.tensor(val[idx]) for key, val in self.encodings.items()}\n"
     ]
    },
    {
     "name": "stdout",
     "output_type": "stream",
     "text": [
      "Epoch 45, Loss: 0.010051499120891094\n",
      "Validation - Epoch 45: Accuracy: 0.8203, Precision: 0.8203, Recall: 1.0000, F1: 0.9013, AUC: 0.9503\n",
      "----------\n"
     ]
    },
    {
     "name": "stderr",
     "output_type": "stream",
     "text": [
      "C:\\Users\\ctiha\\AppData\\Local\\Temp\\ipykernel_17984\\673803681.py:40: UserWarning: To copy construct from a tensor, it is recommended to use sourceTensor.clone().detach() or sourceTensor.clone().detach().requires_grad_(True), rather than torch.tensor(sourceTensor).\n",
      "  item = {key: torch.tensor(val[idx]) for key, val in self.encodings.items()}\n"
     ]
    },
    {
     "name": "stdout",
     "output_type": "stream",
     "text": [
      "Epoch 46, Loss: 0.004157262854278088\n",
      "Validation - Epoch 46: Accuracy: 0.8203, Precision: 0.8203, Recall: 1.0000, F1: 0.9013, AUC: 0.9537\n",
      "----------\n"
     ]
    },
    {
     "name": "stderr",
     "output_type": "stream",
     "text": [
      "C:\\Users\\ctiha\\AppData\\Local\\Temp\\ipykernel_17984\\673803681.py:40: UserWarning: To copy construct from a tensor, it is recommended to use sourceTensor.clone().detach() or sourceTensor.clone().detach().requires_grad_(True), rather than torch.tensor(sourceTensor).\n",
      "  item = {key: torch.tensor(val[idx]) for key, val in self.encodings.items()}\n"
     ]
    },
    {
     "name": "stdout",
     "output_type": "stream",
     "text": [
      "Epoch 47, Loss: 0.0348382443189621\n",
      "Validation - Epoch 47: Accuracy: 0.8203, Precision: 0.8203, Recall: 1.0000, F1: 0.9013, AUC: 0.9596\n",
      "----------\n"
     ]
    },
    {
     "name": "stderr",
     "output_type": "stream",
     "text": [
      "C:\\Users\\ctiha\\AppData\\Local\\Temp\\ipykernel_17984\\673803681.py:40: UserWarning: To copy construct from a tensor, it is recommended to use sourceTensor.clone().detach() or sourceTensor.clone().detach().requires_grad_(True), rather than torch.tensor(sourceTensor).\n",
      "  item = {key: torch.tensor(val[idx]) for key, val in self.encodings.items()}\n"
     ]
    },
    {
     "name": "stdout",
     "output_type": "stream",
     "text": [
      "Epoch 48, Loss: 0.0009272805182263255\n",
      "Validation - Epoch 48: Accuracy: 0.8203, Precision: 0.8203, Recall: 1.0000, F1: 0.9013, AUC: 0.9587\n",
      "----------\n"
     ]
    },
    {
     "name": "stderr",
     "output_type": "stream",
     "text": [
      "C:\\Users\\ctiha\\AppData\\Local\\Temp\\ipykernel_17984\\673803681.py:40: UserWarning: To copy construct from a tensor, it is recommended to use sourceTensor.clone().detach() or sourceTensor.clone().detach().requires_grad_(True), rather than torch.tensor(sourceTensor).\n",
      "  item = {key: torch.tensor(val[idx]) for key, val in self.encodings.items()}\n"
     ]
    },
    {
     "name": "stdout",
     "output_type": "stream",
     "text": [
      "Epoch 49, Loss: 0.007778545841574669\n",
      "Validation - Epoch 49: Accuracy: 0.8203, Precision: 0.8203, Recall: 1.0000, F1: 0.9013, AUC: 0.9505\n",
      "----------\n"
     ]
    },
    {
     "name": "stderr",
     "output_type": "stream",
     "text": [
      "C:\\Users\\ctiha\\AppData\\Local\\Temp\\ipykernel_17984\\673803681.py:40: UserWarning: To copy construct from a tensor, it is recommended to use sourceTensor.clone().detach() or sourceTensor.clone().detach().requires_grad_(True), rather than torch.tensor(sourceTensor).\n",
      "  item = {key: torch.tensor(val[idx]) for key, val in self.encodings.items()}\n"
     ]
    },
    {
     "name": "stdout",
     "output_type": "stream",
     "text": [
      "Epoch 50, Loss: 0.03256606683135033\n",
      "Validation - Epoch 50: Accuracy: 0.8203, Precision: 0.8203, Recall: 1.0000, F1: 0.9013, AUC: 0.9572\n",
      "----------\n"
     ]
    },
    {
     "name": "stderr",
     "output_type": "stream",
     "text": [
      "C:\\Users\\ctiha\\AppData\\Local\\Temp\\ipykernel_17984\\673803681.py:40: UserWarning: To copy construct from a tensor, it is recommended to use sourceTensor.clone().detach() or sourceTensor.clone().detach().requires_grad_(True), rather than torch.tensor(sourceTensor).\n",
      "  item = {key: torch.tensor(val[idx]) for key, val in self.encodings.items()}\n"
     ]
    },
    {
     "name": "stdout",
     "output_type": "stream",
     "text": [
      "Epoch 51, Loss: 0.039888910949230194\n",
      "Validation - Epoch 51: Accuracy: 0.8203, Precision: 0.8203, Recall: 1.0000, F1: 0.9013, AUC: 0.9560\n",
      "----------\n"
     ]
    },
    {
     "name": "stderr",
     "output_type": "stream",
     "text": [
      "C:\\Users\\ctiha\\AppData\\Local\\Temp\\ipykernel_17984\\673803681.py:40: UserWarning: To copy construct from a tensor, it is recommended to use sourceTensor.clone().detach() or sourceTensor.clone().detach().requires_grad_(True), rather than torch.tensor(sourceTensor).\n",
      "  item = {key: torch.tensor(val[idx]) for key, val in self.encodings.items()}\n"
     ]
    },
    {
     "name": "stdout",
     "output_type": "stream",
     "text": [
      "Epoch 52, Loss: 0.02063525840640068\n"
     ]
    },
    {
     "name": "stderr",
     "output_type": "stream",
     "text": [
      "C:\\Users\\ctiha\\AppData\\Local\\Temp\\ipykernel_17984\\673803681.py:40: UserWarning: To copy construct from a tensor, it is recommended to use sourceTensor.clone().detach() or sourceTensor.clone().detach().requires_grad_(True), rather than torch.tensor(sourceTensor).\n",
      "  item = {key: torch.tensor(val[idx]) for key, val in self.encodings.items()}\n"
     ]
    },
    {
     "name": "stdout",
     "output_type": "stream",
     "text": [
      "Validation - Epoch 52: Accuracy: 0.8203, Precision: 0.8203, Recall: 1.0000, F1: 0.9013, AUC: 0.9518\n",
      "----------\n",
      "Epoch 53, Loss: 0.031528085470199585\n",
      "Validation - Epoch 53: Accuracy: 0.8203, Precision: 0.8203, Recall: 1.0000, F1: 0.9013, AUC: 0.9526\n",
      "----------\n"
     ]
    },
    {
     "name": "stderr",
     "output_type": "stream",
     "text": [
      "C:\\Users\\ctiha\\AppData\\Local\\Temp\\ipykernel_17984\\673803681.py:40: UserWarning: To copy construct from a tensor, it is recommended to use sourceTensor.clone().detach() or sourceTensor.clone().detach().requires_grad_(True), rather than torch.tensor(sourceTensor).\n",
      "  item = {key: torch.tensor(val[idx]) for key, val in self.encodings.items()}\n"
     ]
    },
    {
     "name": "stdout",
     "output_type": "stream",
     "text": [
      "Epoch 54, Loss: 0.029101960361003876\n",
      "Validation - Epoch 54: Accuracy: 0.8203, Precision: 0.8203, Recall: 1.0000, F1: 0.9013, AUC: 0.9573\n",
      "----------\n"
     ]
    },
    {
     "name": "stderr",
     "output_type": "stream",
     "text": [
      "C:\\Users\\ctiha\\AppData\\Local\\Temp\\ipykernel_17984\\673803681.py:40: UserWarning: To copy construct from a tensor, it is recommended to use sourceTensor.clone().detach() or sourceTensor.clone().detach().requires_grad_(True), rather than torch.tensor(sourceTensor).\n",
      "  item = {key: torch.tensor(val[idx]) for key, val in self.encodings.items()}\n"
     ]
    },
    {
     "name": "stdout",
     "output_type": "stream",
     "text": [
      "Epoch 55, Loss: 0.06116750091314316\n",
      "Validation - Epoch 55: Accuracy: 0.8203, Precision: 0.8203, Recall: 1.0000, F1: 0.9013, AUC: 0.9520\n",
      "----------\n"
     ]
    },
    {
     "name": "stderr",
     "output_type": "stream",
     "text": [
      "C:\\Users\\ctiha\\AppData\\Local\\Temp\\ipykernel_17984\\673803681.py:40: UserWarning: To copy construct from a tensor, it is recommended to use sourceTensor.clone().detach() or sourceTensor.clone().detach().requires_grad_(True), rather than torch.tensor(sourceTensor).\n",
      "  item = {key: torch.tensor(val[idx]) for key, val in self.encodings.items()}\n"
     ]
    },
    {
     "name": "stdout",
     "output_type": "stream",
     "text": [
      "Epoch 56, Loss: 0.004632519092410803\n",
      "Validation - Epoch 56: Accuracy: 0.8203, Precision: 0.8203, Recall: 1.0000, F1: 0.9013, AUC: 0.9535\n",
      "----------\n"
     ]
    },
    {
     "name": "stderr",
     "output_type": "stream",
     "text": [
      "C:\\Users\\ctiha\\AppData\\Local\\Temp\\ipykernel_17984\\673803681.py:40: UserWarning: To copy construct from a tensor, it is recommended to use sourceTensor.clone().detach() or sourceTensor.clone().detach().requires_grad_(True), rather than torch.tensor(sourceTensor).\n",
      "  item = {key: torch.tensor(val[idx]) for key, val in self.encodings.items()}\n"
     ]
    },
    {
     "name": "stdout",
     "output_type": "stream",
     "text": [
      "Epoch 57, Loss: 0.029484372586011887\n",
      "Validation - Epoch 57: Accuracy: 0.8203, Precision: 0.8203, Recall: 1.0000, F1: 0.9013, AUC: 0.9556\n",
      "----------\n"
     ]
    },
    {
     "name": "stderr",
     "output_type": "stream",
     "text": [
      "C:\\Users\\ctiha\\AppData\\Local\\Temp\\ipykernel_17984\\673803681.py:40: UserWarning: To copy construct from a tensor, it is recommended to use sourceTensor.clone().detach() or sourceTensor.clone().detach().requires_grad_(True), rather than torch.tensor(sourceTensor).\n",
      "  item = {key: torch.tensor(val[idx]) for key, val in self.encodings.items()}\n"
     ]
    },
    {
     "name": "stdout",
     "output_type": "stream",
     "text": [
      "Epoch 58, Loss: 0.005704754032194614\n",
      "Validation - Epoch 58: Accuracy: 0.8203, Precision: 0.8203, Recall: 1.0000, F1: 0.9013, AUC: 0.9577\n",
      "----------\n"
     ]
    },
    {
     "name": "stderr",
     "output_type": "stream",
     "text": [
      "C:\\Users\\ctiha\\AppData\\Local\\Temp\\ipykernel_17984\\673803681.py:40: UserWarning: To copy construct from a tensor, it is recommended to use sourceTensor.clone().detach() or sourceTensor.clone().detach().requires_grad_(True), rather than torch.tensor(sourceTensor).\n",
      "  item = {key: torch.tensor(val[idx]) for key, val in self.encodings.items()}\n"
     ]
    },
    {
     "name": "stdout",
     "output_type": "stream",
     "text": [
      "Epoch 59, Loss: 0.006800869945436716\n",
      "Validation - Epoch 59: Accuracy: 0.8203, Precision: 0.8203, Recall: 1.0000, F1: 0.9013, AUC: 0.9566\n",
      "----------\n"
     ]
    },
    {
     "name": "stderr",
     "output_type": "stream",
     "text": [
      "C:\\Users\\ctiha\\AppData\\Local\\Temp\\ipykernel_17984\\673803681.py:40: UserWarning: To copy construct from a tensor, it is recommended to use sourceTensor.clone().detach() or sourceTensor.clone().detach().requires_grad_(True), rather than torch.tensor(sourceTensor).\n",
      "  item = {key: torch.tensor(val[idx]) for key, val in self.encodings.items()}\n"
     ]
    },
    {
     "name": "stdout",
     "output_type": "stream",
     "text": [
      "Epoch 60, Loss: 0.0017804520903155208\n",
      "Validation - Epoch 60: Accuracy: 0.8203, Precision: 0.8203, Recall: 1.0000, F1: 0.9013, AUC: 0.9543\n",
      "----------\n"
     ]
    },
    {
     "name": "stderr",
     "output_type": "stream",
     "text": [
      "C:\\Users\\ctiha\\AppData\\Local\\Temp\\ipykernel_17984\\673803681.py:40: UserWarning: To copy construct from a tensor, it is recommended to use sourceTensor.clone().detach() or sourceTensor.clone().detach().requires_grad_(True), rather than torch.tensor(sourceTensor).\n",
      "  item = {key: torch.tensor(val[idx]) for key, val in self.encodings.items()}\n"
     ]
    },
    {
     "name": "stdout",
     "output_type": "stream",
     "text": [
      "Epoch 61, Loss: 0.06277728825807571\n",
      "Validation - Epoch 61: Accuracy: 0.8203, Precision: 0.8203, Recall: 1.0000, F1: 0.9013, AUC: 0.9557\n",
      "----------\n"
     ]
    },
    {
     "name": "stderr",
     "output_type": "stream",
     "text": [
      "C:\\Users\\ctiha\\AppData\\Local\\Temp\\ipykernel_17984\\673803681.py:40: UserWarning: To copy construct from a tensor, it is recommended to use sourceTensor.clone().detach() or sourceTensor.clone().detach().requires_grad_(True), rather than torch.tensor(sourceTensor).\n",
      "  item = {key: torch.tensor(val[idx]) for key, val in self.encodings.items()}\n"
     ]
    },
    {
     "name": "stdout",
     "output_type": "stream",
     "text": [
      "Epoch 62, Loss: 0.029436366632580757\n",
      "Validation - Epoch 62: Accuracy: 0.8203, Precision: 0.8203, Recall: 1.0000, F1: 0.9013, AUC: 0.9579\n",
      "----------\n"
     ]
    },
    {
     "name": "stderr",
     "output_type": "stream",
     "text": [
      "C:\\Users\\ctiha\\AppData\\Local\\Temp\\ipykernel_17984\\673803681.py:40: UserWarning: To copy construct from a tensor, it is recommended to use sourceTensor.clone().detach() or sourceTensor.clone().detach().requires_grad_(True), rather than torch.tensor(sourceTensor).\n",
      "  item = {key: torch.tensor(val[idx]) for key, val in self.encodings.items()}\n"
     ]
    },
    {
     "name": "stdout",
     "output_type": "stream",
     "text": [
      "Epoch 63, Loss: 0.03482856974005699\n",
      "Validation - Epoch 63: Accuracy: 0.8203, Precision: 0.8203, Recall: 1.0000, F1: 0.9013, AUC: 0.9567\n",
      "----------\n"
     ]
    },
    {
     "name": "stderr",
     "output_type": "stream",
     "text": [
      "C:\\Users\\ctiha\\AppData\\Local\\Temp\\ipykernel_17984\\673803681.py:40: UserWarning: To copy construct from a tensor, it is recommended to use sourceTensor.clone().detach() or sourceTensor.clone().detach().requires_grad_(True), rather than torch.tensor(sourceTensor).\n",
      "  item = {key: torch.tensor(val[idx]) for key, val in self.encodings.items()}\n"
     ]
    },
    {
     "name": "stdout",
     "output_type": "stream",
     "text": [
      "Epoch 64, Loss: 0.002367597771808505\n",
      "Validation - Epoch 64: Accuracy: 0.8203, Precision: 0.8203, Recall: 1.0000, F1: 0.9013, AUC: 0.9566\n",
      "----------\n"
     ]
    },
    {
     "name": "stderr",
     "output_type": "stream",
     "text": [
      "C:\\Users\\ctiha\\AppData\\Local\\Temp\\ipykernel_17984\\673803681.py:40: UserWarning: To copy construct from a tensor, it is recommended to use sourceTensor.clone().detach() or sourceTensor.clone().detach().requires_grad_(True), rather than torch.tensor(sourceTensor).\n",
      "  item = {key: torch.tensor(val[idx]) for key, val in self.encodings.items()}\n"
     ]
    },
    {
     "name": "stdout",
     "output_type": "stream",
     "text": [
      "Epoch 65, Loss: 0.003954433836042881\n",
      "Validation - Epoch 65: Accuracy: 0.8203, Precision: 0.8203, Recall: 1.0000, F1: 0.9013, AUC: 0.9537\n",
      "----------\n"
     ]
    },
    {
     "name": "stderr",
     "output_type": "stream",
     "text": [
      "C:\\Users\\ctiha\\AppData\\Local\\Temp\\ipykernel_17984\\673803681.py:40: UserWarning: To copy construct from a tensor, it is recommended to use sourceTensor.clone().detach() or sourceTensor.clone().detach().requires_grad_(True), rather than torch.tensor(sourceTensor).\n",
      "  item = {key: torch.tensor(val[idx]) for key, val in self.encodings.items()}\n"
     ]
    },
    {
     "name": "stdout",
     "output_type": "stream",
     "text": [
      "Epoch 66, Loss: 0.030631130561232567\n",
      "Validation - Epoch 66: Accuracy: 0.8203, Precision: 0.8203, Recall: 1.0000, F1: 0.9013, AUC: 0.9459\n",
      "----------\n"
     ]
    },
    {
     "name": "stderr",
     "output_type": "stream",
     "text": [
      "C:\\Users\\ctiha\\AppData\\Local\\Temp\\ipykernel_17984\\673803681.py:40: UserWarning: To copy construct from a tensor, it is recommended to use sourceTensor.clone().detach() or sourceTensor.clone().detach().requires_grad_(True), rather than torch.tensor(sourceTensor).\n",
      "  item = {key: torch.tensor(val[idx]) for key, val in self.encodings.items()}\n"
     ]
    },
    {
     "name": "stdout",
     "output_type": "stream",
     "text": [
      "Epoch 67, Loss: 0.005470933858305216\n",
      "Validation - Epoch 67: Accuracy: 0.8203, Precision: 0.8203, Recall: 1.0000, F1: 0.9013, AUC: 0.9561\n",
      "----------\n"
     ]
    },
    {
     "name": "stderr",
     "output_type": "stream",
     "text": [
      "C:\\Users\\ctiha\\AppData\\Local\\Temp\\ipykernel_17984\\673803681.py:40: UserWarning: To copy construct from a tensor, it is recommended to use sourceTensor.clone().detach() or sourceTensor.clone().detach().requires_grad_(True), rather than torch.tensor(sourceTensor).\n",
      "  item = {key: torch.tensor(val[idx]) for key, val in self.encodings.items()}\n"
     ]
    },
    {
     "name": "stdout",
     "output_type": "stream",
     "text": [
      "Epoch 68, Loss: 0.006738538853824139\n",
      "Validation - Epoch 68: Accuracy: 0.8203, Precision: 0.8203, Recall: 1.0000, F1: 0.9013, AUC: 0.9575\n",
      "----------\n"
     ]
    },
    {
     "name": "stderr",
     "output_type": "stream",
     "text": [
      "C:\\Users\\ctiha\\AppData\\Local\\Temp\\ipykernel_17984\\673803681.py:40: UserWarning: To copy construct from a tensor, it is recommended to use sourceTensor.clone().detach() or sourceTensor.clone().detach().requires_grad_(True), rather than torch.tensor(sourceTensor).\n",
      "  item = {key: torch.tensor(val[idx]) for key, val in self.encodings.items()}\n"
     ]
    },
    {
     "name": "stdout",
     "output_type": "stream",
     "text": [
      "Epoch 69, Loss: 0.030994843691587448\n",
      "Validation - Epoch 69: Accuracy: 0.8203, Precision: 0.8203, Recall: 1.0000, F1: 0.9013, AUC: 0.9478\n",
      "----------\n"
     ]
    },
    {
     "name": "stderr",
     "output_type": "stream",
     "text": [
      "C:\\Users\\ctiha\\AppData\\Local\\Temp\\ipykernel_17984\\673803681.py:40: UserWarning: To copy construct from a tensor, it is recommended to use sourceTensor.clone().detach() or sourceTensor.clone().detach().requires_grad_(True), rather than torch.tensor(sourceTensor).\n",
      "  item = {key: torch.tensor(val[idx]) for key, val in self.encodings.items()}\n"
     ]
    },
    {
     "name": "stdout",
     "output_type": "stream",
     "text": [
      "Epoch 70, Loss: 0.03030354157090187\n",
      "Validation - Epoch 70: Accuracy: 0.8203, Precision: 0.8203, Recall: 1.0000, F1: 0.9013, AUC: 0.9552\n",
      "----------\n"
     ]
    },
    {
     "name": "stderr",
     "output_type": "stream",
     "text": [
      "C:\\Users\\ctiha\\AppData\\Local\\Temp\\ipykernel_17984\\673803681.py:40: UserWarning: To copy construct from a tensor, it is recommended to use sourceTensor.clone().detach() or sourceTensor.clone().detach().requires_grad_(True), rather than torch.tensor(sourceTensor).\n",
      "  item = {key: torch.tensor(val[idx]) for key, val in self.encodings.items()}\n"
     ]
    },
    {
     "name": "stdout",
     "output_type": "stream",
     "text": [
      "Epoch 71, Loss: 0.03165477141737938\n",
      "Validation - Epoch 71: Accuracy: 0.8203, Precision: 0.8203, Recall: 1.0000, F1: 0.9013, AUC: 0.9573\n",
      "----------\n"
     ]
    },
    {
     "name": "stderr",
     "output_type": "stream",
     "text": [
      "C:\\Users\\ctiha\\AppData\\Local\\Temp\\ipykernel_17984\\673803681.py:40: UserWarning: To copy construct from a tensor, it is recommended to use sourceTensor.clone().detach() or sourceTensor.clone().detach().requires_grad_(True), rather than torch.tensor(sourceTensor).\n",
      "  item = {key: torch.tensor(val[idx]) for key, val in self.encodings.items()}\n"
     ]
    },
    {
     "name": "stdout",
     "output_type": "stream",
     "text": [
      "Epoch 72, Loss: 0.03271154686808586\n",
      "Validation - Epoch 72: Accuracy: 0.8203, Precision: 0.8203, Recall: 1.0000, F1: 0.9013, AUC: 0.9569\n",
      "----------\n"
     ]
    },
    {
     "name": "stderr",
     "output_type": "stream",
     "text": [
      "C:\\Users\\ctiha\\AppData\\Local\\Temp\\ipykernel_17984\\673803681.py:40: UserWarning: To copy construct from a tensor, it is recommended to use sourceTensor.clone().detach() or sourceTensor.clone().detach().requires_grad_(True), rather than torch.tensor(sourceTensor).\n",
      "  item = {key: torch.tensor(val[idx]) for key, val in self.encodings.items()}\n"
     ]
    },
    {
     "name": "stdout",
     "output_type": "stream",
     "text": [
      "Epoch 73, Loss: 0.007317338604480028\n",
      "Validation - Epoch 73: Accuracy: 0.8203, Precision: 0.8203, Recall: 1.0000, F1: 0.9013, AUC: 0.9551\n",
      "----------\n"
     ]
    },
    {
     "name": "stderr",
     "output_type": "stream",
     "text": [
      "C:\\Users\\ctiha\\AppData\\Local\\Temp\\ipykernel_17984\\673803681.py:40: UserWarning: To copy construct from a tensor, it is recommended to use sourceTensor.clone().detach() or sourceTensor.clone().detach().requires_grad_(True), rather than torch.tensor(sourceTensor).\n",
      "  item = {key: torch.tensor(val[idx]) for key, val in self.encodings.items()}\n"
     ]
    },
    {
     "name": "stdout",
     "output_type": "stream",
     "text": [
      "Epoch 74, Loss: 0.007333248853683472\n",
      "Validation - Epoch 74: Accuracy: 0.8203, Precision: 0.8203, Recall: 1.0000, F1: 0.9013, AUC: 0.9543\n",
      "----------\n"
     ]
    },
    {
     "name": "stderr",
     "output_type": "stream",
     "text": [
      "C:\\Users\\ctiha\\AppData\\Local\\Temp\\ipykernel_17984\\673803681.py:40: UserWarning: To copy construct from a tensor, it is recommended to use sourceTensor.clone().detach() or sourceTensor.clone().detach().requires_grad_(True), rather than torch.tensor(sourceTensor).\n",
      "  item = {key: torch.tensor(val[idx]) for key, val in self.encodings.items()}\n"
     ]
    },
    {
     "name": "stdout",
     "output_type": "stream",
     "text": [
      "Epoch 75, Loss: 0.0039028595201671124\n",
      "Validation - Epoch 75: Accuracy: 0.8203, Precision: 0.8203, Recall: 1.0000, F1: 0.9013, AUC: 0.9559\n",
      "----------\n"
     ]
    },
    {
     "name": "stderr",
     "output_type": "stream",
     "text": [
      "C:\\Users\\ctiha\\AppData\\Local\\Temp\\ipykernel_17984\\673803681.py:40: UserWarning: To copy construct from a tensor, it is recommended to use sourceTensor.clone().detach() or sourceTensor.clone().detach().requires_grad_(True), rather than torch.tensor(sourceTensor).\n",
      "  item = {key: torch.tensor(val[idx]) for key, val in self.encodings.items()}\n"
     ]
    },
    {
     "name": "stdout",
     "output_type": "stream",
     "text": [
      "Epoch 76, Loss: 0.004351386334747076\n",
      "Validation - Epoch 76: Accuracy: 0.8203, Precision: 0.8203, Recall: 1.0000, F1: 0.9013, AUC: 0.9549\n",
      "----------\n"
     ]
    },
    {
     "name": "stderr",
     "output_type": "stream",
     "text": [
      "C:\\Users\\ctiha\\AppData\\Local\\Temp\\ipykernel_17984\\673803681.py:40: UserWarning: To copy construct from a tensor, it is recommended to use sourceTensor.clone().detach() or sourceTensor.clone().detach().requires_grad_(True), rather than torch.tensor(sourceTensor).\n",
      "  item = {key: torch.tensor(val[idx]) for key, val in self.encodings.items()}\n"
     ]
    },
    {
     "name": "stdout",
     "output_type": "stream",
     "text": [
      "Epoch 77, Loss: 0.030687814578413963\n",
      "Validation - Epoch 77: Accuracy: 0.8203, Precision: 0.8203, Recall: 1.0000, F1: 0.9013, AUC: 0.9566\n",
      "----------\n"
     ]
    },
    {
     "name": "stderr",
     "output_type": "stream",
     "text": [
      "C:\\Users\\ctiha\\AppData\\Local\\Temp\\ipykernel_17984\\673803681.py:40: UserWarning: To copy construct from a tensor, it is recommended to use sourceTensor.clone().detach() or sourceTensor.clone().detach().requires_grad_(True), rather than torch.tensor(sourceTensor).\n",
      "  item = {key: torch.tensor(val[idx]) for key, val in self.encodings.items()}\n"
     ]
    },
    {
     "name": "stdout",
     "output_type": "stream",
     "text": [
      "Epoch 78, Loss: 0.004716412164270878\n",
      "Validation - Epoch 78: Accuracy: 0.8203, Precision: 0.8203, Recall: 1.0000, F1: 0.9013, AUC: 0.9598\n",
      "----------\n"
     ]
    },
    {
     "name": "stderr",
     "output_type": "stream",
     "text": [
      "C:\\Users\\ctiha\\AppData\\Local\\Temp\\ipykernel_17984\\673803681.py:40: UserWarning: To copy construct from a tensor, it is recommended to use sourceTensor.clone().detach() or sourceTensor.clone().detach().requires_grad_(True), rather than torch.tensor(sourceTensor).\n",
      "  item = {key: torch.tensor(val[idx]) for key, val in self.encodings.items()}\n"
     ]
    },
    {
     "name": "stdout",
     "output_type": "stream",
     "text": [
      "Epoch 79, Loss: 0.014082499779760838\n",
      "Validation - Epoch 79: Accuracy: 0.8203, Precision: 0.8203, Recall: 1.0000, F1: 0.9013, AUC: 0.9511\n",
      "----------\n"
     ]
    },
    {
     "name": "stderr",
     "output_type": "stream",
     "text": [
      "C:\\Users\\ctiha\\AppData\\Local\\Temp\\ipykernel_17984\\673803681.py:40: UserWarning: To copy construct from a tensor, it is recommended to use sourceTensor.clone().detach() or sourceTensor.clone().detach().requires_grad_(True), rather than torch.tensor(sourceTensor).\n",
      "  item = {key: torch.tensor(val[idx]) for key, val in self.encodings.items()}\n"
     ]
    },
    {
     "name": "stdout",
     "output_type": "stream",
     "text": [
      "Epoch 80, Loss: 0.025453690439462662\n",
      "Validation - Epoch 80: Accuracy: 0.8203, Precision: 0.8203, Recall: 1.0000, F1: 0.9013, AUC: 0.9624\n",
      "----------\n"
     ]
    },
    {
     "name": "stderr",
     "output_type": "stream",
     "text": [
      "C:\\Users\\ctiha\\AppData\\Local\\Temp\\ipykernel_17984\\673803681.py:40: UserWarning: To copy construct from a tensor, it is recommended to use sourceTensor.clone().detach() or sourceTensor.clone().detach().requires_grad_(True), rather than torch.tensor(sourceTensor).\n",
      "  item = {key: torch.tensor(val[idx]) for key, val in self.encodings.items()}\n"
     ]
    },
    {
     "name": "stdout",
     "output_type": "stream",
     "text": [
      "Epoch 81, Loss: 0.03390994295477867\n",
      "Validation - Epoch 81: Accuracy: 0.8203, Precision: 0.8203, Recall: 1.0000, F1: 0.9013, AUC: 0.9614\n",
      "----------\n"
     ]
    },
    {
     "name": "stderr",
     "output_type": "stream",
     "text": [
      "C:\\Users\\ctiha\\AppData\\Local\\Temp\\ipykernel_17984\\673803681.py:40: UserWarning: To copy construct from a tensor, it is recommended to use sourceTensor.clone().detach() or sourceTensor.clone().detach().requires_grad_(True), rather than torch.tensor(sourceTensor).\n",
      "  item = {key: torch.tensor(val[idx]) for key, val in self.encodings.items()}\n"
     ]
    },
    {
     "name": "stdout",
     "output_type": "stream",
     "text": [
      "Epoch 82, Loss: 0.002336273668333888\n",
      "Validation - Epoch 82: Accuracy: 0.8203, Precision: 0.8203, Recall: 1.0000, F1: 0.9013, AUC: 0.9620\n",
      "----------\n"
     ]
    },
    {
     "name": "stderr",
     "output_type": "stream",
     "text": [
      "C:\\Users\\ctiha\\AppData\\Local\\Temp\\ipykernel_17984\\673803681.py:40: UserWarning: To copy construct from a tensor, it is recommended to use sourceTensor.clone().detach() or sourceTensor.clone().detach().requires_grad_(True), rather than torch.tensor(sourceTensor).\n",
      "  item = {key: torch.tensor(val[idx]) for key, val in self.encodings.items()}\n"
     ]
    },
    {
     "name": "stdout",
     "output_type": "stream",
     "text": [
      "Epoch 83, Loss: 0.033560674637556076\n",
      "Validation - Epoch 83: Accuracy: 0.8203, Precision: 0.8203, Recall: 1.0000, F1: 0.9013, AUC: 0.9607\n",
      "----------\n"
     ]
    },
    {
     "name": "stderr",
     "output_type": "stream",
     "text": [
      "C:\\Users\\ctiha\\AppData\\Local\\Temp\\ipykernel_17984\\673803681.py:40: UserWarning: To copy construct from a tensor, it is recommended to use sourceTensor.clone().detach() or sourceTensor.clone().detach().requires_grad_(True), rather than torch.tensor(sourceTensor).\n",
      "  item = {key: torch.tensor(val[idx]) for key, val in self.encodings.items()}\n"
     ]
    },
    {
     "name": "stdout",
     "output_type": "stream",
     "text": [
      "Epoch 84, Loss: 0.006610010284930468\n",
      "Validation - Epoch 84: Accuracy: 0.8203, Precision: 0.8203, Recall: 1.0000, F1: 0.9013, AUC: 0.9615\n",
      "----------\n"
     ]
    },
    {
     "name": "stderr",
     "output_type": "stream",
     "text": [
      "C:\\Users\\ctiha\\AppData\\Local\\Temp\\ipykernel_17984\\673803681.py:40: UserWarning: To copy construct from a tensor, it is recommended to use sourceTensor.clone().detach() or sourceTensor.clone().detach().requires_grad_(True), rather than torch.tensor(sourceTensor).\n",
      "  item = {key: torch.tensor(val[idx]) for key, val in self.encodings.items()}\n"
     ]
    },
    {
     "name": "stdout",
     "output_type": "stream",
     "text": [
      "Epoch 85, Loss: 0.06331760436296463\n",
      "Validation - Epoch 85: Accuracy: 0.8203, Precision: 0.8203, Recall: 1.0000, F1: 0.9013, AUC: 0.9597\n",
      "----------\n"
     ]
    },
    {
     "name": "stderr",
     "output_type": "stream",
     "text": [
      "C:\\Users\\ctiha\\AppData\\Local\\Temp\\ipykernel_17984\\673803681.py:40: UserWarning: To copy construct from a tensor, it is recommended to use sourceTensor.clone().detach() or sourceTensor.clone().detach().requires_grad_(True), rather than torch.tensor(sourceTensor).\n",
      "  item = {key: torch.tensor(val[idx]) for key, val in self.encodings.items()}\n"
     ]
    },
    {
     "name": "stdout",
     "output_type": "stream",
     "text": [
      "Epoch 86, Loss: 0.006978869438171387\n",
      "Validation - Epoch 86: Accuracy: 0.8203, Precision: 0.8203, Recall: 1.0000, F1: 0.9013, AUC: 0.9559\n",
      "----------\n"
     ]
    },
    {
     "name": "stderr",
     "output_type": "stream",
     "text": [
      "C:\\Users\\ctiha\\AppData\\Local\\Temp\\ipykernel_17984\\673803681.py:40: UserWarning: To copy construct from a tensor, it is recommended to use sourceTensor.clone().detach() or sourceTensor.clone().detach().requires_grad_(True), rather than torch.tensor(sourceTensor).\n",
      "  item = {key: torch.tensor(val[idx]) for key, val in self.encodings.items()}\n"
     ]
    },
    {
     "name": "stdout",
     "output_type": "stream",
     "text": [
      "Epoch 87, Loss: 0.033607009798288345\n",
      "Validation - Epoch 87: Accuracy: 0.8203, Precision: 0.8203, Recall: 1.0000, F1: 0.9013, AUC: 0.9514\n",
      "----------\n"
     ]
    },
    {
     "name": "stderr",
     "output_type": "stream",
     "text": [
      "C:\\Users\\ctiha\\AppData\\Local\\Temp\\ipykernel_17984\\673803681.py:40: UserWarning: To copy construct from a tensor, it is recommended to use sourceTensor.clone().detach() or sourceTensor.clone().detach().requires_grad_(True), rather than torch.tensor(sourceTensor).\n",
      "  item = {key: torch.tensor(val[idx]) for key, val in self.encodings.items()}\n"
     ]
    },
    {
     "name": "stdout",
     "output_type": "stream",
     "text": [
      "Epoch 88, Loss: 0.03488895297050476\n",
      "Validation - Epoch 88: Accuracy: 0.8203, Precision: 0.8203, Recall: 1.0000, F1: 0.9013, AUC: 0.9544\n",
      "----------\n"
     ]
    },
    {
     "name": "stderr",
     "output_type": "stream",
     "text": [
      "C:\\Users\\ctiha\\AppData\\Local\\Temp\\ipykernel_17984\\673803681.py:40: UserWarning: To copy construct from a tensor, it is recommended to use sourceTensor.clone().detach() or sourceTensor.clone().detach().requires_grad_(True), rather than torch.tensor(sourceTensor).\n",
      "  item = {key: torch.tensor(val[idx]) for key, val in self.encodings.items()}\n"
     ]
    },
    {
     "name": "stdout",
     "output_type": "stream",
     "text": [
      "Epoch 89, Loss: 0.0012268510181456804\n",
      "Validation - Epoch 89: Accuracy: 0.8203, Precision: 0.8203, Recall: 1.0000, F1: 0.9013, AUC: 0.9522\n",
      "----------\n"
     ]
    },
    {
     "name": "stderr",
     "output_type": "stream",
     "text": [
      "C:\\Users\\ctiha\\AppData\\Local\\Temp\\ipykernel_17984\\673803681.py:40: UserWarning: To copy construct from a tensor, it is recommended to use sourceTensor.clone().detach() or sourceTensor.clone().detach().requires_grad_(True), rather than torch.tensor(sourceTensor).\n",
      "  item = {key: torch.tensor(val[idx]) for key, val in self.encodings.items()}\n"
     ]
    },
    {
     "name": "stdout",
     "output_type": "stream",
     "text": [
      "Epoch 90, Loss: 0.056158535182476044\n",
      "Validation - Epoch 90: Accuracy: 0.8203, Precision: 0.8203, Recall: 1.0000, F1: 0.9013, AUC: 0.9530\n",
      "----------\n"
     ]
    },
    {
     "name": "stderr",
     "output_type": "stream",
     "text": [
      "C:\\Users\\ctiha\\AppData\\Local\\Temp\\ipykernel_17984\\673803681.py:40: UserWarning: To copy construct from a tensor, it is recommended to use sourceTensor.clone().detach() or sourceTensor.clone().detach().requires_grad_(True), rather than torch.tensor(sourceTensor).\n",
      "  item = {key: torch.tensor(val[idx]) for key, val in self.encodings.items()}\n"
     ]
    },
    {
     "name": "stdout",
     "output_type": "stream",
     "text": [
      "Epoch 91, Loss: 0.003017917973920703\n",
      "Validation - Epoch 91: Accuracy: 0.8203, Precision: 0.8203, Recall: 1.0000, F1: 0.9013, AUC: 0.9552\n",
      "----------\n"
     ]
    },
    {
     "name": "stderr",
     "output_type": "stream",
     "text": [
      "C:\\Users\\ctiha\\AppData\\Local\\Temp\\ipykernel_17984\\673803681.py:40: UserWarning: To copy construct from a tensor, it is recommended to use sourceTensor.clone().detach() or sourceTensor.clone().detach().requires_grad_(True), rather than torch.tensor(sourceTensor).\n",
      "  item = {key: torch.tensor(val[idx]) for key, val in self.encodings.items()}\n"
     ]
    },
    {
     "name": "stdout",
     "output_type": "stream",
     "text": [
      "Epoch 92, Loss: 0.004601016640663147\n",
      "Validation - Epoch 92: Accuracy: 0.8203, Precision: 0.8203, Recall: 1.0000, F1: 0.9013, AUC: 0.9546\n",
      "----------\n"
     ]
    },
    {
     "name": "stderr",
     "output_type": "stream",
     "text": [
      "C:\\Users\\ctiha\\AppData\\Local\\Temp\\ipykernel_17984\\673803681.py:40: UserWarning: To copy construct from a tensor, it is recommended to use sourceTensor.clone().detach() or sourceTensor.clone().detach().requires_grad_(True), rather than torch.tensor(sourceTensor).\n",
      "  item = {key: torch.tensor(val[idx]) for key, val in self.encodings.items()}\n"
     ]
    },
    {
     "name": "stdout",
     "output_type": "stream",
     "text": [
      "Epoch 93, Loss: 0.006653544958680868\n",
      "Validation - Epoch 93: Accuracy: 0.8203, Precision: 0.8203, Recall: 1.0000, F1: 0.9013, AUC: 0.9577\n",
      "----------\n"
     ]
    },
    {
     "name": "stderr",
     "output_type": "stream",
     "text": [
      "C:\\Users\\ctiha\\AppData\\Local\\Temp\\ipykernel_17984\\673803681.py:40: UserWarning: To copy construct from a tensor, it is recommended to use sourceTensor.clone().detach() or sourceTensor.clone().detach().requires_grad_(True), rather than torch.tensor(sourceTensor).\n",
      "  item = {key: torch.tensor(val[idx]) for key, val in self.encodings.items()}\n"
     ]
    },
    {
     "name": "stdout",
     "output_type": "stream",
     "text": [
      "Epoch 94, Loss: 0.029644325375556946\n",
      "Validation - Epoch 94: Accuracy: 0.8203, Precision: 0.8203, Recall: 1.0000, F1: 0.9013, AUC: 0.9530\n",
      "----------\n"
     ]
    },
    {
     "name": "stderr",
     "output_type": "stream",
     "text": [
      "C:\\Users\\ctiha\\AppData\\Local\\Temp\\ipykernel_17984\\673803681.py:40: UserWarning: To copy construct from a tensor, it is recommended to use sourceTensor.clone().detach() or sourceTensor.clone().detach().requires_grad_(True), rather than torch.tensor(sourceTensor).\n",
      "  item = {key: torch.tensor(val[idx]) for key, val in self.encodings.items()}\n"
     ]
    },
    {
     "name": "stdout",
     "output_type": "stream",
     "text": [
      "Epoch 95, Loss: 0.034433942288160324\n",
      "Validation - Epoch 95: Accuracy: 0.8203, Precision: 0.8203, Recall: 1.0000, F1: 0.9013, AUC: 0.9552\n",
      "----------\n"
     ]
    },
    {
     "name": "stderr",
     "output_type": "stream",
     "text": [
      "C:\\Users\\ctiha\\AppData\\Local\\Temp\\ipykernel_17984\\673803681.py:40: UserWarning: To copy construct from a tensor, it is recommended to use sourceTensor.clone().detach() or sourceTensor.clone().detach().requires_grad_(True), rather than torch.tensor(sourceTensor).\n",
      "  item = {key: torch.tensor(val[idx]) for key, val in self.encodings.items()}\n"
     ]
    },
    {
     "name": "stdout",
     "output_type": "stream",
     "text": [
      "Epoch 96, Loss: 0.03102250024676323\n",
      "Validation - Epoch 96: Accuracy: 0.8203, Precision: 0.8203, Recall: 1.0000, F1: 0.9013, AUC: 0.9553\n",
      "----------\n"
     ]
    },
    {
     "name": "stderr",
     "output_type": "stream",
     "text": [
      "C:\\Users\\ctiha\\AppData\\Local\\Temp\\ipykernel_17984\\673803681.py:40: UserWarning: To copy construct from a tensor, it is recommended to use sourceTensor.clone().detach() or sourceTensor.clone().detach().requires_grad_(True), rather than torch.tensor(sourceTensor).\n",
      "  item = {key: torch.tensor(val[idx]) for key, val in self.encodings.items()}\n"
     ]
    },
    {
     "name": "stdout",
     "output_type": "stream",
     "text": [
      "Epoch 97, Loss: 0.06373831629753113\n",
      "Validation - Epoch 97: Accuracy: 0.8203, Precision: 0.8203, Recall: 1.0000, F1: 0.9013, AUC: 0.9587\n",
      "----------\n"
     ]
    },
    {
     "name": "stderr",
     "output_type": "stream",
     "text": [
      "C:\\Users\\ctiha\\AppData\\Local\\Temp\\ipykernel_17984\\673803681.py:40: UserWarning: To copy construct from a tensor, it is recommended to use sourceTensor.clone().detach() or sourceTensor.clone().detach().requires_grad_(True), rather than torch.tensor(sourceTensor).\n",
      "  item = {key: torch.tensor(val[idx]) for key, val in self.encodings.items()}\n"
     ]
    },
    {
     "name": "stdout",
     "output_type": "stream",
     "text": [
      "Epoch 98, Loss: 0.008765188045799732\n",
      "Validation - Epoch 98: Accuracy: 0.8203, Precision: 0.8203, Recall: 1.0000, F1: 0.9013, AUC: 0.9591\n",
      "----------\n"
     ]
    },
    {
     "name": "stderr",
     "output_type": "stream",
     "text": [
      "C:\\Users\\ctiha\\AppData\\Local\\Temp\\ipykernel_17984\\673803681.py:40: UserWarning: To copy construct from a tensor, it is recommended to use sourceTensor.clone().detach() or sourceTensor.clone().detach().requires_grad_(True), rather than torch.tensor(sourceTensor).\n",
      "  item = {key: torch.tensor(val[idx]) for key, val in self.encodings.items()}\n"
     ]
    },
    {
     "name": "stdout",
     "output_type": "stream",
     "text": [
      "Epoch 99, Loss: 0.06528124958276749\n",
      "Validation - Epoch 99: Accuracy: 0.8203, Precision: 0.8203, Recall: 1.0000, F1: 0.9013, AUC: 0.9552\n",
      "----------\n"
     ]
    },
    {
     "name": "stderr",
     "output_type": "stream",
     "text": [
      "C:\\Users\\ctiha\\AppData\\Local\\Temp\\ipykernel_17984\\673803681.py:40: UserWarning: To copy construct from a tensor, it is recommended to use sourceTensor.clone().detach() or sourceTensor.clone().detach().requires_grad_(True), rather than torch.tensor(sourceTensor).\n",
      "  item = {key: torch.tensor(val[idx]) for key, val in self.encodings.items()}\n"
     ]
    },
    {
     "name": "stdout",
     "output_type": "stream",
     "text": [
      "Epoch 100, Loss: 0.006524467375129461\n",
      "Validation - Epoch 100: Accuracy: 0.8203, Precision: 0.8203, Recall: 1.0000, F1: 0.9013, AUC: 0.9584\n",
      "----------\n"
     ]
    }
   ],
   "source": [
    "train_texts, val_texts, train_features, val_features, train_labels, val_labels = train_test_split(\n",
    "    train_texts, train_features, train_labels, test_size=0.3, stratify=train_labels\n",
    ")\n",
    "\n",
    "train_dataset = CustomDataset(train_texts, train_features, train_labels)\n",
    "val_dataset = CustomDataset(val_texts, val_features, val_labels)\n",
    "\n",
    "train_loader = DataLoader(train_dataset, batch_size=96, shuffle=True)\n",
    "val_loader = DataLoader(val_dataset, batch_size=8)\n",
    "\n",
    "\n",
    "# カスタムモデルのインスタンス化\n",
    "num_additional_features = len(train_features[0])\n",
    "model = DebertaWithAdditionalFeatures(deberta_model, num_additional_features)\n",
    "\n",
    "# モデルをGPUに移動\n",
    "model.to(device)\n",
    "\n",
    "# トレーニング用のハイパーパラメータ設定\n",
    "optimizer = torch.optim.AdamW(model.parameters(), lr=1e-5)\n",
    "criterion = nn.BCELoss()  # バイナリクロスエントロピー損失\n",
    "\n",
    "# トレーニングループの実行\n",
    "model.train()\n",
    "for epoch in range(100):\n",
    "    for batch in train_loader:\n",
    "        optimizer.zero_grad()\n",
    "\n",
    "        # バッチデータをGPUに移動\n",
    "        input_ids = batch['input_ids'].to(device)\n",
    "        attention_mask = batch['attention_mask'].to(device)\n",
    "        additional_features = batch['additional_features'].to(device)\n",
    "        labels = batch['labels'].unsqueeze(1).to(device)  # ラベルもGPUに移動\n",
    "\n",
    "        # モデルの出力と損失計算\n",
    "        outputs = model(input_ids, attention_mask, additional_features)\n",
    "        loss = criterion(outputs, labels)\n",
    "\n",
    "        # 逆伝播とパラメータの更新\n",
    "        loss.backward()\n",
    "        optimizer.step()\n",
    "    print(f\"Epoch {epoch + 1}, Loss: {loss.item()}\")\n",
    "\n",
    "\n",
    "    # 評価ループの追加\n",
    "    model.eval()  # 評価モードに切り替え\n",
    "    all_labels = []\n",
    "    all_preds = []\n",
    "    all_probs = []\n",
    "\n",
    "    with torch.no_grad():  # 勾配を計算しない\n",
    "        for batch in val_loader:\n",
    "            input_ids = batch['input_ids'].to(device)\n",
    "            attention_mask = batch['attention_mask'].to(device)\n",
    "            additional_features = batch['additional_features'].to(device)\n",
    "            labels = batch['labels'].unsqueeze(1).to(device)\n",
    "\n",
    "            # モデルの予測\n",
    "            outputs = model(input_ids, attention_mask, additional_features)\n",
    "            probs = torch.sigmoid(outputs).cpu().numpy()  # 確率に変換し、CPUに移動\n",
    "            preds = (probs > 0.5).astype(int)  # 0.5を閾値としてクラスに変換\n",
    "\n",
    "            # 結果を保存\n",
    "            all_labels.extend(labels.cpu().numpy())\n",
    "            all_probs.extend(probs)\n",
    "            all_preds.extend(preds)\n",
    "\n",
    "    # 評価指標の計算\n",
    "    accuracy = accuracy_score(all_labels, all_preds)\n",
    "    precision, recall, f1, _ = precision_recall_fscore_support(all_labels, all_preds, average='binary')\n",
    "    auc = roc_auc_score(all_labels, all_probs)\n",
    "\n",
    "    print(f\"Validation - Epoch {epoch + 1}: Accuracy: {accuracy:.4f}, Precision: {precision:.4f}, Recall: {recall:.4f}, F1: {f1:.4f}, AUC: {auc:.4f}\")\n",
    "\n",
    "    model.train()  # モデルをトレーニングモードに戻す\n",
    "    print(\"----------\")\n"
   ]
  },
  {
   "cell_type": "code",
   "execution_count": null,
   "id": "efbb8ba0-c05b-4e5a-860e-a3d3349c7801",
   "metadata": {},
   "outputs": [],
   "source": []
  },
  {
   "cell_type": "code",
   "execution_count": null,
   "id": "c33be251-ac0e-4e71-9f87-e20200c7165e",
   "metadata": {},
   "outputs": [],
   "source": []
  },
  {
   "cell_type": "code",
   "execution_count": null,
   "id": "fdfae8d0-8c32-4cdd-9446-2d07327532d4",
   "metadata": {},
   "outputs": [],
   "source": []
  },
  {
   "cell_type": "code",
   "execution_count": null,
   "id": "97cbd1ae-c4fd-4ff4-8f3b-31af68ee9ed2",
   "metadata": {},
   "outputs": [],
   "source": [
    "# 推論\n",
    "predictions = trainer.predict(test_dataset)\n",
    "# ロジットを取得し、シグモイド関数で確率に変換\n",
    "logits = predictions.predictions\n",
    "probs = torch.sigmoid(torch.tensor(logits))\n",
    "sample_submission[\"target\"] = probs[:,1]"
   ]
  },
  {
   "cell_type": "code",
   "execution_count": null,
   "id": "8fd803dd-1c61-4e57-9068-a4cdcdc1476e",
   "metadata": {},
   "outputs": [],
   "source": [
    "sample_submission.to_csv(\"output/baseline.csv\",index=False)"
   ]
  },
  {
   "cell_type": "code",
   "execution_count": null,
   "id": "bc456ac8-0360-462d-b684-655736081fcd",
   "metadata": {},
   "outputs": [],
   "source": []
  }
 ],
 "metadata": {
  "kernelspec": {
   "display_name": "atmaCup_env",
   "language": "python",
   "name": "atmacup_env"
  },
  "language_info": {
   "codemirror_mode": {
    "name": "ipython",
    "version": 3
   },
   "file_extension": ".py",
   "mimetype": "text/x-python",
   "name": "python",
   "nbconvert_exporter": "python",
   "pygments_lexer": "ipython3",
   "version": "3.11.4"
  }
 },
 "nbformat": 4,
 "nbformat_minor": 5
}
